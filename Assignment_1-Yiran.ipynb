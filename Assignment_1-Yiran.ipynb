{
 "cells": [
  {
   "cell_type": "markdown",
   "metadata": {},
   "source": [
    "# Assignment 1 - Probability, Linear Algebra, Programming, and Git"
   ]
  },
  {
   "cell_type": "markdown",
   "metadata": {},
   "source": [
    "## Yiran Chen\n",
    "Netid:  yc390"
   ]
  },
  {
   "cell_type": "markdown",
   "metadata": {},
   "source": [
    "Instructions for all assignments can be found [here](https://github.com/kylebradbury/ids705/blob/master/assignments/_Assignment%20Instructions.ipynb), which is also linked to from the [course syllabus](https://kylebradbury.github.io/ids705/index.html)."
   ]
  },
  {
   "cell_type": "markdown",
   "metadata": {},
   "source": [
    "# Probability and Statistics Theory"
   ]
  },
  {
   "cell_type": "markdown",
   "metadata": {},
   "source": [
    "*Note: for all assignments, write out all equations and math using markdown and [LaTeX](https://tobi.oetiker.ch/lshort/lshort.pdf). For this section of the assignment (Probability and Statistics Theory) show and type up ALL math work*"
   ]
  },
  {
   "cell_type": "markdown",
   "metadata": {},
   "source": [
    "## 1\n",
    "**[3 points]**  \n",
    "Let $f(x) = \\begin{cases}\n",
    "                0           & x < 0  \\\\\n",
    "                \\alpha x^2  & 0 \\leq x \\leq 2 \\\\\n",
    "                0           & 2 < x\n",
    "            \\end{cases}$\n",
    "            \n",
    "For what value of $\\alpha$ is $f(x)$ a valid probability density function?"
   ]
  },
  {
   "cell_type": "markdown",
   "metadata": {},
   "source": [
    "**ANSWER**"
   ]
  },
  {
   "cell_type": "markdown",
   "metadata": {},
   "source": [
    "A valid probability density function needs to satisfy:\n",
    "\n",
    "1. $f(x) >= 0$\n",
    "2. $\\int_{-\\infty}^{\\infty}f(x)dx = 1$\n",
    "\n",
    "Therefore,\n",
    "\n",
    "1. $\\alpha x^2 >= 0, \\alpha >=0 $\n",
    "2. $\\int_{0}^{2}f(x)dx = \\int_{0}^{2}\\alpha x^2 dx= \\frac{8\\alpha}{3} = 1$\n",
    "\n",
    "$\\alpha = \\frac{3}{8}$ "
   ]
  },
  {
   "cell_type": "markdown",
   "metadata": {},
   "source": [
    "## 2\n",
    "**[3 points]** What is the cumulative distribution function (CDF) that corresponds to the following probability distribution function? Please state the value of the CDF for all possible values of $x$.\n",
    "\n",
    "$f(x) = \\begin{cases}\n",
    "    \\frac{1}{3} & 0 < x < 3 \\\\\n",
    "    0           & \\text{otherwise}\n",
    "    \\end{cases}$"
   ]
  },
  {
   "cell_type": "markdown",
   "metadata": {},
   "source": [
    "**ANSWER**"
   ]
  },
  {
   "cell_type": "markdown",
   "metadata": {},
   "source": [
    "For $0<x<3$,\n",
    "$F(x) = \\int_{0}^{3}f(x)dx\n",
    "      = \\int_{0}^{3}\\frac{1}{3}dx\n",
    "      = \\frac{x}{3}$ \n",
    "      \n",
    "$F(x) = \\begin{cases}\n",
    "            0            & x < 0 \\\\\n",
    "            \\frac{x}{3}  & 0 \\leq x \\leq 3 \\\\\n",
    "            1            & x > 3 \\\\\n",
    "        \\end{cases}$"
   ]
  },
  {
   "cell_type": "markdown",
   "metadata": {},
   "source": [
    "## 3\n",
    "**[6 points]** For the probability distribution function for the random variable $X$,\n",
    "\n",
    "$f(x) = \\begin{cases}\n",
    "    \\frac{1}{3} & 0 < x < 3 \\\\\n",
    "    0           & \\text{otherwise}\n",
    "    \\end{cases}$\n",
    "    \n",
    "what is the (a) expected value and (b) variance of $X$. *Show all work*."
   ]
  },
  {
   "cell_type": "markdown",
   "metadata": {},
   "source": [
    "**ANSWER**"
   ]
  },
  {
   "cell_type": "markdown",
   "metadata": {},
   "source": [
    "$\\mu = E(x) = \\int_{-\\infty}^{\\infty}xf(x)dx \\\\\n",
    "      = \\int_{-\\infty}^{0}xf(x)dx + \\int_{0}^{3}xf(x)dx + \\int_{3}^{\\infty}xf(x)dx \\\\\n",
    "      = \\int_{0}^{3}\\frac{x}{3}dx \\\\\n",
    "      = \\left [ {\\frac{x^2}{6}} \\right ]_{0}^{3} \\\\\n",
    "      = 1.5 $"
   ]
  },
  {
   "cell_type": "markdown",
   "metadata": {},
   "source": [
    "$V(x) = \\int_{-\\infty}^{\\infty}(x - \\mu)^2 f(x)dx \\\\\n",
    "      = \\int_{-\\infty}^{0}(x - \\mu)^2 f(x)dx + \\int_{0}^{3}(x - \\mu)^2 f(x)dx + \\int_{3}^{\\infty}(x - \\mu)^2 f(x)dx \\\\\n",
    "      = \\frac{1}{3}\\int_{0}^{3}(x - \\mu)^2 dx \\\\\n",
    "      = \\frac{1}{3}\\int_{0}^{3}(x^2 - 2\\mu x + {\\mu}^2)^2 dx \\\\\n",
    "      = \\frac{1}{3} \\left [ {\\frac{1}{3} (x - \\mu)^3 - \\mu x^2 + {\\mu}^2}x \\right ]_{0}^{3} \\\\\n",
    "      = \\frac{1}{3} \\left [ {\\frac{1}{3} (x - 1.5)^3 - 1.5 x^2 + 1.5^2}x \\right ]_{0}^{3} \\\\\n",
    "      = 0.75$"
   ]
  },
  {
   "cell_type": "markdown",
   "metadata": {},
   "source": [
    "## 4\n",
    "**[6 points]** Consider the following table of data that provides the values of a discrete data vector $\\mathbf{x}$ of samples from the random variable $X$, where each entry in $\\mathbf{x}$ is given as $x_i$.\n",
    "\n",
    "*Table 1. Dataset N=5 observations*\n",
    "\n",
    "|        | $x_0$ | $x_1$ | $x_2$ | $x_3$ | $x_4$ |\n",
    "|------  |-------|-------|-------|-------|-------|\n",
    "|$\\textbf{x}$| 2     | 3     | 10    | -1    | -1    |\n",
    "\n",
    "What is the (a) mean, (b) variance, and the  of the data? \n",
    "\n",
    "*Show all work. Your answer should include the definition of mean, median, and variance in the context of discrete data.*"
   ]
  },
  {
   "cell_type": "markdown",
   "metadata": {},
   "source": [
    "**ANSWER**"
   ]
  },
  {
   "cell_type": "markdown",
   "metadata": {},
   "source": [
    "(a) mean:\n",
    "\n",
    "$\\mu = \\frac{(x_0 + x_1 + x_2 + x_3 + x_4)}{N} \\\\\n",
    "     = \\frac{(2+3+10-1-1)}{5} \\\\\n",
    "     =\\frac{13}{5}$"
   ]
  },
  {
   "cell_type": "markdown",
   "metadata": {},
   "source": [
    "(b) median:\n",
    "\n",
    "The middle value of the five observations in sorted order is 2.\n",
    "\n",
    "$median = 2$"
   ]
  },
  {
   "cell_type": "markdown",
   "metadata": {},
   "source": [
    "(c) variance:\n",
    "\n",
    "Assuming each observation is collected with equal probability of $p(x_i)=\\frac{1}{5}$\n",
    "\n",
    "$variance = \\sum (x_i - \\mu)^2 p(x_i) \\\\\n",
    "          = \\frac{1}{5}((2 - \\frac{13}{5})^2 + (3 - \\frac{13}{5})^2 + (10 - \\frac{13}{5})^2 + 2(-1 - \\frac{13}{5})^2) \\\\\n",
    "          = \\frac{406}{25}$"
   ]
  },
  {
   "cell_type": "markdown",
   "metadata": {},
   "source": [
    "## 5\n",
    "**[8 points]** Review of counting from probability theory. \n",
    "\n",
    "(a) How many different 7-place license plates are possible if the first 3 places only contain letters and the last 4 only contain numbers?\n",
    "\n",
    "(b) How many different batting orders are possible for a baseball team with 9 players?\n",
    "\n",
    "(c) How many batting orders of 5 players are possible for a team with 9 players total?\n",
    "\n",
    "(d) Let's assume this class has 26 students and we want to form project teams. How many unique teams of 3 are possible?\n",
    "\n",
    "*Hint: For each problem, determine if order matters, and if it should be calculated with or without replacement.*"
   ]
  },
  {
   "cell_type": "markdown",
   "metadata": {},
   "source": [
    "**ANSWER**"
   ]
  },
  {
   "cell_type": "markdown",
   "metadata": {},
   "source": [
    "(a) order does not matter, with replacement\n",
    "\n",
    "$26^3 \\times  10^4 = 175760000$\n"
   ]
  },
  {
   "cell_type": "markdown",
   "metadata": {},
   "source": [
    "(b) order matters, without replacement\n",
    "\n",
    "$9! = 9\\times8\\times7\\times6\\times5\\times4\\times3\\times2\\times1 = 362880$"
   ]
  },
  {
   "cell_type": "markdown",
   "metadata": {},
   "source": [
    "(c) order matters, without replacement\n",
    "\n",
    "$9\\times8\\times7\\times6\\times5 = 15120$"
   ]
  },
  {
   "cell_type": "markdown",
   "metadata": {},
   "source": [
    "(d) order doesn't matter, without replacement\n",
    "\n",
    "${{26}\\choose{3}} = \\frac{26!}{(26-3)!3!}= 2600$ "
   ]
  },
  {
   "cell_type": "markdown",
   "metadata": {},
   "source": [
    "# Linear Algebra"
   ]
  },
  {
   "cell_type": "markdown",
   "metadata": {},
   "source": [
    "## 6\n",
    "**[7 points]** **Matrix manipulations and multiplication**. Machine learning involves working with many matrices, so this exercise will provide you with the opportunity to practice those skills.\n",
    "\n",
    "Let\n",
    "$\\mathbf{A} =  \\begin{bmatrix}\n",
    "1 & 2 & 3 \\\\\n",
    "2 & 4 & 5 \\\\\n",
    "3 & 5 & 6 \n",
    "\\end{bmatrix}$, $\\mathbf{b} =  \\begin{bmatrix}\n",
    "-1  \\\\\n",
    "3  \\\\\n",
    "8  \n",
    "\\end{bmatrix}$, $\\mathbf{c} =  \\begin{bmatrix}\n",
    "4  \\\\\n",
    "-3  \\\\\n",
    "6  \n",
    "\\end{bmatrix}$, and $\\mathbf{I} =  \\begin{bmatrix}\n",
    "1 & 0 & 0 \\\\\n",
    "0 & 1 & 0 \\\\\n",
    "0 & 0 & 1 \n",
    "\\end{bmatrix}$\n",
    "\n",
    "Compute the following or indicate that it cannot be computed:\n",
    "\n",
    "1. $\\mathbf{A}\\mathbf{A}$\n",
    "2. $\\mathbf{A}\\mathbf{A}^T$\n",
    "3. $\\mathbf{A}\\mathbf{b}$\n",
    "4. $\\mathbf{A}\\mathbf{b}^T$\n",
    "5. $\\mathbf{b}\\mathbf{A}$\n",
    "6. $\\mathbf{b}^T\\mathbf{A}$\n",
    "7. $\\mathbf{b}\\mathbf{b}$\n",
    "8. $\\mathbf{b}^T\\mathbf{b}$\n",
    "9. $\\mathbf{b}\\mathbf{b}^T$\n",
    "10. $\\mathbf{b} + \\mathbf{c}^T$\n",
    "11. $\\mathbf{b}^T\\mathbf{b}^T$\n",
    "12. $\\mathbf{A}^{-1}\\mathbf{b}$\n",
    "13. $\\mathbf{A}\\circ\\mathbf{A}$\n",
    "14. $\\mathbf{b}\\circ\\mathbf{c}$\n",
    "\n",
    "*Note: The element-wise (or Hadamard) product is the product of each element in one matrix with the corresponding element in another matrix, and is represented by the symbol \"$\\circ$\".*"
   ]
  },
  {
   "cell_type": "markdown",
   "metadata": {},
   "source": [
    "**ANSWER**"
   ]
  },
  {
   "cell_type": "code",
   "execution_count": 1,
   "metadata": {},
   "outputs": [],
   "source": [
    "import numpy as np\n",
    "A = np.matrix([(1,2,3),\n",
    "              (2,4,5),\n",
    "              (3,5,6)])\n",
    "b = np.array([-1,3,8])\n",
    "c = np.array([4,-3,6])\n",
    "I = np.matrix([(1,0,0),\n",
    "              (0,1,0),\n",
    "              (0,0,1)])"
   ]
  },
  {
   "cell_type": "markdown",
   "metadata": {},
   "source": [
    "1.\n",
    "\n",
    "$\\mathbf{A}\\mathbf{A} =  \n",
    "\\begin{bmatrix}\n",
    "1 & 2 & 3 \\\\\n",
    "2 & 4 & 5 \\\\\n",
    "3 & 5 & 6 \\end{bmatrix} \\times\n",
    "\\begin{bmatrix}\n",
    "1 & 2 & 3 \\\\\n",
    "2 & 4 & 5 \\\\\n",
    "3 & 5 & 6 \\end{bmatrix} \\\\\n",
    "=\\begin{bmatrix}\n",
    "1\\times1 + 2\\times2 + 3\\times3 & 1\\times2 + 2\\times4 + 3\\times5 & 1\\times3 + 2\\times5 + 3\\times6 \\\\\n",
    "2\\times1 + 4\\times2 + 5\\times3 & 2\\times2 + 4\\times4 + 5\\times5 & 2\\times3 + 4\\times5 + 5\\times6 \\\\\n",
    "3\\times1 + 5\\times2 + 6\\times3 & 3\\times2 + 5\\times4 + 6\\times5 & 3\\times3 + 5\\times5 + 6\\times6\\end{bmatrix} \\\\\n",
    "=\\begin{bmatrix}\n",
    "14 & 25 & 31 \\\\\n",
    "25 & 45 & 56 \\\\\n",
    "31 & 56 & 70 \n",
    "\\end{bmatrix}$\n"
   ]
  },
  {
   "cell_type": "code",
   "execution_count": 2,
   "metadata": {},
   "outputs": [
    {
     "name": "stdout",
     "output_type": "stream",
     "text": [
      "AA = \n",
      " [[14 25 31]\n",
      " [25 45 56]\n",
      " [31 56 70]]\n"
     ]
    }
   ],
   "source": [
    "print('AA = \\n',np.matmul(A,A))"
   ]
  },
  {
   "cell_type": "markdown",
   "metadata": {},
   "source": [
    "2.\n",
    "\n",
    "$\\mathbf{A}\\mathbf{A}^T=\n",
    "\\begin{bmatrix}\n",
    "1 & 2 & 3 \\\\ \n",
    "2 & 4 & 5 \\\\ \n",
    "3 & 5 & 6 \\end{bmatrix} \\times\n",
    "\\begin{bmatrix} \n",
    "1 & 2 & 3 \\\\ \n",
    "2 & 4 & 5 \\\\ \n",
    "3 & 5 & 6 \\end{bmatrix} \\\\\n",
    "=\\begin{bmatrix} \n",
    "1\\times1 + 2\\times2 + 3\\times3 & 1\\times2 + 2\\times4 + 3\\times5 & 1\\times3 + 2\\times5 + 3\\times6 \\\\\n",
    "2\\times1 + 4\\times2 + 5\\times3 & 2\\times2 + 4\\times4 + 5\\times5 & 2\\times3 + 4\\times5 + 5\\times6 \\\\\n",
    "3\\times1 + 5\\times2 + 6\\times3 & 3\\times2 + 5\\times4 + 6\\times5 & 3\\times3 + 5\\times5 + 6\\times6 \\end{bmatrix} \\\\\n",
    "=\\begin{bmatrix}\n",
    "14 & 25 & 31 \\\\\n",
    "25 & 45 & 56 \\\\\n",
    "31 & 56 & 70 \n",
    "\\end{bmatrix}$"
   ]
  },
  {
   "cell_type": "code",
   "execution_count": 3,
   "metadata": {},
   "outputs": [
    {
     "name": "stdout",
     "output_type": "stream",
     "text": [
      "A(A^T) = \n",
      " [[14 25 31]\n",
      " [25 45 56]\n",
      " [31 56 70]]\n"
     ]
    }
   ],
   "source": [
    "print('A(A^T) = \\n',np.matmul(A,A.T))"
   ]
  },
  {
   "cell_type": "markdown",
   "metadata": {},
   "source": [
    "3.\n",
    "\n",
    "$\\mathbf{A}\\mathbf{b}=\n",
    "\\begin{bmatrix} \n",
    "1 & 2 & 3 \\\\\n",
    "2 & 4 & 5 \\\\ \n",
    "3 & 5 & 6 \\end{bmatrix} \\times\n",
    "\\begin{bmatrix} \n",
    "-1 \\\\\n",
    "3 \\\\ \n",
    "8 \\end{bmatrix} \\\\\n",
    "=\\begin{bmatrix} \n",
    "1\\times(-1) + 2\\times3 + 3\\times8 \\\\ \n",
    "2\\times(-1) + 4\\times3 + 5\\times8 \\\\ \n",
    "3\\times(-1) + 5\\times3 + 6\\times8 \\end{bmatrix} \\\\\n",
    "=\\begin{bmatrix}\n",
    "29 \\\\\n",
    "50 \\\\\n",
    "60\\end{bmatrix}$"
   ]
  },
  {
   "cell_type": "code",
   "execution_count": 4,
   "metadata": {},
   "outputs": [
    {
     "name": "stdout",
     "output_type": "stream",
     "text": [
      "Ab =  [[29 50 60]]\n"
     ]
    }
   ],
   "source": [
    "print('Ab = ', np.matmul(A,b))"
   ]
  },
  {
   "cell_type": "markdown",
   "metadata": {},
   "source": [
    "4.\n",
    "\n",
    "$\\mathbf{A}\\mathbf{b}^T$\n",
    "\n",
    "$((3 \\times 3) \\times (1 \\times 3))$ matrix cannot be computed.\n",
    "\n",
    "It cannot be computed as $\\mathbf{A}$ is 3x3 matrice and $\\mathbf{b}^T$ is 1x3 matrice."
   ]
  },
  {
   "cell_type": "markdown",
   "metadata": {},
   "source": [
    "5.\n",
    "\n",
    "$\\mathbf{b}\\mathbf{A}$\n",
    "\n",
    "$((3 \\times 1) \\times (3 \\times 3))$ matrix cannot be computed.\n",
    "\n",
    "It cannot be computed as $\\mathbf{b}$ is 3x1 matrix and $\\mathbf{A}^T$ is 3x3 matrice. "
   ]
  },
  {
   "cell_type": "markdown",
   "metadata": {},
   "source": [
    "6.\n",
    "\n",
    "$\\mathbf{b}^T\\mathbf{A} = \n",
    "\\begin{bmatrix} -1 & 3 & 8 \\end{bmatrix}\n",
    "\\times\n",
    "\\begin{bmatrix} \n",
    "1 & 2 & 3 \\\\ \n",
    "2 & 4 & 5 \\\\ \n",
    "3 & 5 & 6 \\end{bmatrix} \\\\\n",
    "=\\begin{bmatrix} \n",
    "-1\\times1 + 3\\times2 + 8\\times3 & -1\\times2 + 3\\times4 + 8\\times5 & -1\\times3 + 3\\times5 + 8\\times6 \\end{bmatrix} \\\\\n",
    "=\\begin{bmatrix}\n",
    "29 & 50 & 60\n",
    "\\end{bmatrix}$\n"
   ]
  },
  {
   "cell_type": "code",
   "execution_count": 5,
   "metadata": {},
   "outputs": [
    {
     "name": "stdout",
     "output_type": "stream",
     "text": [
      "(b^T)A =  [[29 50 60]]\n"
     ]
    }
   ],
   "source": [
    "print('(b^T)A = ', np.matmul(b.T,A))"
   ]
  },
  {
   "cell_type": "markdown",
   "metadata": {},
   "source": [
    "7.\n",
    "\n",
    "$\\mathbf{b}\\mathbf{b}$\n",
    "\n",
    "$((3 \\times 1) \\times (3 \\times 1))$ matrix cannot be computed.\n",
    "\n",
    "It cannot be computed as $\\mathbf{b}$ is 3x1 matrix. "
   ]
  },
  {
   "cell_type": "markdown",
   "metadata": {},
   "source": [
    "8.\n",
    "\n",
    "$\\mathbf{b}^T\\mathbf{b} = \n",
    "\\begin{bmatrix} -1 & 3 & 8 \\end{bmatrix} \\times\n",
    "\\begin{bmatrix}\n",
    "-1 \\\\ \n",
    "3 \\\\ \n",
    "8 \\end{bmatrix} \\\\\n",
    "= \\begin{bmatrix} -1\\times(-1) + 3\\times3 + 8\\times8 \\end{bmatrix} \\\\\n",
    "= \\begin{bmatrix} 1+9+64 \\end{bmatrix} \n",
    "= \\begin{bmatrix} 74 \\end{bmatrix}$\n"
   ]
  },
  {
   "cell_type": "code",
   "execution_count": 6,
   "metadata": {},
   "outputs": [
    {
     "name": "stdout",
     "output_type": "stream",
     "text": [
      "(b^T)b =  74\n"
     ]
    }
   ],
   "source": [
    "print('(b^T)b = ', np.matmul(b.T,b))"
   ]
  },
  {
   "cell_type": "markdown",
   "metadata": {},
   "source": [
    "9.\n",
    "\n",
    "$\\mathbf{b}\\mathbf{b}^T =  \n",
    "\\begin{bmatrix} \n",
    "-1 \\\\ \n",
    "3 \\\\ \n",
    "8 \\end{bmatrix} \\times\n",
    "\\begin{bmatrix} -1 & 3 & 8 \\end{bmatrix} \n",
    "= \\begin{bmatrix} \n",
    "-1\\times(-1) & -1\\times3 & -1\\times8 \\\\\n",
    "3\\times(-1) & 3\\times3 & 3\\times8 \\\\\n",
    "8\\times(-1) & 8\\times3 & 8\\times8 \\end{bmatrix}\n",
    "=\\begin{bmatrix}\n",
    "1 & -3 & -8 \\\\\n",
    "-3 & 9 & 24 \\\\\n",
    "-8 & 24 & 64 \n",
    "\\end{bmatrix}$\n"
   ]
  },
  {
   "cell_type": "code",
   "execution_count": 7,
   "metadata": {},
   "outputs": [
    {
     "name": "stdout",
     "output_type": "stream",
     "text": [
      "b(b^T) = \n",
      " [[ 1 -3 -8]\n",
      " [-3  9 24]\n",
      " [-8 24 64]]\n"
     ]
    }
   ],
   "source": [
    "b = np.matrix([(-1),(3),(8)])\n",
    "print('b(b^T) = \\n', np.matmul(b.T,b)) \n",
    "# normal numpy operation cannot get the correct result\n",
    "# need to transform b from array to matrix and switch position of b.T and b"
   ]
  },
  {
   "cell_type": "code",
   "execution_count": 8,
   "metadata": {},
   "outputs": [],
   "source": [
    "# change b back to numpy array\n",
    "b = np.array([-1,3,8])"
   ]
  },
  {
   "cell_type": "markdown",
   "metadata": {},
   "source": [
    "10.\n",
    "\n",
    "$\\mathbf{b} + \\mathbf{c}^T$\n",
    "\n",
    "It cannot be computed as $\\mathbf{b}$ is 3x1 matrice and $\\mathbf{c}^T$ is 1x3 matrice which cannot be added together."
   ]
  },
  {
   "cell_type": "markdown",
   "metadata": {},
   "source": [
    "11.\n",
    "\n",
    "$\\mathbf{b}^T\\mathbf{b}^T$\n",
    "\n",
    "$((1 \\times 3) \\times (1 \\times 3))$ matrix cannot be computed.\n",
    "\n",
    "It cannot be computed as $\\mathbf{b}^T$ is 1x3 matrix. "
   ]
  },
  {
   "cell_type": "markdown",
   "metadata": {},
   "source": [
    "12.\n",
    "\n",
    "$\\mathbf{A}^{-1}$:\n",
    "\n",
    "$\\begin{bmatrix}\n",
    "1 & 2 & 3 & | & 1 & 0 & 0 \\\\\n",
    "2 & 4 & 5 & | & 0 & 1 & 0 \\\\\n",
    "3 & 5 & 6 & | & 0 & 0 & 1 \n",
    "\\end{bmatrix} \\\\\n",
    "\\xrightarrow [R_3 = R_3 - 3 \\times R_1] {R_2 = R_2 - 2 \\times R_1}\n",
    "\\begin{bmatrix}\n",
    "1 & 2 & 3 &  | & 1 & 0 & 0 \\\\\n",
    "0 & 0 & -1 & | & -2 & 1 & 0 \\\\\n",
    "0 & -1 & -3 &| & -3 & 0 & 1 \n",
    "\\end{bmatrix} \\\\\n",
    "\\xrightarrow {R_2 \\rightleftharpoons R_3}\n",
    "\\begin{bmatrix}\n",
    "1 & 2 & 3 &  | & 1 & 0 & 0 \\\\\n",
    "0 & -1 & -3 & | & -3 & 0 & 1 \\\\\n",
    "0 & 0 & -1 &| & -2 & 1 & 0 \n",
    "\\end{bmatrix} \\\\\n",
    "\\xrightarrow [\\space R_2 = -R_2, \\space R_3 = -R_3]{R_1 = R_1 + 2 \\times R_2}\n",
    "\\begin{bmatrix}\n",
    "1 & 0 & -3 &| & -5 & 0 & 2 \\\\\n",
    "0 & 1 & 3 & | & 3 & 0 & -1 \\\\\n",
    "0 & 0 & 1 & | & 2 & -1 & 0 \n",
    "\\end{bmatrix} \\\\\n",
    "\\xrightarrow [R_2 = R_2 + 3 \\times R_3] {R_1 = R_1 - 3 \\times R_3}\n",
    "\\begin{bmatrix}\n",
    "1 & 0 & 0 & | & 1 & -3 & 2 \\\\\n",
    "0 & 1 & 0 & | & -3 & 3 & -1 \\\\\n",
    "0 & 0 & -1 &| & -2 & 1 & 0 \n",
    "\\end{bmatrix} \\\\\n",
    "\\xrightarrow {R_3 = -R_3}\n",
    "\\begin{bmatrix}\n",
    "1 & 0 & 0 & | & 1 & -3 & 2 \\\\\n",
    "0 & 1 & 0 & | & -3 & 3 & -1 \\\\\n",
    "0 & 0 & 1 &| & 2 & -1 & 0 \n",
    "\\end{bmatrix}$\n",
    "\n",
    "$\\mathbf{A}^{-1}=\n",
    "\\begin{bmatrix}\n",
    "1 & -3 & 2 \\\\\n",
    "-3 & 3 & -1 \\\\\n",
    "2 & -1 & 0 \n",
    "\\end{bmatrix}$\n",
    "\n",
    "$\\mathbf{A}^{-1}\\mathbf{b} = \n",
    "\\begin{bmatrix} \n",
    "1 & -3 & 2 \\\\ \n",
    "-3 & 3 & -1 \\\\ \n",
    "2 & -1 & 0 \\end{bmatrix}\n",
    "\\times\n",
    "\\begin{bmatrix} \n",
    "-1 \\\\\n",
    "3 \\\\ \n",
    "8 \\end{bmatrix} \\\\\n",
    "= \\begin{bmatrix} \n",
    "1\\times(-1) + (-3)\\times3 + 2\\times8 \\\\\n",
    "-3\\times(-1) + 3\\times3 + (-1)\\times8 \\\\\n",
    "2\\times(-1) + (-1)\\times3 + 0\\times8 \\end{bmatrix} \\\\\n",
    "=\\begin{bmatrix}\n",
    "6 \\\\\n",
    "4 \\\\\n",
    "-5\\end{bmatrix}$\n"
   ]
  },
  {
   "cell_type": "code",
   "execution_count": 9,
   "metadata": {},
   "outputs": [
    {
     "name": "stdout",
     "output_type": "stream",
     "text": [
      "A_inverse = \n",
      " [[ 1. -3.  2.]\n",
      " [-3.  3. -1.]\n",
      " [ 2. -1.  0.]]\n"
     ]
    }
   ],
   "source": [
    "print('A_inverse = \\n', np.linalg.inv(A))"
   ]
  },
  {
   "cell_type": "code",
   "execution_count": 10,
   "metadata": {},
   "outputs": [
    {
     "name": "stdout",
     "output_type": "stream",
     "text": [
      "(A_inverse)(b) = \n",
      " [[ 6.  4. -5.]]\n"
     ]
    }
   ],
   "source": [
    "print('(A_inverse)(b) = \\n', np.matmul(np.linalg.inv(A), b))"
   ]
  },
  {
   "cell_type": "markdown",
   "metadata": {},
   "source": [
    "13.\n",
    "\n",
    "$\\mathbf{A}\\circ\\mathbf{A} = \n",
    "\\begin{bmatrix} \n",
    "1 & 2 & 3 \\\\ \n",
    "2 & 4 & 5 \\\\ \n",
    "3 & 5 & 6 \\end{bmatrix}\n",
    "\\circ\n",
    "\\begin{bmatrix} \n",
    "1 & 2 & 3 \\\\ \n",
    "2 & 4 & 5 \\\\ \n",
    "3 & 5 & 6 \\end{bmatrix} \\\\\n",
    "=\\begin{bmatrix}\n",
    "1\\times1 & 2\\times2 & 3\\times3 \\\\\n",
    "2\\times2 & 4\\times4 & 5\\times5 \\\\ \n",
    "3\\times3 & 5\\times5 & 6\\times6\\end{bmatrix} \\\\\n",
    "=\\begin{bmatrix}\n",
    "1 & 4 & 9 \\\\\n",
    "4 & 16 & 25 \\\\\n",
    "9 & 25 & 36 \n",
    "\\end{bmatrix}$\n"
   ]
  },
  {
   "cell_type": "markdown",
   "metadata": {},
   "source": [
    "14.\n",
    "\n",
    "$\\mathbf{b}\\circ\\mathbf{c} = \n",
    "\\begin{bmatrix} -1 \\\\\n",
    "3 \\\\ \n",
    "8 \\end{bmatrix}\n",
    "\\circ\n",
    "\\begin{bmatrix} \n",
    "4 \\\\ \n",
    "-3 \\\\\n",
    "6 \\end{bmatrix} \n",
    "= \\begin{bmatrix} \n",
    "-1\\times4 \\\\\n",
    "3\\times(-3) \\\\\n",
    "8\\times6 \\end{bmatrix} \\\\\n",
    "=\\begin{bmatrix}\n",
    "-4 \\\\\n",
    "-9 \\\\\n",
    "48\n",
    "\\end{bmatrix}$\n"
   ]
  },
  {
   "cell_type": "markdown",
   "metadata": {},
   "source": [
    "## 7\n",
    "**[8 points]** **Eigenvectors and eigenvalues**. Eigenvectors and eigenvalues are useful for some machine learning algorithms, but the concepts take time to solidly grasp. For an intuitive review of these concepts, explore this [interactive website at Setosa.io](http://setosa.io/ev/eigenvectors-and-eigenvalues/). Also, the series of linear algebra videos by Grant Sanderson of 3Brown1Blue are excellent and can be viewed on youtube [here](https://www.youtube.com/playlist?list=PLZHQObOWTQDPD3MizzM2xVFitgF8hE_ab).\n",
    "\n",
    "1. Calculate the eigenvalues and corresponding eigenvectors of matrix $\\mathbf{A}$ above, from the last question.\n",
    "2. Choose one of the eigenvector/eigenvalue pairs, $\\mathbf{v}$ and $\\lambda$, and show that $\\mathbf{A} \\mathbf{v} = \\lambda \\mathbf{v}$. Also show that this relationship extends to higher orders: $\\mathbf{A} \\mathbf{A} \\mathbf{v} = \\lambda^2 \\mathbf{v}$\n",
    "3. Show that the eigenvectors are orthogonal to one another (e.g. their inner product is zero). This is true for real, symmetric matrices."
   ]
  },
  {
   "cell_type": "markdown",
   "metadata": {},
   "source": [
    "**ANSWER**"
   ]
  },
  {
   "cell_type": "markdown",
   "metadata": {},
   "source": [
    "1.Calculate the eigenvalues and corresponding eigenvectors of matrix  𝐀  above, from the last question.\n",
    "\n",
    "$det[\\mathbf{A} - \\lambda\\mathbf{I}] \\\\\n",
    "= (1-\\lambda) \n",
    "det \\begin{bmatrix}\n",
    "4-\\lambda & 5 \\\\\n",
    "5 & 6-\\lambda \\end{bmatrix}\n",
    "- 2 det \\begin{bmatrix}\n",
    "2 & 5 \\\\\n",
    "3 & 6-\\lambda \\end{bmatrix}\n",
    "+ 3 det \\begin{bmatrix}\n",
    "2 & 4-\\lambda \\\\\n",
    "3 & 5 \\end{bmatrix} \\\\\n",
    "= (1-\\lambda)((4-\\lambda)(6-\\lambda)-25) - 2(2(6-\\lambda)-15) + 3(10-3(4-\\lambda) \\\\\n",
    "= -\\lambda^3 + 11\\lambda^2 + 4\\lambda -1 \\\\\n",
    "= 0$\n",
    "\n",
    "$\\lambda_1 = 11.34481428 \\\\\n",
    "\\lambda_2 = -0.51572947 \\\\\n",
    "\\lambda_3 = 0.17091519$\n",
    "\n",
    "$v_1 = \\begin{bmatrix}\n",
    "-0.32798528 \\\\\n",
    "-0.59100905 \\\\\n",
    "-0.73697623\n",
    "\\end{bmatrix}$\n",
    "\n",
    "$v_2 = \\begin{bmatrix}\n",
    "-0.73697623 \\\\\n",
    "-0.32798528 \\\\\n",
    "0.59100905\n",
    "\\end{bmatrix}$\n",
    "\n",
    "$v_3 = \\begin{bmatrix}\n",
    "0.59100905 \\\\\n",
    "-0.73697623 \\\\\n",
    "0.32798528\n",
    "\\end{bmatrix}$"
   ]
  },
  {
   "cell_type": "code",
   "execution_count": 11,
   "metadata": {},
   "outputs": [],
   "source": [
    "import numpy as np\n",
    "from numpy import linalg as LA"
   ]
  },
  {
   "cell_type": "code",
   "execution_count": 12,
   "metadata": {},
   "outputs": [],
   "source": [
    "A = [[1, 2, 3], \n",
    "    [2, 4, 5],\n",
    "    [3, 5, 6]]"
   ]
  },
  {
   "cell_type": "code",
   "execution_count": 13,
   "metadata": {},
   "outputs": [],
   "source": [
    "A = np.array(A)"
   ]
  },
  {
   "cell_type": "code",
   "execution_count": 14,
   "metadata": {},
   "outputs": [],
   "source": [
    "w, v = LA.eig(A)\n",
    "#numpy.linalg.eig returns a tuple consisting of a vector and an array. \n",
    "#vector w contains eigenvalues\n",
    "#array v contains corresponding eigenvectors, one eigenvector per column"
   ]
  },
  {
   "cell_type": "markdown",
   "metadata": {},
   "source": [
    "2.Choose one of the eigenvector/eigenvalue pairs, $\\mathbf{v}$ and $\\lambda$, and show that $\\mathbf{A} \\mathbf{v} = \\lambda \\mathbf{v}$. Also show that this relationship extends to higher orders: $\\mathbf{A} \\mathbf{A} \\mathbf{v} = \\lambda^2 \\mathbf{v}$\n",
    "\n",
    "$\\lambda_1 = 11.34481428$\n",
    "\n",
    "$\\mathbf{v_1} = \\begin{bmatrix}\n",
    "-0.32798528 \\\\\n",
    "-0.59100905 \\\\\n",
    "-0.73697623 \\end{bmatrix}$\n",
    "\n",
    "$\\mathbf{A} \\mathbf{v_1} = \\begin{bmatrix}\n",
    "1 & 2 & 3 \\\\\n",
    "2 & 4 & 5 \\\\\n",
    "3 & 5 & 6 \\end{bmatrix}\n",
    "\\begin{bmatrix}\n",
    "-0.32798528 \\\\\n",
    "-0.59100905 \\\\\n",
    "-0.73697623 \\end{bmatrix}\n",
    "= \\begin{bmatrix}\n",
    "-3.72093206 \\\\\n",
    "-6.70488789 \\\\\n",
    "-8.36085845 \\end{bmatrix}$\n",
    "\n",
    "$\\lambda_1 \\mathbf{v_1} = 11.34481428 \\begin{bmatrix}\n",
    "-0.32798528 \\\\\n",
    "-0.59100905 \\\\\n",
    "-0.73697623 \\end{bmatrix}\n",
    "= \\begin{bmatrix}\n",
    "-3.72093206 \\\\\n",
    "-6.70488789 \\\\\n",
    "-8.36085845 \\end{bmatrix}$\n",
    "\n",
    "$\\mathbf{A} \\mathbf{A} \\mathbf{v_1} = \\begin{bmatrix}\n",
    "1 & 2 & 3 \\\\\n",
    "2 & 4 & 5 \\\\\n",
    "3 & 5 & 6 \\end{bmatrix}\n",
    "\\begin{bmatrix}\n",
    "1 & 2 & 3 \\\\\n",
    "2 & 4 & 5 \\\\\n",
    "3 & 5 & 6 \\end{bmatrix}\n",
    "\\begin{bmatrix}\n",
    "-0.32798528 \\\\\n",
    "-0.59100905 \\\\\n",
    "-0.73697623 \\end{bmatrix}\n",
    "= \\begin{bmatrix}\n",
    "-42.2132832 \\\\\n",
    "-76.06570795 \\\\\n",
    "-94.85238636 \\end{bmatrix}$\n",
    "\n",
    "${\\lambda_1}^2 \\mathbf{v_1} = {11.34481428}^2 \\begin{bmatrix}\n",
    "-0.32798528 \\\\\n",
    "-0.59100905 \\\\\n",
    "-0.73697623 \\end{bmatrix}\n",
    "= \\begin{bmatrix}\n",
    "-42.2132832 \\\\\n",
    "-76.06570795 \\\\\n",
    "-94.85238636 \\end{bmatrix}$"
   ]
  },
  {
   "cell_type": "code",
   "execution_count": 15,
   "metadata": {},
   "outputs": [],
   "source": [
    "w1, w2, w3 = w # lambdas"
   ]
  },
  {
   "cell_type": "code",
   "execution_count": 16,
   "metadata": {},
   "outputs": [],
   "source": [
    "v1, v2, v3= v[:,0], v[:,1], v[:,2] # eigenvectors"
   ]
  },
  {
   "cell_type": "code",
   "execution_count": 17,
   "metadata": {},
   "outputs": [
    {
     "name": "stdout",
     "output_type": "stream",
     "text": [
      "[-3.72093206 -6.70488789 -8.36085845]\n",
      "[-3.72093206 -6.70488789 -8.36085845]\n"
     ]
    }
   ],
   "source": [
    "print(np.dot(A, v1))\n",
    "print(w1*v1)"
   ]
  },
  {
   "cell_type": "code",
   "execution_count": 18,
   "metadata": {},
   "outputs": [
    {
     "name": "stdout",
     "output_type": "stream",
     "text": [
      "[-42.2132832  -76.06570795 -94.85238636]\n",
      "[-42.2132832  -76.06570795 -94.85238636]\n"
     ]
    }
   ],
   "source": [
    "print(np.dot(np.dot(A, A), v1))\n",
    "print(np.dot(np.dot(w1, w1), v1))"
   ]
  },
  {
   "cell_type": "markdown",
   "metadata": {},
   "source": [
    "3.Show that the eigenvectors are orthogonal to one another (e.g. their inner product is zero). This is true for real, symmetric matrices.\n",
    "\n",
    "$\\mathbf{v_1}\\mathbf{v_2} = \\begin{bmatrix} -0.32798528\\ -0.59100905\\ -0.73697623 \\end{bmatrix}\n",
    "\\begin{bmatrix}\n",
    "-0.73697623 \\\\\n",
    "-0.32798528 \\\\\n",
    "0.59100905\n",
    "\\end{bmatrix} = 0$\n",
    "\n",
    "$\\mathbf{v_1}\\mathbf{v_3} = \\begin{bmatrix} -0.32798528\\ -0.59100905\\ -0.73697623 \\end{bmatrix}\n",
    "\\begin{bmatrix}\n",
    "0.59100905 \\\\\n",
    "-0.73697623 \\\\\n",
    "0.32798528\n",
    "\\end{bmatrix} = 0$\n",
    "\n",
    "$\\mathbf{v_2}\\mathbf{v_3} = \\begin{bmatrix} -0.73697623\\ -0.32798528\\ 0.59100905 \\end{bmatrix}\n",
    "\\begin{bmatrix}\n",
    "0.59100905 \\\\\n",
    "-0.73697623 \\\\\n",
    "0.32798528\n",
    "\\end{bmatrix} = 0$"
   ]
  },
  {
   "cell_type": "code",
   "execution_count": 19,
   "metadata": {},
   "outputs": [
    {
     "name": "stdout",
     "output_type": "stream",
     "text": [
      "v1v2 =  -2.220446049250313e-16\n",
      "v2v3 =  -1.0547118733938987e-15\n",
      "v1v3 =  -4.440892098500626e-16\n"
     ]
    }
   ],
   "source": [
    "print('v1v2 = ',np.dot(v1,v2))\n",
    "print('v2v3 = ',np.dot(v2,v3))\n",
    "print('v1v3 = ',np.dot(v1,v3))"
   ]
  },
  {
   "cell_type": "markdown",
   "metadata": {},
   "source": [
    "# Numerical Programming"
   ]
  },
  {
   "cell_type": "markdown",
   "metadata": {},
   "source": [
    "## 8\n",
    "**[10 points]** Loading data and gathering insights from a real dataset\n",
    "\n",
    "**Data**. The data for this problem can be found in the `data` subfolder in the `assignments` folder on [github](https://github.com/kylebradbury/ids705). The filename is `egrid2016.xlsx`. This dataset is the Environmental Protection Agency's (EPA) [Emissions & Generation Resource Integrated Database (eGRID)](https://www.epa.gov/energy/emissions-generation-resource-integrated-database-egrid) containing information about all power plants in the United States, the amount of generation they produce, what fuel they use, the location of the plant, and many more quantities. We'll be using a subset of those data.\n",
    "\n",
    "The fields we'll be using include:\t\t\t\t\t\n",
    "    \n",
    "|field    |description|\n",
    "|:-----   |:-----|\n",
    "|SEQPLT16 |eGRID2016 Plant file sequence number (the index)| \n",
    "|PSTATABB |Plant state abbreviation|\n",
    "|PNAME    |Plant name |\n",
    "|LAT      |Plant latitude |\n",
    "|LON      |Plant longitude|\n",
    "|PLPRMFL  |Plant primary fuel |\n",
    "|CAPFAC   |Plant capacity factor |\n",
    "|NAMEPCAP |Plant nameplate capacity (Megawatts MW)|\n",
    "|PLNGENAN |Plant annual net generation (Megawatt-hours MWh)|\n",
    "|PLCO2EQA |Plant annual CO2 equivalent emissions (tons)|\n",
    "\n",
    "For more details on the data, you can refer to the [eGrid technical documents](https://www.epa.gov/sites/production/files/2018-02/documents/egrid2016_technicalsupportdocument_0.pdf). For example, you may want to review page 45 and the section \"Plant Primary Fuel (PLPRMFL)\", which gives the full names of the fuel types including WND for wind, NG for natural gas, BIT for Bituminous coal, etc.\n",
    "\n",
    "There also are a couple of \"gotchas\" to watch out for with this dataset:\n",
    "- The headers are on the second row and you'll want to ignore the first row (they're more detailed descriptions of the headers).\n",
    "- NaN values represent blanks in the data. These will appear regularly in real-world data, so getting experience working with it will be important.\n",
    "\n",
    "**Your objective**. For this dataset, your goal is answer the following questions about electricity generation in the United States:\n",
    "\n",
    "**(a)** Which plant has generated the most energy (measured in MWh)?\n",
    "\n",
    "**(b)** What is the name of the northern-most power plant in the United States?\n",
    "\n",
    "**(c)** What is the state where the northern-most power plant in the United States is located?\n",
    "\n",
    "**(d)** Plot a bar plot showing the amount of energy produced by each fuel for the plant. \n",
    "\n",
    "**(e)** From the plot in (d), which fuel for generation produces the most energy (MWh) in the United States?"
   ]
  },
  {
   "cell_type": "markdown",
   "metadata": {},
   "source": [
    "**ANSWER**"
   ]
  },
  {
   "cell_type": "code",
   "execution_count": 20,
   "metadata": {},
   "outputs": [],
   "source": [
    "import os\n",
    "import pandas as pd\n",
    "import seaborn as sns\n",
    "import matplotlib.pyplot as plt"
   ]
  },
  {
   "cell_type": "code",
   "execution_count": 21,
   "metadata": {},
   "outputs": [],
   "source": [
    "egrid = pd.read_excel('/Users/yiran/Desktop/IDS705ML/ids705/assignments/data/egrid2016.xlsx', \n",
    "                      skiprows=[0])"
   ]
  },
  {
   "cell_type": "code",
   "execution_count": 22,
   "metadata": {},
   "outputs": [
    {
     "data": {
      "text/html": [
       "<div>\n",
       "<style scoped>\n",
       "    .dataframe tbody tr th:only-of-type {\n",
       "        vertical-align: middle;\n",
       "    }\n",
       "\n",
       "    .dataframe tbody tr th {\n",
       "        vertical-align: top;\n",
       "    }\n",
       "\n",
       "    .dataframe thead th {\n",
       "        text-align: right;\n",
       "    }\n",
       "</style>\n",
       "<table border=\"1\" class=\"dataframe\">\n",
       "  <thead>\n",
       "    <tr style=\"text-align: right;\">\n",
       "      <th></th>\n",
       "      <th>SEQPLT16</th>\n",
       "      <th>PSTATABB</th>\n",
       "      <th>PNAME</th>\n",
       "      <th>LAT</th>\n",
       "      <th>LON</th>\n",
       "      <th>PLPRMFL</th>\n",
       "      <th>CAPFAC</th>\n",
       "      <th>NAMEPCAP</th>\n",
       "      <th>PLNGENAN</th>\n",
       "      <th>PLCO2EQA</th>\n",
       "    </tr>\n",
       "  </thead>\n",
       "  <tbody>\n",
       "    <tr>\n",
       "      <td>0</td>\n",
       "      <td>1</td>\n",
       "      <td>AK</td>\n",
       "      <td>7-Mile Ridge Wind Project</td>\n",
       "      <td>63.210689</td>\n",
       "      <td>-143.247156</td>\n",
       "      <td>WND</td>\n",
       "      <td>NaN</td>\n",
       "      <td>1.8</td>\n",
       "      <td>NaN</td>\n",
       "      <td>NaN</td>\n",
       "    </tr>\n",
       "    <tr>\n",
       "      <td>1</td>\n",
       "      <td>2</td>\n",
       "      <td>AK</td>\n",
       "      <td>Agrium Kenai Nitrogen Operations</td>\n",
       "      <td>60.673200</td>\n",
       "      <td>-151.378400</td>\n",
       "      <td>NG</td>\n",
       "      <td>NaN</td>\n",
       "      <td>21.6</td>\n",
       "      <td>NaN</td>\n",
       "      <td>NaN</td>\n",
       "    </tr>\n",
       "    <tr>\n",
       "      <td>2</td>\n",
       "      <td>3</td>\n",
       "      <td>AK</td>\n",
       "      <td>Alakanuk</td>\n",
       "      <td>62.683300</td>\n",
       "      <td>-164.654400</td>\n",
       "      <td>DFO</td>\n",
       "      <td>0.05326</td>\n",
       "      <td>2.6</td>\n",
       "      <td>1213.001</td>\n",
       "      <td>1049.863</td>\n",
       "    </tr>\n",
       "    <tr>\n",
       "      <td>3</td>\n",
       "      <td>4</td>\n",
       "      <td>AK</td>\n",
       "      <td>Allison Creek Hydro</td>\n",
       "      <td>61.084444</td>\n",
       "      <td>-146.353333</td>\n",
       "      <td>WAT</td>\n",
       "      <td>0.01547</td>\n",
       "      <td>6.5</td>\n",
       "      <td>881.000</td>\n",
       "      <td>0.000</td>\n",
       "    </tr>\n",
       "    <tr>\n",
       "      <td>4</td>\n",
       "      <td>5</td>\n",
       "      <td>AK</td>\n",
       "      <td>Ambler</td>\n",
       "      <td>67.087980</td>\n",
       "      <td>-157.856719</td>\n",
       "      <td>DFO</td>\n",
       "      <td>0.13657</td>\n",
       "      <td>1.1</td>\n",
       "      <td>1315.999</td>\n",
       "      <td>1087.881</td>\n",
       "    </tr>\n",
       "  </tbody>\n",
       "</table>\n",
       "</div>"
      ],
      "text/plain": [
       "   SEQPLT16 PSTATABB                             PNAME        LAT         LON  \\\n",
       "0         1       AK         7-Mile Ridge Wind Project  63.210689 -143.247156   \n",
       "1         2       AK  Agrium Kenai Nitrogen Operations  60.673200 -151.378400   \n",
       "2         3       AK                          Alakanuk  62.683300 -164.654400   \n",
       "3         4       AK               Allison Creek Hydro  61.084444 -146.353333   \n",
       "4         5       AK                            Ambler  67.087980 -157.856719   \n",
       "\n",
       "  PLPRMFL   CAPFAC  NAMEPCAP  PLNGENAN  PLCO2EQA  \n",
       "0     WND      NaN       1.8       NaN       NaN  \n",
       "1      NG      NaN      21.6       NaN       NaN  \n",
       "2     DFO  0.05326       2.6  1213.001  1049.863  \n",
       "3     WAT  0.01547       6.5   881.000     0.000  \n",
       "4     DFO  0.13657       1.1  1315.999  1087.881  "
      ]
     },
     "execution_count": 22,
     "metadata": {},
     "output_type": "execute_result"
    }
   ],
   "source": [
    "egrid.head()"
   ]
  },
  {
   "cell_type": "code",
   "execution_count": 23,
   "metadata": {},
   "outputs": [
    {
     "data": {
      "text/plain": [
       "LAT         0.004223\n",
       "LON         0.004223\n",
       "CAPFAC      0.172108\n",
       "NAMEPCAP    0.001339\n",
       "PLNGENAN    0.172108\n",
       "PLCO2EQA    0.210114\n",
       "dtype: float64"
      ]
     },
     "execution_count": 23,
     "metadata": {},
     "output_type": "execute_result"
    }
   ],
   "source": [
    "egrid[['LAT','LON','CAPFAC','NAMEPCAP','PLNGENAN','PLCO2EQA']] \\\n",
    ".isnull().sum() / len(egrid)"
   ]
  },
  {
   "cell_type": "markdown",
   "metadata": {},
   "source": [
    "(a) Which plant has generated the most energy (measured in MWh)?\n",
    "> Palo Verde"
   ]
  },
  {
   "cell_type": "code",
   "execution_count": 24,
   "metadata": {},
   "outputs": [
    {
     "data": {
      "text/html": [
       "<div>\n",
       "<style scoped>\n",
       "    .dataframe tbody tr th:only-of-type {\n",
       "        vertical-align: middle;\n",
       "    }\n",
       "\n",
       "    .dataframe tbody tr th {\n",
       "        vertical-align: top;\n",
       "    }\n",
       "\n",
       "    .dataframe thead th {\n",
       "        text-align: right;\n",
       "    }\n",
       "</style>\n",
       "<table border=\"1\" class=\"dataframe\">\n",
       "  <thead>\n",
       "    <tr style=\"text-align: right;\">\n",
       "      <th></th>\n",
       "      <th>PSTATABB</th>\n",
       "      <th>PNAME</th>\n",
       "    </tr>\n",
       "  </thead>\n",
       "  <tbody>\n",
       "    <tr>\n",
       "      <td>390</td>\n",
       "      <td>AZ</td>\n",
       "      <td>Palo Verde</td>\n",
       "    </tr>\n",
       "  </tbody>\n",
       "</table>\n",
       "</div>"
      ],
      "text/plain": [
       "    PSTATABB       PNAME\n",
       "390       AZ  Palo Verde"
      ]
     },
     "execution_count": 24,
     "metadata": {},
     "output_type": "execute_result"
    }
   ],
   "source": [
    "egrid['PLNGENAN'].max()\n",
    "egrid[['PSTATABB','PNAME']][egrid['PLNGENAN']==egrid['PLNGENAN'].max()]"
   ]
  },
  {
   "cell_type": "markdown",
   "metadata": {},
   "source": [
    "(b) What is the name of the northern-most power plant in the United States?\n",
    "> Barrow"
   ]
  },
  {
   "cell_type": "code",
   "execution_count": 25,
   "metadata": {},
   "outputs": [
    {
     "data": {
      "text/html": [
       "<div>\n",
       "<style scoped>\n",
       "    .dataframe tbody tr th:only-of-type {\n",
       "        vertical-align: middle;\n",
       "    }\n",
       "\n",
       "    .dataframe tbody tr th {\n",
       "        vertical-align: top;\n",
       "    }\n",
       "\n",
       "    .dataframe thead th {\n",
       "        text-align: right;\n",
       "    }\n",
       "</style>\n",
       "<table border=\"1\" class=\"dataframe\">\n",
       "  <thead>\n",
       "    <tr style=\"text-align: right;\">\n",
       "      <th></th>\n",
       "      <th>PSTATABB</th>\n",
       "      <th>PNAME</th>\n",
       "    </tr>\n",
       "  </thead>\n",
       "  <tbody>\n",
       "    <tr>\n",
       "      <td>11</td>\n",
       "      <td>AK</td>\n",
       "      <td>Barrow</td>\n",
       "    </tr>\n",
       "  </tbody>\n",
       "</table>\n",
       "</div>"
      ],
      "text/plain": [
       "   PSTATABB   PNAME\n",
       "11       AK  Barrow"
      ]
     },
     "execution_count": 25,
     "metadata": {},
     "output_type": "execute_result"
    }
   ],
   "source": [
    "egrid['LAT'].max()\n",
    "egrid[['PSTATABB','PNAME']][egrid['LAT']==egrid['LAT'].max()]"
   ]
  },
  {
   "cell_type": "markdown",
   "metadata": {},
   "source": [
    "(c) What is the state where the northern-most power plant in the United States is located?\n",
    "> Alaska (AK)"
   ]
  },
  {
   "cell_type": "code",
   "execution_count": 26,
   "metadata": {},
   "outputs": [
    {
     "data": {
      "text/html": [
       "<div>\n",
       "<style scoped>\n",
       "    .dataframe tbody tr th:only-of-type {\n",
       "        vertical-align: middle;\n",
       "    }\n",
       "\n",
       "    .dataframe tbody tr th {\n",
       "        vertical-align: top;\n",
       "    }\n",
       "\n",
       "    .dataframe thead th {\n",
       "        text-align: right;\n",
       "    }\n",
       "</style>\n",
       "<table border=\"1\" class=\"dataframe\">\n",
       "  <thead>\n",
       "    <tr style=\"text-align: right;\">\n",
       "      <th></th>\n",
       "      <th>SEQPLT16</th>\n",
       "      <th>PSTATABB</th>\n",
       "      <th>PNAME</th>\n",
       "      <th>LAT</th>\n",
       "      <th>LON</th>\n",
       "      <th>PLPRMFL</th>\n",
       "      <th>CAPFAC</th>\n",
       "      <th>NAMEPCAP</th>\n",
       "      <th>PLNGENAN</th>\n",
       "      <th>PLCO2EQA</th>\n",
       "    </tr>\n",
       "  </thead>\n",
       "  <tbody>\n",
       "    <tr>\n",
       "      <td>11</td>\n",
       "      <td>12</td>\n",
       "      <td>AK</td>\n",
       "      <td>Barrow</td>\n",
       "      <td>71.292</td>\n",
       "      <td>-156.7786</td>\n",
       "      <td>NG</td>\n",
       "      <td>0.28208</td>\n",
       "      <td>20.3</td>\n",
       "      <td>50162.0</td>\n",
       "      <td>44205.17</td>\n",
       "    </tr>\n",
       "  </tbody>\n",
       "</table>\n",
       "</div>"
      ],
      "text/plain": [
       "    SEQPLT16 PSTATABB   PNAME     LAT       LON PLPRMFL   CAPFAC  NAMEPCAP  \\\n",
       "11        12       AK  Barrow  71.292 -156.7786      NG  0.28208      20.3   \n",
       "\n",
       "    PLNGENAN  PLCO2EQA  \n",
       "11   50162.0  44205.17  "
      ]
     },
     "execution_count": 26,
     "metadata": {},
     "output_type": "execute_result"
    }
   ],
   "source": [
    "egrid[egrid['PNAME']=='Barrow']"
   ]
  },
  {
   "cell_type": "markdown",
   "metadata": {},
   "source": [
    "(d) Plot a bar plot showing the amount of energy produced by each fuel for the plant."
   ]
  },
  {
   "cell_type": "code",
   "execution_count": 27,
   "metadata": {},
   "outputs": [
    {
     "data": {
      "text/html": [
       "<div>\n",
       "<style scoped>\n",
       "    .dataframe tbody tr th:only-of-type {\n",
       "        vertical-align: middle;\n",
       "    }\n",
       "\n",
       "    .dataframe tbody tr th {\n",
       "        vertical-align: top;\n",
       "    }\n",
       "\n",
       "    .dataframe thead th {\n",
       "        text-align: right;\n",
       "    }\n",
       "</style>\n",
       "<table border=\"1\" class=\"dataframe\">\n",
       "  <thead>\n",
       "    <tr style=\"text-align: right;\">\n",
       "      <th></th>\n",
       "      <th>PNAME</th>\n",
       "      <th>PLPRMFL</th>\n",
       "    </tr>\n",
       "  </thead>\n",
       "  <tbody>\n",
       "    <tr>\n",
       "      <td>6364</td>\n",
       "      <td>12 Applegate Solar LLC</td>\n",
       "      <td>SUN</td>\n",
       "    </tr>\n",
       "    <tr>\n",
       "      <td>3893</td>\n",
       "      <td>126 Grove Solar LLC</td>\n",
       "      <td>SUN</td>\n",
       "    </tr>\n",
       "    <tr>\n",
       "      <td>442</td>\n",
       "      <td>1420 Coil Av #C</td>\n",
       "      <td>SUN</td>\n",
       "    </tr>\n",
       "    <tr>\n",
       "      <td>6365</td>\n",
       "      <td>145 Talmadge Solar</td>\n",
       "      <td>SUN</td>\n",
       "    </tr>\n",
       "    <tr>\n",
       "      <td>3164</td>\n",
       "      <td>1515 S Caron Road</td>\n",
       "      <td>NG</td>\n",
       "    </tr>\n",
       "  </tbody>\n",
       "</table>\n",
       "</div>"
      ],
      "text/plain": [
       "                       PNAME PLPRMFL\n",
       "6364  12 Applegate Solar LLC     SUN\n",
       "3893     126 Grove Solar LLC     SUN\n",
       "442          1420 Coil Av #C     SUN\n",
       "6365      145 Talmadge Solar     SUN\n",
       "3164       1515 S Caron Road      NG"
      ]
     },
     "execution_count": 27,
     "metadata": {},
     "output_type": "execute_result"
    }
   ],
   "source": [
    "df = egrid[['PNAME','PLPRMFL']].sort_values(by='PNAME')\n",
    "df.head()"
   ]
  },
  {
   "cell_type": "code",
   "execution_count": 28,
   "metadata": {},
   "outputs": [
    {
     "data": {
      "text/plain": [
       "False"
      ]
     },
     "execution_count": 28,
     "metadata": {},
     "output_type": "execute_result"
    }
   ],
   "source": [
    "# check for one-to-one relationship between columns\n",
    "def isOneToOne(egrid, col1, col2):\n",
    "    a = df.groupby(col1)[col2].count().max()\n",
    "    b = df.groupby(col2)[col1].count().max()\n",
    "    return a + b == 2\n",
    "\n",
    "# check whether Plant and Fuel is one-to-one relationship\n",
    "isOneToOne(egrid, 'PNAME','PLPRMFL')"
   ]
  },
  {
   "cell_type": "code",
   "execution_count": 29,
   "metadata": {
    "scrolled": true
   },
   "outputs": [
    {
     "data": {
      "text/html": [
       "<div>\n",
       "<style scoped>\n",
       "    .dataframe tbody tr th:only-of-type {\n",
       "        vertical-align: middle;\n",
       "    }\n",
       "\n",
       "    .dataframe tbody tr th {\n",
       "        vertical-align: top;\n",
       "    }\n",
       "\n",
       "    .dataframe thead th {\n",
       "        text-align: right;\n",
       "    }\n",
       "</style>\n",
       "<table border=\"1\" class=\"dataframe\">\n",
       "  <thead>\n",
       "    <tr style=\"text-align: right;\">\n",
       "      <th></th>\n",
       "      <th>PLPRMFL</th>\n",
       "      <th>PLNGENAN</th>\n",
       "    </tr>\n",
       "  </thead>\n",
       "  <tbody>\n",
       "    <tr>\n",
       "      <td>0</td>\n",
       "      <td>AB</td>\n",
       "      <td>9.412637e+05</td>\n",
       "    </tr>\n",
       "    <tr>\n",
       "      <td>1</td>\n",
       "      <td>BFG</td>\n",
       "      <td>7.396800e+05</td>\n",
       "    </tr>\n",
       "    <tr>\n",
       "      <td>2</td>\n",
       "      <td>BIT</td>\n",
       "      <td>5.049193e+08</td>\n",
       "    </tr>\n",
       "    <tr>\n",
       "      <td>3</td>\n",
       "      <td>BLQ</td>\n",
       "      <td>2.609711e+07</td>\n",
       "    </tr>\n",
       "    <tr>\n",
       "      <td>4</td>\n",
       "      <td>COG</td>\n",
       "      <td>1.398400e+04</td>\n",
       "    </tr>\n",
       "  </tbody>\n",
       "</table>\n",
       "</div>"
      ],
      "text/plain": [
       "  PLPRMFL      PLNGENAN\n",
       "0      AB  9.412637e+05\n",
       "1     BFG  7.396800e+05\n",
       "2     BIT  5.049193e+08\n",
       "3     BLQ  2.609711e+07\n",
       "4     COG  1.398400e+04"
      ]
     },
     "execution_count": 29,
     "metadata": {},
     "output_type": "execute_result"
    }
   ],
   "source": [
    "egrid_grped = egrid[['PLPRMFL','PLNGENAN']].groupby('PLPRMFL').sum().reset_index()\n",
    "egrid_grped.head()"
   ]
  },
  {
   "cell_type": "code",
   "execution_count": 30,
   "metadata": {},
   "outputs": [
    {
     "data": {
      "image/png": "[encoded data removed]",
      "text/plain": [
       "<Figure size 1080x576 with 1 Axes>"
      ]
     },
     "metadata": {
      "needs_background": "light"
     },
     "output_type": "display_data"
    }
   ],
   "source": [
    "plt.figure(figsize=(15,8))\n",
    "sns.barplot(x='PLPRMFL',y='PLNGENAN',data=egrid_grped)\n",
    "plt.xticks(rotation=90)\n",
    "plt.xlabel('Plant primary fuel')\n",
    "plt.ylabel('Plant annual net generation (MWh)')\n",
    "plt.title('Energy produced by each fuel for the plant')\n",
    "plt.show()"
   ]
  },
  {
   "cell_type": "markdown",
   "metadata": {},
   "source": [
    "(e) From the plot in (e), which fuel for generation produces the most energy (MWh) in the United States?\n",
    "> Natural Gas (NG)"
   ]
  },
  {
   "cell_type": "code",
   "execution_count": 31,
   "metadata": {},
   "outputs": [
    {
     "data": {
      "text/plain": [
       "PLNGENAN    1.314956e+09\n",
       "Name: NG, dtype: float64"
      ]
     },
     "execution_count": 31,
     "metadata": {},
     "output_type": "execute_result"
    }
   ],
   "source": [
    "egrid[['PLPRMFL','PLNGENAN']].groupby('PLPRMFL') \\\n",
    ".sum().sort_values('PLNGENAN', ascending=False).iloc[0]"
   ]
  },
  {
   "cell_type": "markdown",
   "metadata": {},
   "source": [
    "## 9\n",
    "**[8 points]** Speed comparison between vectorized and non-vectorized code. Begin by creating an array of 10 million random numbers using the numpy random.randn module. Compute the sum of the squares first in a for loop, then using Numpy's `dot` module. Time how long it takes to compute each and report the results and report the output. How many times faster is the vectorized code than the for loop approach?\n",
    "\n",
    "*Note: all code should be well commented, properly formatted, and your answers should be output using the `print()` function as follows (where the # represents your answers, to a reasonable precision):\n",
    "\n",
    "`Time [sec] (non-vectorized): ######`\n",
    "\n",
    "`Time [sec] (vectorized):     ######`\n",
    "\n",
    "`The vectorized code is ##### times faster than the vectorized code`"
   ]
  },
  {
   "cell_type": "markdown",
   "metadata": {},
   "source": [
    "**ANSWER**"
   ]
  },
  {
   "cell_type": "code",
   "execution_count": 38,
   "metadata": {},
   "outputs": [],
   "source": [
    "import numpy as np\n",
    "import time"
   ]
  },
  {
   "cell_type": "code",
   "execution_count": 39,
   "metadata": {},
   "outputs": [],
   "source": [
    "np_array = np.random.randn(10000000) # create an array of 10 million random numbers"
   ]
  },
  {
   "cell_type": "code",
   "execution_count": 40,
   "metadata": {},
   "outputs": [],
   "source": [
    "# non-vectorized\n",
    "sum_of_sqrs = 0\n",
    "t0 = time.time()\n",
    "for num in np_array:\n",
    "    sum_of_sqrs += num**2\n",
    "t1 = time.time()\n",
    "time_nonvectorized = t1 - t0"
   ]
  },
  {
   "cell_type": "code",
   "execution_count": 41,
   "metadata": {},
   "outputs": [],
   "source": [
    "# vectorized\n",
    "t2 = time.time()\n",
    "ans = np.dot(np_array, np_array)\n",
    "t3 = time.time()\n",
    "time_vectorized = t3 - t2"
   ]
  },
  {
   "cell_type": "code",
   "execution_count": 42,
   "metadata": {},
   "outputs": [
    {
     "name": "stdout",
     "output_type": "stream",
     "text": [
      "Time [sec] (non-vectorized): 5.46594\n",
      "Time [sec] (vectorized): 0.00847\n",
      "The vectorized code is 645.16094 times faster than the non-vectorized code\n"
     ]
    }
   ],
   "source": [
    "print('Time [sec] (non-vectorized): %.5f' %time_nonvectorized)\n",
    "print('Time [sec] (vectorized): %.5f' %time_vectorized)\n",
    "print('The vectorized code is %.5f times faster than the non-vectorized code' %(time_nonvectorized/time_vectorized))\n"
   ]
  },
  {
   "cell_type": "markdown",
   "metadata": {},
   "source": [
    "## 10\n",
    "**[10 points]** One popular Agile development framework is Scrum (a paradigm recommended for data science projects). It emphasizes the continual evolution of code for projects, becoming progressively better, but starting with a quickly developed minimum viable product. This often means that code written early on is not optimized, and that's a good thing - it's best to get it to work first before optimizing. Imagine that you wrote the following code during a sprint towards getting an end-to-end system working. Vectorize the following code and show the difference in speed between the current implementation and a vectorized version.\n",
    "\n",
    "The function below computes the function $f(x,y) = x^2 - 2 y^2$ and determines whether this quantity is above or below a given threshold, `thresh=0`. This is done for $x,y \\in \\{-4,4\\}$, over a 2,000-by-2,000 grid covering that domain.\n",
    "\n",
    "(a) Vectorize this code and demonstrate (as in the last exercise) the speed increase through vectorization and (b) plot the resulting data - both the function $f(x,y)$ and the thresholded output - using [`imshow`](https://matplotlib.org/api/_as_gen/matplotlib.pyplot.imshow.html?highlight=matplotlib%20pyplot%20imshow#matplotlib.pyplot.imshow) from `matplotlib`.\n",
    "\n",
    "*Hint: look at the `numpy` [`meshgrid`](https://docs.scipy.org/doc/numpy-1.13.0/reference/generated/numpy.meshgrid.html) documentation*"
   ]
  },
  {
   "cell_type": "markdown",
   "metadata": {},
   "source": [
    "**ANSWER**"
   ]
  },
  {
   "cell_type": "code",
   "execution_count": 39,
   "metadata": {},
   "outputs": [],
   "source": [
    "import numpy as np\n",
    "import time\n",
    "import matplotlib.pyplot as plt\n",
    "from matplotlib import colors"
   ]
  },
  {
   "cell_type": "code",
   "execution_count": 40,
   "metadata": {},
   "outputs": [],
   "source": [
    "nvalues = 2000\n",
    "xvalues = np.linspace(-4,4,nvalues)\n",
    "yvalues = np.linspace(-4,4,nvalues)\n",
    "thresh  = 0"
   ]
  },
  {
   "cell_type": "code",
   "execution_count": 41,
   "metadata": {},
   "outputs": [],
   "source": [
    "# Nonvectorized implementation\n",
    "t0 = time.time()\n",
    "f = np.zeros((nvalues,nvalues))\n",
    "f_thresholded = np.zeros((nvalues,nvalues))\n",
    "for ix, x in enumerate(xvalues):\n",
    "    for iy, y in enumerate(yvalues):\n",
    "        f[ix,iy]             = x**2 - 2 * y**2\n",
    "        f_thresholded[ix,iy] = f[ix,iy] > thresh\n",
    "t1 = time.time()\n",
    "time_nonvectorized = t1 - t0"
   ]
  },
  {
   "cell_type": "code",
   "execution_count": 42,
   "metadata": {},
   "outputs": [],
   "source": [
    "# Vectorized implementation\n",
    "t2 = time.time()\n",
    "X, Y = np.meshgrid(xvalues, yvalues)\n",
    "f = X ** 2 - 2 * Y**2\n",
    "f_thresholded = f > thresh\n",
    "t3 = time.time()\n",
    "time_vectorized = t3 - t2"
   ]
  },
  {
   "cell_type": "code",
   "execution_count": 43,
   "metadata": {},
   "outputs": [
    {
     "name": "stdout",
     "output_type": "stream",
     "text": [
      "Time [sec] (non-vectorized): 9.84582\n",
      "Time [sec] (vectorized): 0.26124\n",
      "The vectorized code is 37.68906 times faster than the non-vectorized code\n"
     ]
    }
   ],
   "source": [
    "# Vectorization speed performance results\n",
    "print('Time [sec] (non-vectorized): %.5f' %time_nonvectorized)\n",
    "print('Time [sec] (vectorized): %.5f' %time_vectorized)\n",
    "print('The vectorized code is %.5f times faster than the non-vectorized code' %(time_nonvectorized/time_vectorized))"
   ]
  },
  {
   "cell_type": "code",
   "execution_count": 44,
   "metadata": {},
   "outputs": [
    {
     "data": {
      "image/png": "[encoded data removed]",
      "text/plain": [
       "<Figure size 432x288 with 2 Axes>"
      ]
     },
     "metadata": {
      "needs_background": "light"
     },
     "output_type": "display_data"
    }
   ],
   "source": [
    "# Plot the result for function\n",
    "plt.imshow(f, extent = [-4, 4, -4, 4])\n",
    "plt.xlabel('x')\n",
    "plt.ylabel('y')\n",
    "plt.title('Plot of a hyperbola function')\n",
    "plt.colorbar()\n",
    "plt.show()"
   ]
  },
  {
   "cell_type": "code",
   "execution_count": 45,
   "metadata": {},
   "outputs": [
    {
     "data": {
      "image/png": "[encoded data removed]",
      "text/plain": [
       "<Figure size 432x288 with 2 Axes>"
      ]
     },
     "metadata": {
      "needs_background": "light"
     },
     "output_type": "display_data"
    }
   ],
   "source": [
    "# Plot the result for threshold\n",
    "f_thres = f.copy()\n",
    "f_thres[f_thres > thresh] = 1\n",
    "f_thres[f_thres < thresh] = 0\n",
    "\n",
    "cmap = colors.ListedColormap(['blue','yellow'])\n",
    "plt.imshow(f_thres, cmap=cmap, extent = [-4, 4, -4, 4])\n",
    "plt.colorbar()\n",
    "plt.xlabel('x')\n",
    "plt.ylabel('y')\n",
    "plt.title('Plot with threshold')\n",
    "plt.show()"
   ]
  },
  {
   "cell_type": "markdown",
   "metadata": {},
   "source": [
    "## 11\n",
    "**[10 points]** This exercise will walk through some basic numerical programming exercises.\n",
    "1. Synthesize $n=10^4$ normally distributed data points with mean $\\mu=2$ and a standard deviation of $\\sigma=1$. Call these observations from a random variable $X$, and call the vector of observations that you generate, $\\textbf{x}$.\n",
    "2. Calculate the mean and standard deviation of $\\textbf{x}$ to validate (1) and provide the result to a precision of four significant figures.\n",
    "3. Plot a histogram of the data in $\\textbf{x}$ with 30 bins\n",
    "4. What is the 90th percentile of $\\textbf{x}$? The 90th percentile is the value below which 90% of observations can be found.\n",
    "5. What is the 99th percentile of $\\textbf{x}$?\n",
    "6. Now synthesize $n=10^4$ normally distributed data points with mean $\\mu=0$ and a standard deviation of $\\sigma=3$. Call these observations from a random variable $Y$, and call the vector of observations that you generate, $\\textbf{y}$.\n",
    "7. Create a new figure and plot the histogram of the data in $\\textbf{y}$ on the same axes with the histogram of $\\textbf{x}$, so that both histograms can be seen and compared.\n",
    "8. Using the observations from $\\textbf{x}$ and $\\textbf{y}$, estimate $E[XY]$"
   ]
  },
  {
   "cell_type": "markdown",
   "metadata": {},
   "source": [
    "**ANSWER**"
   ]
  },
  {
   "cell_type": "code",
   "execution_count": 23,
   "metadata": {},
   "outputs": [],
   "source": [
    "import numpy as np\n",
    "import matplotlib.pyplot as plt\n",
    "np.random.seed(123)"
   ]
  },
  {
   "cell_type": "code",
   "execution_count": 24,
   "metadata": {},
   "outputs": [],
   "source": [
    "# 1\n",
    "mu, sigma = 2, 1\n",
    "x = np.random.normal(mu, sigma, 10000)"
   ]
  },
  {
   "cell_type": "code",
   "execution_count": 36,
   "metadata": {},
   "outputs": [
    {
     "name": "stdout",
     "output_type": "stream",
     "text": [
      "mean of x: 2.010\n",
      "standard deviation of x: 0.9981\n"
     ]
    }
   ],
   "source": [
    "# 2\n",
    "print('mean of x: %.3f' %x.mean())\n",
    "print('standard deviation of x: %.4g' %x.std())"
   ]
  },
  {
   "cell_type": "code",
   "execution_count": 37,
   "metadata": {},
   "outputs": [
    {
     "data": {
      "image/png": "[encoded data removed]",
      "text/plain": [
       "<Figure size 432x288 with 1 Axes>"
      ]
     },
     "metadata": {
      "needs_background": "light"
     },
     "output_type": "display_data"
    }
   ],
   "source": [
    "# 3\n",
    "plt.hist(x, bins=30)\n",
    "plt.xlabel('x')\n",
    "plt.ylabel('counts')\n",
    "plt.title('Histogram of x')\n",
    "plt.show()"
   ]
  },
  {
   "cell_type": "code",
   "execution_count": 33,
   "metadata": {},
   "outputs": [
    {
     "name": "stdout",
     "output_type": "stream",
     "text": [
      "The 90th percentile of x is 3.289\n"
     ]
    }
   ],
   "source": [
    "# 4\n",
    "print('The 90th percentile of x is %.4g' %np.percentile(x, 90))"
   ]
  },
  {
   "cell_type": "code",
   "execution_count": 34,
   "metadata": {},
   "outputs": [
    {
     "name": "stdout",
     "output_type": "stream",
     "text": [
      "The 99th percentile of x is 4.326\n"
     ]
    }
   ],
   "source": [
    "# 5\n",
    "print('The 99th percentile of x is %.4g' %np.percentile(x, 99))"
   ]
  },
  {
   "cell_type": "code",
   "execution_count": 30,
   "metadata": {},
   "outputs": [],
   "source": [
    "# 6\n",
    "mu, sigma = 0, 3\n",
    "y = np.random.normal(mu, sigma, 10000)"
   ]
  },
  {
   "cell_type": "code",
   "execution_count": 31,
   "metadata": {},
   "outputs": [
    {
     "data": {
      "image/png": "[encoded data removed]",
      "text/plain": [
       "<Figure size 432x288 with 1 Axes>"
      ]
     },
     "metadata": {
      "needs_background": "light"
     },
     "output_type": "display_data"
    }
   ],
   "source": [
    "# 7\n",
    "plt.hist(x, bins=30, alpha=0.4, label='x')\n",
    "plt.hist(y, bins=30, alpha=0.4, label='y')\n",
    "plt.title('Histograms of x and y')\n",
    "plt.xlabel('observation')\n",
    "plt.ylabel('counts')\n",
    "plt.legend(loc='upper right')\n",
    "plt.show()"
   ]
  },
  {
   "cell_type": "code",
   "execution_count": 32,
   "metadata": {},
   "outputs": [
    {
     "name": "stdout",
     "output_type": "stream",
     "text": [
      "E[XY] = 0.07897\n"
     ]
    }
   ],
   "source": [
    "# 8\n",
    "print('E[XY] = %.5f' %np.mean(x*y))"
   ]
  },
  {
   "cell_type": "markdown",
   "metadata": {},
   "source": [
    "# Version Control via Git"
   ]
  },
  {
   "cell_type": "markdown",
   "metadata": {},
   "source": [
    "## 12\n",
    "**[1 point]** You will need to use Git to submit assignments and in the course projects and is generally a version control and collaboration tool. You can even use some Git repositories (e.g. Github) as hosts for website, such as with the [course website](https://kylebradbury.github.io/ids705/index.html). \n",
    "\n",
    "Complete the [Atlassian Git tutorial](https://www.atlassian.com/git/tutorials/what-is-version-control), specifically the following listed sections. Try each concept that's presented. For this tutorial, instead of using BitBucket as your remote repository host, you may use your preferred platform such as [Github](https://github.com/) or [Duke's Gitlab](https://gitlab.oit.duke.edu/users/sign_in).\n",
    "1. [What is version control](https://www.atlassian.com/git/tutorials/what-is-version-control)\n",
    "2. [What is Git](https://www.atlassian.com/git/tutorials/what-is-git)\n",
    "3. [Install Git](https://www.atlassian.com/git/tutorials/install-git)\n",
    "4. [Setting up a repository](https://www.atlassian.com/git/tutorials/install-git)\n",
    "5. [Saving changes](https://www.atlassian.com/git/tutorials/saving-changes)\n",
    "6. [Inspecting a repository](https://www.atlassian.com/git/tutorials/inspecting-a-repository)\n",
    "7. [Undoing changes](https://www.atlassian.com/git/tutorials/undoing-changes)\n",
    "8. [Rewriting history](https://www.atlassian.com/git/tutorials/rewriting-history)\n",
    "9. [Syncing](https://www.atlassian.com/git/tutorials/syncing)\n",
    "10. [Making a pull request](https://www.atlassian.com/git/tutorials/making-a-pull-request)\n",
    "11. [Using branches](https://www.atlassian.com/git/tutorials/using-branches)\n",
    "12. [Comparing workflows](https://www.atlassian.com/git/tutorials/comparing-workflows)\n",
    "\n",
    "I also have created two videos on the topic to help you understand some of these concepts: [Git basics](https://www.youtube.com/watch?v=fBCwfoBr2ng) and a [step-by-step tutorial](https://www.youtube.com/watch?v=nH7qJHx-h5s).\n",
    "\n",
    "For your answer, affirm that you *either* completed the tutorial or have previous experience with all of the concepts above. Do this by typing your name below and selecting the situation that applies from the two options in brackets."
   ]
  },
  {
   "cell_type": "markdown",
   "metadata": {},
   "source": [
    "**ANSWER**\n",
    "\n",
    "*I, Yiran, affirm that I have completed the above tutorial.*"
   ]
  },
  {
   "cell_type": "markdown",
   "metadata": {},
   "source": [
    "# Exploratory Data Analysis\n",
    "## 13\n",
    "**[20 points]** Here you'll bring together some of the individual skills that you demonstrated above and create a Jupyter notebook based blog post on data analysis.\n",
    "\n",
    "1. Find a dataset that interests you and relates to a question or problem that you find intriguing\n",
    "2. Using a Jupyter notebook, describe the dataset, the source of the data, and the reason the dataset was of interest.\n",
    "3. Check the data and see if they need to be cleaned: are there missing values? Are there clearly erroneous values? Do two tables need to be merged together? Clean the data so it can be visualized.\n",
    "3. Plot the data, demonstrating interesting features that you discover. Are there any relationships between variables that were surprising or patterns that emerged? Please exercise creativity and curiosity in your plots.\n",
    "4. What insights are you able to take away from exploring the data? Is there a reason why analyzing the dataset you chose is particularly interesting or important? Summarize this as if your target audience was the readership of a major news organization - boil down your findings in a way that is accessible, but still accurate.\n",
    "\n",
    "Here your analysis will evaluated based on:\n",
    "1. Data cleaning: did you look for and work to resolve issues in the data?\n",
    "2. Quality of data exploration: did you provide plots demonstrating interesting aspects of the data?\n",
    "3. Interpretation: Did you clearly explain your insights? Restating the data, alone, is not interpretation.\n",
    "5. Professionalism: Was this work done in a way that exhibits professionalism through clarity, organization, high quality figures and plots, and meaningful descriptions?"
   ]
  },
  {
   "cell_type": "markdown",
   "metadata": {},
   "source": [
    "**ANSWER**"
   ]
  },
  {
   "cell_type": "markdown",
   "metadata": {},
   "source": [
    "## Heart Disease\n",
    "\n",
    "The data is taken from UCI Machine Learning Repository with experiment data in the Cleveland database. The database concentrated on attempting to distinguish presence of heart disease from absence. The intention is to find any trends in heart data to better find or predict any abnormal events of heart health.\n",
    "\n",
    "### Features\n",
    "\n",
    "- age (age in years)\n",
    "- sex\n",
    "    - 1 = male\n",
    "    - 0 = female\n",
    "- cp (chest pain type)\n",
    "    - 0 = typical angina\n",
    "    - 1 = atypical angina\n",
    "    - 2 = non-anginal pain\n",
    "    - 3 = asymptomatic\n",
    "- trestbps (resting blood pressure, in mm Hg on admission to the hospital)\n",
    "- chol (serum cholestoral in mg/dl)\n",
    "- fbs (fasting blood sugar > 120 mg/dl)\n",
    "    - 1 = true\n",
    "    - 0 = false\n",
    "- restecg (resting electrocardiographic results)\n",
    "    - 0 = showing probable or definite left ventricular hypertrophy by Estes' criteria\n",
    "    - 1 = normal\n",
    "    - 2 = having ST-T wave abnormality\n",
    "- thalach (maximum heart rate achieved)\n",
    "- exang (exercise induced angina)\n",
    "    - 1 = yes\n",
    "    - 0 = no\n",
    "- oldpeak (ST depression induced by exercise relative to rest, 'ST' relates to positions on the ECG plot)\n",
    "- slope (the slope of the peak exercise ST segment)\n",
    "    - 0 = downsloping\n",
    "    - 1 = flat\n",
    "    - 2 = upsloping\n",
    "- ca (number of major vessels (0-3) colored by flourosopy)\n",
    "- thal (a blood disorder called thalassemia)\n",
    "    - 1 = fixed defect\n",
    "    - 2 = normal\n",
    "    - 3 = reversable defect\n",
    "- target (heart disease) \n",
    "    - 1 = no, no disease\n",
    "    - 0 = yes, have disease\n"
   ]
  },
  {
   "cell_type": "code",
   "execution_count": 55,
   "metadata": {
    "scrolled": true
   },
   "outputs": [
    {
     "data": {
      "text/html": [
       "<div>\n",
       "<style scoped>\n",
       "    .dataframe tbody tr th:only-of-type {\n",
       "        vertical-align: middle;\n",
       "    }\n",
       "\n",
       "    .dataframe tbody tr th {\n",
       "        vertical-align: top;\n",
       "    }\n",
       "\n",
       "    .dataframe thead th {\n",
       "        text-align: right;\n",
       "    }\n",
       "</style>\n",
       "<table border=\"1\" class=\"dataframe\">\n",
       "  <thead>\n",
       "    <tr style=\"text-align: right;\">\n",
       "      <th></th>\n",
       "      <th>age</th>\n",
       "      <th>sex</th>\n",
       "      <th>cp</th>\n",
       "      <th>trestbps</th>\n",
       "      <th>chol</th>\n",
       "      <th>fbs</th>\n",
       "      <th>restecg</th>\n",
       "      <th>thalach</th>\n",
       "      <th>exang</th>\n",
       "      <th>oldpeak</th>\n",
       "      <th>slope</th>\n",
       "      <th>ca</th>\n",
       "      <th>thal</th>\n",
       "      <th>target</th>\n",
       "    </tr>\n",
       "  </thead>\n",
       "  <tbody>\n",
       "    <tr>\n",
       "      <td>0</td>\n",
       "      <td>63</td>\n",
       "      <td>1</td>\n",
       "      <td>3</td>\n",
       "      <td>145</td>\n",
       "      <td>233</td>\n",
       "      <td>1</td>\n",
       "      <td>0</td>\n",
       "      <td>150</td>\n",
       "      <td>0</td>\n",
       "      <td>2.3</td>\n",
       "      <td>0</td>\n",
       "      <td>0</td>\n",
       "      <td>1</td>\n",
       "      <td>1</td>\n",
       "    </tr>\n",
       "    <tr>\n",
       "      <td>1</td>\n",
       "      <td>37</td>\n",
       "      <td>1</td>\n",
       "      <td>2</td>\n",
       "      <td>130</td>\n",
       "      <td>250</td>\n",
       "      <td>0</td>\n",
       "      <td>1</td>\n",
       "      <td>187</td>\n",
       "      <td>0</td>\n",
       "      <td>3.5</td>\n",
       "      <td>0</td>\n",
       "      <td>0</td>\n",
       "      <td>2</td>\n",
       "      <td>1</td>\n",
       "    </tr>\n",
       "    <tr>\n",
       "      <td>2</td>\n",
       "      <td>41</td>\n",
       "      <td>0</td>\n",
       "      <td>1</td>\n",
       "      <td>130</td>\n",
       "      <td>204</td>\n",
       "      <td>0</td>\n",
       "      <td>0</td>\n",
       "      <td>172</td>\n",
       "      <td>0</td>\n",
       "      <td>1.4</td>\n",
       "      <td>2</td>\n",
       "      <td>0</td>\n",
       "      <td>2</td>\n",
       "      <td>1</td>\n",
       "    </tr>\n",
       "    <tr>\n",
       "      <td>3</td>\n",
       "      <td>56</td>\n",
       "      <td>1</td>\n",
       "      <td>1</td>\n",
       "      <td>120</td>\n",
       "      <td>236</td>\n",
       "      <td>0</td>\n",
       "      <td>1</td>\n",
       "      <td>178</td>\n",
       "      <td>0</td>\n",
       "      <td>0.8</td>\n",
       "      <td>2</td>\n",
       "      <td>0</td>\n",
       "      <td>2</td>\n",
       "      <td>1</td>\n",
       "    </tr>\n",
       "    <tr>\n",
       "      <td>4</td>\n",
       "      <td>57</td>\n",
       "      <td>0</td>\n",
       "      <td>0</td>\n",
       "      <td>120</td>\n",
       "      <td>354</td>\n",
       "      <td>0</td>\n",
       "      <td>1</td>\n",
       "      <td>163</td>\n",
       "      <td>1</td>\n",
       "      <td>0.6</td>\n",
       "      <td>2</td>\n",
       "      <td>0</td>\n",
       "      <td>2</td>\n",
       "      <td>1</td>\n",
       "    </tr>\n",
       "  </tbody>\n",
       "</table>\n",
       "</div>"
      ],
      "text/plain": [
       "   age  sex  cp  trestbps  chol  fbs  restecg  thalach  exang  oldpeak  slope  \\\n",
       "0   63    1   3       145   233    1        0      150      0      2.3      0   \n",
       "1   37    1   2       130   250    0        1      187      0      3.5      0   \n",
       "2   41    0   1       130   204    0        0      172      0      1.4      2   \n",
       "3   56    1   1       120   236    0        1      178      0      0.8      2   \n",
       "4   57    0   0       120   354    0        1      163      1      0.6      2   \n",
       "\n",
       "   ca  thal  target  \n",
       "0   0     1       1  \n",
       "1   0     2       1  \n",
       "2   0     2       1  \n",
       "3   0     2       1  \n",
       "4   0     2       1  "
      ]
     },
     "execution_count": 55,
     "metadata": {},
     "output_type": "execute_result"
    }
   ],
   "source": [
    "import os\n",
    "import numpy as np\n",
    "import pandas as pd\n",
    "import seaborn as sns\n",
    "import matplotlib.pyplot as plt\n",
    "\n",
    "# loading data\n",
    "ht = pd.read_csv('/Users/yiran/Desktop/IDS705ML/ids705/assignments/heart.csv')\n",
    "ht.head()"
   ]
  },
  {
   "cell_type": "code",
   "execution_count": 56,
   "metadata": {},
   "outputs": [
    {
     "name": "stderr",
     "output_type": "stream",
     "text": [
      "/Users/yiran/anaconda2/lib/python3.7/site-packages/ipykernel_launcher.py:2: SettingWithCopyWarning: \n",
      "A value is trying to be set on a copy of a slice from a DataFrame\n",
      "\n",
      "See the caveats in the documentation: http://pandas.pydata.org/pandas-docs/stable/user_guide/indexing.html#returning-a-view-versus-a-copy\n",
      "  \n"
     ]
    }
   ],
   "source": [
    "# change outcome variable *target* to 1=disease and 0=no disease\n",
    "ht.target[ht.target==0]='yes'\n",
    "ht.target[ht.target==1]='no'"
   ]
  },
  {
   "cell_type": "code",
   "execution_count": 57,
   "metadata": {},
   "outputs": [
    {
     "name": "stderr",
     "output_type": "stream",
     "text": [
      "/Users/yiran/anaconda2/lib/python3.7/site-packages/ipykernel_launcher.py:2: SettingWithCopyWarning: \n",
      "A value is trying to be set on a copy of a slice from a DataFrame\n",
      "\n",
      "See the caveats in the documentation: http://pandas.pydata.org/pandas-docs/stable/user_guide/indexing.html#returning-a-view-versus-a-copy\n",
      "  \n",
      "/Users/yiran/anaconda2/lib/python3.7/site-packages/ipykernel_launcher.py:7: SettingWithCopyWarning: \n",
      "A value is trying to be set on a copy of a slice from a DataFrame\n",
      "\n",
      "See the caveats in the documentation: http://pandas.pydata.org/pandas-docs/stable/user_guide/indexing.html#returning-a-view-versus-a-copy\n",
      "  import sys\n",
      "/Users/yiran/anaconda2/lib/python3.7/site-packages/ipykernel_launcher.py:8: SettingWithCopyWarning: \n",
      "A value is trying to be set on a copy of a slice from a DataFrame\n",
      "\n",
      "See the caveats in the documentation: http://pandas.pydata.org/pandas-docs/stable/user_guide/indexing.html#returning-a-view-versus-a-copy\n",
      "  \n",
      "/Users/yiran/anaconda2/lib/python3.7/site-packages/ipykernel_launcher.py:9: SettingWithCopyWarning: \n",
      "A value is trying to be set on a copy of a slice from a DataFrame\n",
      "\n",
      "See the caveats in the documentation: http://pandas.pydata.org/pandas-docs/stable/user_guide/indexing.html#returning-a-view-versus-a-copy\n",
      "  if __name__ == '__main__':\n",
      "/Users/yiran/anaconda2/lib/python3.7/site-packages/ipykernel_launcher.py:11: SettingWithCopyWarning: \n",
      "A value is trying to be set on a copy of a slice from a DataFrame\n",
      "\n",
      "See the caveats in the documentation: http://pandas.pydata.org/pandas-docs/stable/user_guide/indexing.html#returning-a-view-versus-a-copy\n",
      "  # This is added back by InteractiveShellApp.init_path()\n",
      "/Users/yiran/anaconda2/lib/python3.7/site-packages/ipykernel_launcher.py:15: SettingWithCopyWarning: \n",
      "A value is trying to be set on a copy of a slice from a DataFrame\n",
      "\n",
      "See the caveats in the documentation: http://pandas.pydata.org/pandas-docs/stable/user_guide/indexing.html#returning-a-view-versus-a-copy\n",
      "  from ipykernel import kernelapp as app\n",
      "/Users/yiran/anaconda2/lib/python3.7/site-packages/ipykernel_launcher.py:16: SettingWithCopyWarning: \n",
      "A value is trying to be set on a copy of a slice from a DataFrame\n",
      "\n",
      "See the caveats in the documentation: http://pandas.pydata.org/pandas-docs/stable/user_guide/indexing.html#returning-a-view-versus-a-copy\n",
      "  app.launch_new_instance()\n",
      "/Users/yiran/anaconda2/lib/python3.7/site-packages/ipykernel_launcher.py:17: SettingWithCopyWarning: \n",
      "A value is trying to be set on a copy of a slice from a DataFrame\n",
      "\n",
      "See the caveats in the documentation: http://pandas.pydata.org/pandas-docs/stable/user_guide/indexing.html#returning-a-view-versus-a-copy\n"
     ]
    }
   ],
   "source": [
    "# rename numbers in categorical variables to string for better intepretation\n",
    "ht.cp[ht.cp==0]='typical angina'\n",
    "ht.cp[ht.cp==1]='atypical angina'\n",
    "ht.cp[ht.cp==2]='non-anginal pain'\n",
    "ht.cp[ht.cp==3]='asymptomatic'\n",
    "\n",
    "ht.restecg[ht.restecg==0]='left ventricular hypertrophy'\n",
    "ht.restecg[ht.restecg==1]='normal'\n",
    "ht.restecg[ht.restecg==2]='ST-T wave abnormality'\n",
    "\n",
    "ht.thal[ht.thal==1]='fixed defect'\n",
    "ht.thal[ht.thal==2]='normal'\n",
    "ht.thal[ht.thal==3]='reversible defect'\n",
    "\n",
    "ht.slope[ht.slope==0]='downsloping'\n",
    "ht.slope[ht.slope==1]='flat'\n",
    "ht.slope[ht.slope==2]='upsloping'"
   ]
  },
  {
   "cell_type": "code",
   "execution_count": 58,
   "metadata": {},
   "outputs": [
    {
     "name": "stdout",
     "output_type": "stream",
     "text": [
      "<class 'pandas.core.frame.DataFrame'>\n",
      "RangeIndex: 303 entries, 0 to 302\n",
      "Data columns (total 14 columns):\n",
      "age         303 non-null int64\n",
      "sex         303 non-null int64\n",
      "cp          303 non-null object\n",
      "trestbps    303 non-null int64\n",
      "chol        303 non-null int64\n",
      "fbs         303 non-null int64\n",
      "restecg     303 non-null object\n",
      "thalach     303 non-null int64\n",
      "exang       303 non-null int64\n",
      "oldpeak     303 non-null float64\n",
      "slope       303 non-null object\n",
      "ca          303 non-null int64\n",
      "thal        303 non-null object\n",
      "target      303 non-null object\n",
      "dtypes: float64(1), int64(8), object(5)\n",
      "memory usage: 33.3+ KB\n"
     ]
    }
   ],
   "source": [
    "ht.info() # no missing value"
   ]
  },
  {
   "cell_type": "code",
   "execution_count": 59,
   "metadata": {},
   "outputs": [],
   "source": [
    "# remove two 0 values in thal (these were NA values in the original dataset)\n",
    "ht = ht[ht.thal!=0]"
   ]
  },
  {
   "cell_type": "code",
   "execution_count": 62,
   "metadata": {},
   "outputs": [
    {
     "data": {
      "text/html": [
       "<div>\n",
       "<style scoped>\n",
       "    .dataframe tbody tr th:only-of-type {\n",
       "        vertical-align: middle;\n",
       "    }\n",
       "\n",
       "    .dataframe tbody tr th {\n",
       "        vertical-align: top;\n",
       "    }\n",
       "\n",
       "    .dataframe thead th {\n",
       "        text-align: right;\n",
       "    }\n",
       "</style>\n",
       "<table border=\"1\" class=\"dataframe\">\n",
       "  <thead>\n",
       "    <tr style=\"text-align: right;\">\n",
       "      <th></th>\n",
       "      <th>age</th>\n",
       "      <th>sex</th>\n",
       "      <th>cp</th>\n",
       "      <th>trestbps</th>\n",
       "      <th>chol</th>\n",
       "      <th>fbs</th>\n",
       "      <th>restecg</th>\n",
       "      <th>thalach</th>\n",
       "      <th>exang</th>\n",
       "      <th>oldpeak</th>\n",
       "      <th>slope</th>\n",
       "      <th>ca</th>\n",
       "      <th>thal</th>\n",
       "      <th>target</th>\n",
       "    </tr>\n",
       "  </thead>\n",
       "  <tbody>\n",
       "    <tr>\n",
       "      <td>249</td>\n",
       "      <td>69</td>\n",
       "      <td>1</td>\n",
       "      <td>non-anginal pain</td>\n",
       "      <td>140</td>\n",
       "      <td>254</td>\n",
       "      <td>0</td>\n",
       "      <td>left ventricular hypertrophy</td>\n",
       "      <td>146</td>\n",
       "      <td>0</td>\n",
       "      <td>2.0</td>\n",
       "      <td>flat</td>\n",
       "      <td>3</td>\n",
       "      <td>reversible defect</td>\n",
       "      <td>yes</td>\n",
       "    </tr>\n",
       "    <tr>\n",
       "      <td>273</td>\n",
       "      <td>58</td>\n",
       "      <td>1</td>\n",
       "      <td>typical angina</td>\n",
       "      <td>100</td>\n",
       "      <td>234</td>\n",
       "      <td>0</td>\n",
       "      <td>normal</td>\n",
       "      <td>156</td>\n",
       "      <td>0</td>\n",
       "      <td>0.1</td>\n",
       "      <td>upsloping</td>\n",
       "      <td>1</td>\n",
       "      <td>reversible defect</td>\n",
       "      <td>yes</td>\n",
       "    </tr>\n",
       "    <tr>\n",
       "      <td>180</td>\n",
       "      <td>55</td>\n",
       "      <td>1</td>\n",
       "      <td>typical angina</td>\n",
       "      <td>132</td>\n",
       "      <td>353</td>\n",
       "      <td>0</td>\n",
       "      <td>normal</td>\n",
       "      <td>132</td>\n",
       "      <td>1</td>\n",
       "      <td>1.2</td>\n",
       "      <td>flat</td>\n",
       "      <td>1</td>\n",
       "      <td>reversible defect</td>\n",
       "      <td>yes</td>\n",
       "    </tr>\n",
       "    <tr>\n",
       "      <td>254</td>\n",
       "      <td>59</td>\n",
       "      <td>1</td>\n",
       "      <td>asymptomatic</td>\n",
       "      <td>160</td>\n",
       "      <td>273</td>\n",
       "      <td>0</td>\n",
       "      <td>left ventricular hypertrophy</td>\n",
       "      <td>125</td>\n",
       "      <td>0</td>\n",
       "      <td>0.0</td>\n",
       "      <td>upsloping</td>\n",
       "      <td>0</td>\n",
       "      <td>normal</td>\n",
       "      <td>yes</td>\n",
       "    </tr>\n",
       "    <tr>\n",
       "      <td>225</td>\n",
       "      <td>70</td>\n",
       "      <td>1</td>\n",
       "      <td>typical angina</td>\n",
       "      <td>145</td>\n",
       "      <td>174</td>\n",
       "      <td>0</td>\n",
       "      <td>normal</td>\n",
       "      <td>125</td>\n",
       "      <td>1</td>\n",
       "      <td>2.6</td>\n",
       "      <td>downsloping</td>\n",
       "      <td>0</td>\n",
       "      <td>reversible defect</td>\n",
       "      <td>yes</td>\n",
       "    </tr>\n",
       "  </tbody>\n",
       "</table>\n",
       "</div>"
      ],
      "text/plain": [
       "     age  sex                cp  trestbps  chol  fbs  \\\n",
       "249   69    1  non-anginal pain       140   254    0   \n",
       "273   58    1    typical angina       100   234    0   \n",
       "180   55    1    typical angina       132   353    0   \n",
       "254   59    1      asymptomatic       160   273    0   \n",
       "225   70    1    typical angina       145   174    0   \n",
       "\n",
       "                          restecg  thalach  exang  oldpeak        slope  ca  \\\n",
       "249  left ventricular hypertrophy      146      0      2.0         flat   3   \n",
       "273                        normal      156      0      0.1    upsloping   1   \n",
       "180                        normal      132      1      1.2         flat   1   \n",
       "254  left ventricular hypertrophy      125      0      0.0    upsloping   0   \n",
       "225                        normal      125      1      2.6  downsloping   0   \n",
       "\n",
       "                  thal target  \n",
       "249  reversible defect    yes  \n",
       "273  reversible defect    yes  \n",
       "180  reversible defect    yes  \n",
       "254             normal    yes  \n",
       "225  reversible defect    yes  "
      ]
     },
     "execution_count": 62,
     "metadata": {},
     "output_type": "execute_result"
    }
   ],
   "source": [
    "ht.sample(5)"
   ]
  },
  {
   "cell_type": "markdown",
   "metadata": {},
   "source": [
    "### Exploratory Data Analysis\n",
    "It is known that there are several heart disease risk factors including high cholesterol, high blood pressure, diabetes, etc., which can be resulted from unhealthy diet or behaviors such as smoking, drinking, or physical inactivity. Inherently, factors including age, gender, and blood disease can affect heart conditions as well. These factors might be of importance for the predictability of heart diseases."
   ]
  },
  {
   "cell_type": "code",
   "execution_count": 63,
   "metadata": {
    "scrolled": false
   },
   "outputs": [],
   "source": [
    "# overview paired plots\n",
    "# sns.pairplot(ht)\n",
    "# plt.show()"
   ]
  },
  {
   "cell_type": "code",
   "execution_count": 64,
   "metadata": {},
   "outputs": [
    {
     "data": {
      "image/png": "[encoded data removed]",
      "text/plain": [
       "<Figure size 1080x360 with 5 Axes>"
      ]
     },
     "metadata": {
      "needs_background": "light"
     },
     "output_type": "display_data"
    }
   ],
   "source": [
    "## 5 continuous variables\n",
    "plt.figure(figsize=(15,5))\n",
    "# age\n",
    "plt.subplot(1, 5, 1)\n",
    "sns.violinplot(x=ht.target, y=ht.age)\n",
    "plt.title(\"age\")\n",
    "\n",
    "# trestbps\n",
    "plt.subplot(1, 5, 2)\n",
    "sns.violinplot(x=ht.target, y=ht.trestbps)\n",
    "plt.title('resting blood pressure')\n",
    "\n",
    "# chol\n",
    "plt.subplot(1, 5, 3)\n",
    "sns.violinplot(x=ht.target, y=ht.chol)\n",
    "plt.title('serum cholestoral')\n",
    "\n",
    "# thalach\n",
    "plt.subplot(1, 5, 4)\n",
    "sns.violinplot(x=ht.target, y=ht.thalach)\n",
    "plt.title('maxmimum heart rate')\n",
    "\n",
    "# oldpeak\n",
    "plt.subplot(1, 5, 5)\n",
    "sns.violinplot(x=ht.target, y=ht.oldpeak)\n",
    "plt.title('ST depression induced by exercise')\n",
    "\n",
    "plt.show()"
   ]
  },
  {
   "cell_type": "markdown",
   "metadata": {},
   "source": [
    "From the violin plots of the five continuous variables, it could be seen that people suffering from heart diseases are mostly concentrated from age 55 to 65. Patients aging from 20-30 are much less likely to suffer from heart diseases. As age increases, the likelihood of having heart diseases increases.\n",
    "\n",
    "Patients who are more likely to suffer from the heart disease have slightly higher resting blood pressure and serum cholesterol. This agrees with our initial hypothesis that high blood pressure and high cholesterol level are more likely to induce heart diseases. \n",
    "\n",
    "ST depression refers to a finding on an electrocardiogram (ECG), wherein the trace in the ST segment is abnormally low below the baseline. Having a much higher number of ST depression induced by exercises is an indication of heart may not be normal functioning under exercise relative to rest. In comparison, it can be seen that most patients without heart diseases have a mean value around 0 of ST depression induced by exercise.\n",
    "\n",
    "According to research, the risk of having heart diseases will be reduced with a low resting heart rate and high maximum heart rate. Such notion is also supported from observations here that patients with heart diseases tend to have a lower maximum heart rate than those without."
   ]
  },
  {
   "cell_type": "code",
   "execution_count": 65,
   "metadata": {},
   "outputs": [
    {
     "data": {
      "image/png": "[encoded data removed]",
      "text/plain": [
       "<Figure size 1296x864 with 8 Axes>"
      ]
     },
     "metadata": {
      "needs_background": "light"
     },
     "output_type": "display_data"
    }
   ],
   "source": [
    "## 8 categorical variables\n",
    "plt.figure(figsize=(18,12))\n",
    "# sex\n",
    "plt.subplot(2,4,1)\n",
    "sns.countplot('target',hue='sex',data=ht)\n",
    "plt.title('sex')\n",
    "\n",
    "# cp\n",
    "plt.subplot(2,4,2)\n",
    "sns.countplot('target',hue='cp',data=ht)\n",
    "plt.title('chest pain type')\n",
    "\n",
    "# fbs\n",
    "plt.subplot(2,4,3)\n",
    "sns.countplot('target',hue='fbs',data=ht)\n",
    "plt.title('fasting blood sugar')\n",
    "\n",
    "#restecg\n",
    "plt.subplot(2,4,4)\n",
    "sns.countplot('target',hue='restecg',data=ht)\n",
    "plt.title('resting ecg result')\n",
    "\n",
    "# exang\n",
    "plt.subplot(2,4,5)\n",
    "sns.countplot('target',hue='exang',data=ht)\n",
    "plt.title('exercise induced angina')\n",
    "\n",
    "# slope\n",
    "plt.subplot(2,4,6)\n",
    "sns.countplot('target',hue='slope',data=ht)\n",
    "plt.title('slope of peak exercise ST segment')\n",
    "\n",
    "# ca\n",
    "plt.subplot(2,4,7)\n",
    "sns.countplot('target',hue='ca',data=ht)\n",
    "plt.title('number of major vessels')\n",
    "\n",
    "# thal\n",
    "plt.subplot(2,4,8)\n",
    "sns.countplot('target',hue='thal',data=ht)\n",
    "plt.title('blood disoder type')\n",
    "\n",
    "plt.show()"
   ]
  },
  {
   "cell_type": "markdown",
   "metadata": {},
   "source": [
    "It could be seen from the plots that men have a higher chance of heart disease compared to women. Such observation agrees with the general claim in the medical field that heart attacks are more common in men than in women.\n",
    "\n",
    "Regarding chest pain types, typical angina is substernal chest pain or discomfort provoked by exertion or emotional stress and relieved by rest or nitroglycerin. It can be seen that having typical angina is much more likely to exhibit heart diseases. On the other hand, with symptoms of non-anginal pain or atypical angina, there might be many other factors involved encompassing possibilities besides heart diseases. Relatively speaking, patients who are experiencing asymptomatic, non-anginal pain or atypical angina might be less likely to have heart diseases.\n",
    "\n",
    "There seems to be an equal split for patients having fasting blood sugar over 120 mg/dl among with heart diseases and without group. However, it should be noted that for patients whose fasting blood sugar is less than 120 mg/dl, there is a much higher number of them not having heart diseases. This suggests that in order to prevent possibility of heart diseases, it is better to have a relatively lower fasting blood sugar to mitigate the risks.\n",
    "\n",
    "From the resting ECG results, patients who have left ventricular hypertrophy or ST-T wave abnormality tend to have a higher chance of having heart diseases. Patients who have exercise-induced angina also have higher risk of having heart diseases. It would be a good idea to do regular checks for early detection of possible heart conditions.\n",
    "\n",
    "The ST segment represents the heart's electrical activity immediately after ventricles contracted. The shape and direction of the ST segment are very important where upward or downward shifts can represent decreased blood flow to the heart from a variety of causes. It seems both downsloping and flat slope of peak exercise ST segment are bad signs with higher occurrence of heart diseases, while there are less patients with heart diseases who have upsloping pattern in exercises.\n",
    "\n",
    "As heart disease is highly concerned with blood flow, intuitively one would think that the more major vessels one has, the less likely for the patients to have heart diseases. However, the plot shows increase chance of having heart diseases as the number of major vessels increases except for the few patients who have four major vessels. This might be of interest to see where these major vessels located, individual conditions and impacts on the heart.\n",
    "\n",
    "The blood disorder (thalassemia) causes the body to have less hemoglobin than normal which enables red blood cells to carry oxygen. Patients with thalassemia of reversible defect have a significantly larger number of heart disease occurrence, and those who have thalassemia of fixed effect also have higher heart disease occurrence but to a smaller magnitude."
   ]
  },
  {
   "cell_type": "code",
   "execution_count": 66,
   "metadata": {},
   "outputs": [
    {
     "data": {
      "image/png": "[encoded data removed]",
      "text/plain": [
       "<Figure size 720x720 with 2 Axes>"
      ]
     },
     "metadata": {
      "needs_background": "light"
     },
     "output_type": "display_data"
    }
   ],
   "source": [
    "## correlations\n",
    "plt.figure(figsize=(10,10))\n",
    "sns.heatmap(ht.corr(),fmt='.2f', annot=True)\n",
    "plt.title('Feature correlation heatmap')\n",
    "plt.show()"
   ]
  },
  {
   "cell_type": "code",
   "execution_count": 67,
   "metadata": {},
   "outputs": [
    {
     "data": {
      "image/png": "[encoded data removed]",
      "text/plain": [
       "<Figure size 402.375x360 with 1 Axes>"
      ]
     },
     "metadata": {
      "needs_background": "light"
     },
     "output_type": "display_data"
    },
    {
     "data": {
      "image/png": "[encoded data removed]",
      "text/plain": [
       "<Figure size 480.5x360 with 1 Axes>"
      ]
     },
     "metadata": {
      "needs_background": "light"
     },
     "output_type": "display_data"
    },
    {
     "data": {
      "image/png": "[encoded data removed]",
      "text/plain": [
       "<Figure size 480.5x360 with 1 Axes>"
      ]
     },
     "metadata": {
      "needs_background": "light"
     },
     "output_type": "display_data"
    }
   ],
   "source": [
    "## interactions\n",
    "# sex and tresbps\n",
    "sns.catplot(x='target',y='trestbps',hue='sex',kind='box', data=ht)\n",
    "plt.title('resting blood pressure vs target by sex')\n",
    "\n",
    "# thal and chol\n",
    "sns.catplot(x='target',y='chol',hue='thal',kind='box', data=ht)\n",
    "plt.title('cholestoral vs target by blood disorder type')\n",
    "\n",
    "# thal and trestbps\n",
    "sns.catplot(x='target',y='trestbps',hue='thal',kind='box', data=ht)\n",
    "plt.title('resting blood pressure vs target by blood disorder type')\n",
    "plt.show()"
   ]
  },
  {
   "cell_type": "code",
   "execution_count": 68,
   "metadata": {},
   "outputs": [
    {
     "data": {
      "image/png": "[encoded data removed]",
      "text/plain": [
       "<Figure size 720x360 with 2 Axes>"
      ]
     },
     "metadata": {
      "needs_background": "light"
     },
     "output_type": "display_data"
    }
   ],
   "source": [
    "plt.figure(figsize=(10,5))\n",
    "# thalach and age\n",
    "plt.subplot(1,2,1)\n",
    "sns.scatterplot(x=\"age\", y=\"thalach\",data=ht,hue=\"target\")\n",
    "plt.title('max heart rate vs age')\n",
    "\n",
    "# tresbps and chol\n",
    "plt.subplot(1,2,2)\n",
    "sns.scatterplot(x=\"chol\", y=\"trestbps\",data=ht,hue=\"target\")\n",
    "plt.title('resting blood pressure and serum cholestoral')\n",
    "\n",
    "'''# thalach and oldpeak\n",
    "plt.subplot(1,3,3)\n",
    "sns.scatterplot(x=\"oldpeak\", y=\"thalach\",data=ht,hue=\"target\")\n",
    "plt.title('max heart rate vs ST depression induced by exercise')\n",
    "'''\n",
    "plt.show()"
   ]
  },
  {
   "cell_type": "markdown",
   "metadata": {},
   "source": [
    "From the correlation matrix and our initial hypothesis, some features with possible interactions are extracted out for further inspections. \n",
    "\n",
    "It can be seen that females with heart diseases tend to have higher resting blood pressure compared to those without, whereas males have around the same resting blood pressure distribution with or without heart diseases. There might be an interaction term between *trestbps* and *sex*, suggesting that females are more prone to the effect of high blood pressure compared to males. According to the American Heart Association, women are more likely than men to get high blood pressure at 65 and older, which can lead to higher chance of heart attacks. The relationship between age and sex was also investigated but did not show apparent interaction with respect to heart diseases.\n",
    "\n",
    "Other obvious interactions lie between *thal*, *chol*, and *trestbps*. As having thalassemia with reversible effect elevates both serum cholesterol and blood pressure, the likelihood of developing heart diseases is higher. In contrast, normal patients have around the same mean cholesterol and blood pressure level with or without heart diseases.\n",
    "\n",
    "Regarding continuous predictors, it can be seen that there is a general decreasing trend between age and maximum heart rate, as the maximum heart rate naturally decreases when age increases and the cardiopulmonary capacity decreases. There is also a slightly positive correlation between resting blood pressure and serum cholesterol. As cholesterol level increases, there is accumulation of cholesterol plaque and calcium. The arteries are hardened and narrowed, which requires heart to pump the blood harder, resulting in higher blood pressure and therefore higher risk of heart diseases."
   ]
  },
  {
   "cell_type": "markdown",
   "metadata": {},
   "source": [
    "### Conclusion\n",
    "In the exploratory data analysis, several risk factors or warning signals related to heart diseases have been identified. \n",
    "\n",
    "It has been well established that higher blood pressure, cholesterol level, and fasting blood sugar lead to higher chance of heart diseases which are supported by the observations. To mitigate the risks, once could change to a healthy diet, avoiding excessive smoking or drinking, and doing more exercises.\n",
    "\n",
    "For intrinsic characteristics, men are generally more likely to suffer from heart diseases, but females are more prone to high blood pressure which could lead to heart problems. Regarding family history, the inherited blood disorder thalassemia is also a vital influencer as it decreases the ability of blood transferring oxygen. Out of three different types of thalassemia, the reversible defect is the riskiest with most patients exhibiting higher cholesterol level and blood pressure, resulting in higher risk of heart diseases. \n",
    "\n",
    "One should be alerted when experiencing chest pains, especially for typical angina. Within the resting ECG results, one should particularly watch out for left ventricular hypertrophy or ST-T wave abnormality. Having a much higher number of ST depression induced by exercises is also a bad indication that heart may not be normal functioning under exercise. In addition, both downsloping and flat slope of peak exercise ST segment are bad signs with higher occurrence of heart diseases. It is therefore advised to conduct regular checks for early detection of possible heart conditions.\n",
    "\n",
    "The risk of having heart diseases will be reduced with a high maximum heart rate. Doing exercise on a regular basis is a great way to help increase the maximum heart rate and aerobic capacity. It is also advised from the doctors to set a percentage of individual maximum heart rate as a target during exercise. On the other hand, one should be alerted if experiencing angina during or after exercise which could be indication of heart diseases."
   ]
  },
  {
   "cell_type": "markdown",
   "metadata": {},
   "source": [
    "### Further Studies\n",
    "It should be noted that exploratory plots do not suggest definitive relationships but provide possible predictive features and interaction terms with respect to the outcome. The significance of each predictive feature needs to be further verified with chi-square tests. Also, there exist some outliers with extreme high or low values in different features that requires further investigated to be applied in the model building process.\n",
    "\n",
    "To quantify individual effects, a logistic regression could be applied. Other classification techniques including k-nearest neighbor, support vector machines, random forest, decision tree algorithm could be used and compared for better predictivity. Although there is a trade-off between model's interpretability and flexibility, it is aimed in the future studies we can explain the possible mechanisms of heart diseases occurrence with a still robust predictive model for early detections."
   ]
  },
  {
   "cell_type": "markdown",
   "metadata": {},
   "source": [
    "### References\n",
    "1. Heart Disease UCI. (2020). Retrieved 19 January 2020, from [https://www.kaggle.com/ronitf/heart-disease-uci]\n",
    "2. What Causes Heart Disease? Explaining the Model | Kaggle. (2020). Retrieved 20 January 2020, from [https://www.kaggle.com/tentotheminus9/what-causes-heart-disease-explaining-the-model]\n",
    "3. Analyzing the Heart Disease | Kaggle. (2020). Retrieved 20 January 2020, from [https://www.kaggle.com/kralmachine/analyzing-the-heart-disease/notebook]\n",
    "4. Thalassemia - Symptoms and causes. (2020). Retrieved 19 January 2020, from [https://www.mayoclinic.org/diseases-conditions/thalassemia/symptoms-causes/syc-20354995]\n",
    "5.  G, W. (2020). Why do men get more heart disease than women? An international perspective. - PubMed - NCBI. Retrieved 20 January 2020, from [https://www.ncbi.nlm.nih.gov/pubmed/10863872]\n",
    "6. ST depression. (2020). Retrieved 20 January 2020, from [https://en.wikipedia.org/wiki/ST_depression]\n",
    "7. Publishing, H. (2020). Throughout life, heart attacks are twice as common in men than women - Harvard Health. Retrieved 20 January 2020, from [https://www.health.harvard.edu/heart-health/throughout-life-heart-attacks-are-twice-as-common-in-men-than-women]\n",
    "8. Angina pectoris: how has the clinical presentation evolved? Is it still the same. (2020). Retrieved 20 January 2020, from [https://www.escardio.org/Journals/E-Journal-of-Cardiology-Practice/Volume-15/Angina-pectoris-how-has-the-clinical-presentation-evolved-Is-it-still-the-same-today-as-it-was-several-years-ago]\n",
    "9. Publishing, H. (2020). What your heart rate is telling you - Harvard Health. Retrieved 20 January 2020, from [https://www.health.harvard.edu/heart-health/what-your-heart-rate-is-telling-you]\n",
    "10. High Blood Pressure and Women. (2020). Retrieved 20 January 2020, from [https://www.heart.org/en/health-topics/high-blood-pressure/why-high-blood-pressure-is-a-silent-killer/high-blood-pressure-and-women]\n",
    "11. Diseases Caused By High Cholesterol | Cleveland Clinic. (2020). Retrieved 20 January 2020, from [https://my.clevelandclinic.org/health/articles/11918-cholesterol-high-cholesterol-diseases]"
   ]
  },
  {
   "cell_type": "code",
   "execution_count": null,
   "metadata": {},
   "outputs": [],
   "source": []
  }
 ],
 "metadata": {
  "kernelspec": {
   "display_name": "Python 3",
   "language": "python",
   "name": "python3"
  },
  "language_info": {
   "codemirror_mode": {
    "name": "ipython",
    "version": 3
   },
   "file_extension": ".py",
   "mimetype": "text/x-python",
   "name": "python",
   "nbconvert_exporter": "python",
   "pygments_lexer": "ipython3",
   "version": "3.7.3"
  },
  "varInspector": {
   "cols": {
    "lenName": 16,
    "lenType": 16,
    "lenVar": 40
   },
   "kernels_config": {
    "python": {
     "delete_cmd_postfix": "",
     "delete_cmd_prefix": "del ",
     "library": "var_list.py",
     "varRefreshCmd": "print(var_dic_list())"
    },
    "r": {
     "delete_cmd_postfix": ") ",
     "delete_cmd_prefix": "rm(",
     "library": "var_list.r",
     "varRefreshCmd": "cat(var_dic_list()) "
    }
   },
   "types_to_exclude": [
    "module",
    "function",
    "builtin_function_or_method",
    "instance",
    "_Feature"
   ],
   "window_display": false
  }
 },
 "nbformat": 4,
 "nbformat_minor": 2
}
