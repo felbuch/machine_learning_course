{
 "cells": [
  {
   "cell_type": "markdown",
   "metadata": {},
   "source": [
    "# Assignment 1 - Probability, Linear Algebra, Programming, and Git"
   ]
  },
  {
   "cell_type": "markdown",
   "metadata": {},
   "source": [
    "## *Felipe Buchbinder*\n",
    "Netid:  *fb91*"
   ]
  },
  {
   "cell_type": "markdown",
   "metadata": {},
   "source": [
    "Instructions for all assignments can be found [here](https://github.com/kylebradbury/ids705/blob/master/assignments/_Assignment%20Instructions.ipynb), which is also linked to from the [course syllabus](https://kylebradbury.github.io/ids705/index.html)."
   ]
  },
  {
   "cell_type": "markdown",
   "metadata": {},
   "source": [
    "# Probability and Statistics Theory"
   ]
  },
  {
   "cell_type": "markdown",
   "metadata": {},
   "source": [
    "*Note: for all assignments, write out all equations and math using markdown and [LaTeX](https://tobi.oetiker.ch/lshort/lshort.pdf). For this section of the assignment (Probability and Statistics Theory) show and type up ALL math work*"
   ]
  },
  {
   "cell_type": "markdown",
   "metadata": {},
   "source": [
    "## 1\n",
    "**[3 points]**  \n",
    "Let $f(x) = \\begin{cases}\n",
    "                0           & x < 0  \\\\\n",
    "                \\alpha x^2  & 0 \\leq x \\leq 2 \\\\\n",
    "                0           & 2 < x\n",
    "            \\end{cases}$\n",
    "            \n",
    "For what value of $\\alpha$ is $f(x)$ a valid probability density function?"
   ]
  },
  {
   "cell_type": "markdown",
   "metadata": {},
   "source": [
    "**ANSWER**"
   ]
  },
  {
   "cell_type": "markdown",
   "metadata": {},
   "source": [
    "In order for a function to be a valid probability density function, it must\n",
    "1. be non-negative; and\n",
    "2. integrate to unity over its entire domain. \n",
    "\n",
    "The latter means that $$\\int_{-\\infty}^{+\\infty} f(x)dx = 1$$ In our case, this means $$\\int_{0}^{2} \\alpha x^2 dx = 1$$ which implies $$\\alpha = \\frac{1}{\\int_0^2 x^2 dx}$$. Since $\\int_0^2 x^2 dx = \\frac{8}{3}$, it follows that $$\\alpha = \\frac{3}{8}$$ Note that since $\\alpha > 0$, the condition that $f(x)$ be non-negative is also guaranteed. Hence, for $\\alpha = \\frac{3}{8}$, $f(x)$ is a valid probability density function."
   ]
  },
  {
   "cell_type": "markdown",
   "metadata": {},
   "source": [
    "## 2\n",
    "**[3 points]** What is the cumulative distribution function (CDF) that corresponds to the following probability distribution function? Please state the value of the CDF for all possible values of $x$.\n",
    "\n",
    "$f(x) = \\begin{cases}\n",
    "    \\frac{1}{3} & 0 < x < 3 \\\\\n",
    "    0           & \\text{otherwise}\n",
    "    \\end{cases}$"
   ]
  },
  {
   "cell_type": "markdown",
   "metadata": {},
   "source": [
    "**ANSWER**"
   ]
  },
  {
   "cell_type": "markdown",
   "metadata": {},
   "source": [
    "The CDF is, by definition, $$F(x)=\\int_{-\\infty}^{x} f(s)ds \\\\ = \\int_{0}^{x} \\frac{1}{3} ds \\\\ = \\frac{x}{3}$$ for $0 < x < 3$. More correctly, one should write the CDF as follows:\n",
    "\n",
    "$$\n",
    "F(x) = \\begin{cases}\n",
    "    0 & x \\leq 0 \\\\\n",
    "    \\frac{x}{3} & 0 < x \\leq 3 \\\\\n",
    "    1           & x > 3\n",
    "    \\end{cases}\n",
    "$$\n",
    "\n",
    "Note that $F(x)$ is never decreasing and has horizontal assymptotes $lim_{x\\rightarrow -\\infty} F(x) = 0$ and $lim_{x\\rightarrow +\\infty} F(x) = 1$, indicating that it is a valid CDF."
   ]
  },
  {
   "cell_type": "markdown",
   "metadata": {},
   "source": [
    "## 3\n",
    "**[6 points]** For the probability distribution function for the random variable $X$,\n",
    "\n",
    "$f(x) = \\begin{cases}\n",
    "    \\frac{1}{3} & 0 < x < 3 \\\\\n",
    "    0           & \\text{otherwise}\n",
    "    \\end{cases}$\n",
    "    \n",
    "what is the (a) expected value and (b) variance of $X$. *Show all work*."
   ]
  },
  {
   "cell_type": "markdown",
   "metadata": {},
   "source": [
    "**ANSWER**"
   ]
  },
  {
   "cell_type": "markdown",
   "metadata": {},
   "source": [
    "(a) Expected value\n",
    "\n",
    "By definition, $$E(X) = \\int_{-\\infty}^{+\\infty} x \\cdot f(x) dx$$\n",
    "\n",
    "This implies\n",
    "\n",
    "$$ E(X) = \\int_{0}^{3} x \\cdot \\frac{1}{3} dx \\\\ = \\frac{1}{3} \\cdot \\int_{0}^{3} x dx \\\\\n",
    "= \\frac{1}{3} \\cdot \\frac{9}{2} \\\\ = \\frac{3}{2}$$\n",
    "\n",
    "(b) Variance\n",
    "\n",
    "We'll make use of the identity $$V(X) = E(X^2) - [E(X)]^2$$. We already know the value of $E(X)$ but we must still calculate the value of $E(X^2)$. It is:\n",
    "\n",
    "$$ E(X^2) = \\int_{0}^{3} x^2 \\cdot \\frac{1}{3} dx \\\\ = \\frac{1}{3} \\cdot \\int_{0}^{3} x^2 dx \\\\\n",
    "= \\frac{1}{3} \\cdot \\frac{27}{3} \\\\ = 3$$\n",
    "\n",
    "This leads us to a variance equal to\n",
    "\n",
    "$$V(X) = 3 - \\left(\\frac{3}{2}\\right)^2 = 3 - \\frac{9}{4} = \\frac{3}{4}$$\n",
    "\n",
    "Hence, to summarise,\n",
    "\n",
    "$$E(X) = \\frac{3}{2}$$ and \n",
    "$$V(X) = \\frac{3}{4}$$\n",
    "\n"
   ]
  },
  {
   "cell_type": "markdown",
   "metadata": {},
   "source": [
    "## 4\n",
    "**[6 points]** Consider the following table of data that provides the values of a discrete data vector $\\mathbf{x}$ of samples from the random variable $X$, where each entry in $\\mathbf{x}$ is given as $x_i$.\n",
    "\n",
    "*Table 1. Dataset N=5 observations*\n",
    "\n",
    "|        | $x_0$ | $x_1$ | $x_2$ | $x_3$ | $x_4$ |\n",
    "|------  |-------|-------|-------|-------|-------|\n",
    "|$\\textbf{x}$| 2     | 3     | 10    | -1    | -1    |\n",
    "\n",
    "What is the (a) mean, (b) variance, and the  of the data? \n",
    "\n",
    "*Show all work. Your answer should include the definition of mean, median, and variance in the context of discrete data.*"
   ]
  },
  {
   "cell_type": "markdown",
   "metadata": {},
   "source": [
    "**ANSWER**"
   ]
  },
  {
   "cell_type": "markdown",
   "metadata": {},
   "source": [
    "(a) Mean\n",
    "\n",
    "The mean is, by definition,\n",
    "\n",
    "$$ \\bar{X} = \\frac{\\sum_{i = 1}^{N} x_i}{N}$$\n",
    "\n",
    "So, by merely plugging the values in the formula, one gets:\n",
    "\n",
    "$$ \\bar{X} = \\frac{2 + 3 + 10 -1 -1}{5} = \\frac{13}{5} = 2.6$$\n",
    "\n",
    "\n",
    "(b) Variance\n",
    "\n",
    "The variance is defined as\n",
    "\n",
    "$$ s^2 = \\frac{\\sum_{i = 1}^{N} (x_i - \\bar{X})^2}{N-1}$$\n",
    "\n",
    "So, again, by merely plugging in the values in the formula, we obtain\n",
    "\n",
    "$$ s^2 = \\frac{(2-2.6)^2 + ... + (-1 - 2.6)^2}{5-1} = 20.3$$"
   ]
  },
  {
   "cell_type": "markdown",
   "metadata": {},
   "source": [
    "## 5\n",
    "**[8 points]** Review of counting from probability theory. \n",
    "\n",
    "(a) How many different 7-place license plates are possible if the first 3 places only contain letters and the last 4 only contain numbers?\n",
    "\n",
    "(b) How many different batting orders are possible for a baseball team with 9 players?\n",
    "\n",
    "(c) How many batting orders of 5 players are possible for a team with 9 players total?\n",
    "\n",
    "(d) Let's assume this class has 26 students and we want to form project teams. How many unique teams of 3 are possible?\n",
    "\n",
    "*Hint: For each problem, determine if order matters, and if it should be calculated with or without replacement.*"
   ]
  },
  {
   "cell_type": "markdown",
   "metadata": {},
   "source": [
    "**ANSWER**"
   ]
  },
  {
   "cell_type": "markdown",
   "metadata": {},
   "source": [
    "(a)\n",
    "\n",
    "$$26^3 \\cdot 10^4$$\n",
    "In this case, the order matters and calculations should be made with replacement.\n",
    "\n",
    "(b)\n",
    "\n",
    "$$9!$$\n",
    "In this case, the order matters and calculations should be made without replacement.\n",
    "\n",
    "(c)\n",
    "\n",
    "$$\\frac{9!}{4!}$$\n",
    "In this case, the order matters and calculations should be made without replacement.\n",
    "\n",
    "(d)\n",
    "\n",
    "$$\\frac{26!}{3!\\cdot23!}$$\n",
    "In this case, the order does not matter and calculations should be made without replacement."
   ]
  },
  {
   "cell_type": "markdown",
   "metadata": {},
   "source": [
    "# Linear Algebra"
   ]
  },
  {
   "cell_type": "markdown",
   "metadata": {},
   "source": [
    "## 6\n",
    "**[7 points]** **Matrix manipulations and multiplication**. Machine learning involves working with many matrices, so this exercise will provide you with the opportunity to practice those skills.\n",
    "\n",
    "Let\n",
    "$\\mathbf{A} =  \\begin{bmatrix}\n",
    "1 & 2 & 3 \\\\\n",
    "2 & 4 & 5 \\\\\n",
    "3 & 5 & 6 \n",
    "\\end{bmatrix}$, $\\mathbf{b} =  \\begin{bmatrix}\n",
    "-1  \\\\\n",
    "3  \\\\\n",
    "8  \n",
    "\\end{bmatrix}$, $\\mathbf{c} =  \\begin{bmatrix}\n",
    "4  \\\\\n",
    "-3  \\\\\n",
    "6  \n",
    "\\end{bmatrix}$, and $\\mathbf{I} =  \\begin{bmatrix}\n",
    "1 & 0 & 0 \\\\\n",
    "0 & 1 & 0 \\\\\n",
    "0 & 0 & 1 \n",
    "\\end{bmatrix}$\n",
    "\n",
    "Compute the following or indicate that it cannot be computed:\n",
    "\n",
    "1. $\\mathbf{A}\\mathbf{A}$\n",
    "2. $\\mathbf{A}\\mathbf{A}^T$\n",
    "3. $\\mathbf{A}\\mathbf{b}$\n",
    "4. $\\mathbf{A}\\mathbf{b}^T$\n",
    "5. $\\mathbf{b}\\mathbf{A}$\n",
    "6. $\\mathbf{b}^T\\mathbf{A}$\n",
    "7. $\\mathbf{b}\\mathbf{b}$\n",
    "8. $\\mathbf{b}^T\\mathbf{b}$\n",
    "9. $\\mathbf{b}\\mathbf{b}^T$\n",
    "10. $\\mathbf{b} + \\mathbf{c}^T$\n",
    "11. $\\mathbf{b}^T\\mathbf{b}^T$\n",
    "12. $\\mathbf{A}^{-1}\\mathbf{b}$\n",
    "13. $\\mathbf{A}\\circ\\mathbf{A}$\n",
    "14. $\\mathbf{b}\\circ\\mathbf{c}$\n",
    "\n",
    "*Note: The element-wise (or Hadamard) product is the product of each element in one matrix with the corresponding element in another matrix, and is represented by the symbol \"$\\circ$\".*"
   ]
  },
  {
   "cell_type": "markdown",
   "metadata": {},
   "source": [
    "**ANSWER**"
   ]
  },
  {
   "cell_type": "code",
   "execution_count": 1,
   "metadata": {},
   "outputs": [],
   "source": [
    "import numpy as np\n",
    "import numpy.linalg as la\n",
    "\n",
    "#We begin by defining the matrices we will be using\n",
    "A = np.matrix([[1,2,3],[2,4,5],[3,5,6]])\n",
    "b = np.matrix([[-1, 3, 8]]).T\n",
    "c = np.matrix([[4, -3, 6]]).T\n",
    "I = np.diag([1,1,1])\n",
    "\n",
    "#Now we define a function to multiply the matrices, if possible, \n",
    "#or to explain to us why the multiplication cannot be done, if otherwise\n",
    "def mmult(m1, m2):\n",
    "    if m1.shape[1] == m2.shape[0]:\n",
    "        return(m1 * m2)\n",
    "    else:\n",
    "        print(\"These two matrices cannot be multiplied, because the first one has {} columns whereas the second has {} rows\".format(m1.shape[1], m2.shape[0]))\n",
    "        return(None)\n",
    "    "
   ]
  },
  {
   "cell_type": "code",
   "execution_count": 3,
   "metadata": {},
   "outputs": [
    {
     "data": {
      "text/markdown": [
       "1. $\\mathbf{A}\\mathbf{A}$"
      ],
      "text/plain": [
       "<IPython.core.display.Markdown object>"
      ]
     },
     "metadata": {},
     "output_type": "display_data"
    },
    {
     "name": "stdout",
     "output_type": "stream",
     "text": [
      "[[14 25 31]\n",
      " [25 45 56]\n",
      " [31 56 70]]\n"
     ]
    },
    {
     "data": {
      "text/markdown": [
       "2. $\\mathbf{A}\\mathbf{A}^T$"
      ],
      "text/plain": [
       "<IPython.core.display.Markdown object>"
      ]
     },
     "metadata": {},
     "output_type": "display_data"
    },
    {
     "name": "stdout",
     "output_type": "stream",
     "text": [
      "[[14 25 31]\n",
      " [25 45 56]\n",
      " [31 56 70]]\n"
     ]
    },
    {
     "data": {
      "text/markdown": [
       "3. $\\mathbf{A}\\mathbf{b}$"
      ],
      "text/plain": [
       "<IPython.core.display.Markdown object>"
      ]
     },
     "metadata": {},
     "output_type": "display_data"
    },
    {
     "name": "stdout",
     "output_type": "stream",
     "text": [
      "[[29]\n",
      " [50]\n",
      " [60]]\n"
     ]
    },
    {
     "data": {
      "text/markdown": [
       "4. $\\mathbf{A}\\mathbf{b}^T$"
      ],
      "text/plain": [
       "<IPython.core.display.Markdown object>"
      ]
     },
     "metadata": {},
     "output_type": "display_data"
    },
    {
     "name": "stdout",
     "output_type": "stream",
     "text": [
      "These two matrices cannot be multiplied, because the first one has 3 columns whereas the second has 1 rows\n",
      "None\n"
     ]
    },
    {
     "data": {
      "text/markdown": [
       "5. $\\mathbf{b}\\mathbf{A}$"
      ],
      "text/plain": [
       "<IPython.core.display.Markdown object>"
      ]
     },
     "metadata": {},
     "output_type": "display_data"
    },
    {
     "name": "stdout",
     "output_type": "stream",
     "text": [
      "These two matrices cannot be multiplied, because the first one has 1 columns whereas the second has 3 rows\n",
      "None\n"
     ]
    },
    {
     "data": {
      "text/markdown": [
       "6. $\\mathbf{b}^T\\mathbf{A}$"
      ],
      "text/plain": [
       "<IPython.core.display.Markdown object>"
      ]
     },
     "metadata": {},
     "output_type": "display_data"
    },
    {
     "name": "stdout",
     "output_type": "stream",
     "text": [
      "[[29 50 60]]\n"
     ]
    },
    {
     "data": {
      "text/markdown": [
       "7. $\\mathbf{b}\\mathbf{b}$"
      ],
      "text/plain": [
       "<IPython.core.display.Markdown object>"
      ]
     },
     "metadata": {},
     "output_type": "display_data"
    },
    {
     "name": "stdout",
     "output_type": "stream",
     "text": [
      "These two matrices cannot be multiplied, because the first one has 1 columns whereas the second has 3 rows\n",
      "None\n"
     ]
    },
    {
     "data": {
      "text/markdown": [
       "8. $\\mathbf{b}^T\\mathbf{b}$"
      ],
      "text/plain": [
       "<IPython.core.display.Markdown object>"
      ]
     },
     "metadata": {},
     "output_type": "display_data"
    },
    {
     "name": "stdout",
     "output_type": "stream",
     "text": [
      "[[74]]\n"
     ]
    },
    {
     "data": {
      "text/markdown": [
       "9. $\\mathbf{b}\\mathbf{b}^T$"
      ],
      "text/plain": [
       "<IPython.core.display.Markdown object>"
      ]
     },
     "metadata": {},
     "output_type": "display_data"
    },
    {
     "name": "stdout",
     "output_type": "stream",
     "text": [
      "[[ 1 -3 -8]\n",
      " [-3  9 24]\n",
      " [-8 24 64]]\n"
     ]
    },
    {
     "data": {
      "text/markdown": [
       "10. $\\mathbf{b} + \\mathbf{c}^T$"
      ],
      "text/plain": [
       "<IPython.core.display.Markdown object>"
      ]
     },
     "metadata": {},
     "output_type": "display_data"
    },
    {
     "name": "stdout",
     "output_type": "stream",
     "text": [
      "[[ -4   3  -6]\n",
      " [ 12  -9  18]\n",
      " [ 32 -24  48]]\n"
     ]
    },
    {
     "data": {
      "text/markdown": [
       "11. $\\mathbf{b}^T\\mathbf{b}^T$"
      ],
      "text/plain": [
       "<IPython.core.display.Markdown object>"
      ]
     },
     "metadata": {},
     "output_type": "display_data"
    },
    {
     "name": "stdout",
     "output_type": "stream",
     "text": [
      "These two matrices cannot be multiplied, because the first one has 3 columns whereas the second has 1 rows\n",
      "None\n"
     ]
    },
    {
     "data": {
      "text/markdown": [
       "12. $\\mathbf{A}^{-1}\\mathbf{b}$"
      ],
      "text/plain": [
       "<IPython.core.display.Markdown object>"
      ]
     },
     "metadata": {},
     "output_type": "display_data"
    },
    {
     "name": "stdout",
     "output_type": "stream",
     "text": [
      "[[ 6.]\n",
      " [ 4.]\n",
      " [-5.]]\n"
     ]
    },
    {
     "data": {
      "text/markdown": [
       "13. $\\mathbf{A}\\circ\\mathbf{A}$"
      ],
      "text/plain": [
       "<IPython.core.display.Markdown object>"
      ]
     },
     "metadata": {},
     "output_type": "display_data"
    },
    {
     "name": "stdout",
     "output_type": "stream",
     "text": [
      "[[ 1  4  9]\n",
      " [ 4 16 25]\n",
      " [ 9 25 36]]\n"
     ]
    },
    {
     "data": {
      "text/markdown": [
       "14. $\\mathbf{b}\\circ\\mathbf{c}$"
      ],
      "text/plain": [
       "<IPython.core.display.Markdown object>"
      ]
     },
     "metadata": {},
     "output_type": "display_data"
    },
    {
     "name": "stdout",
     "output_type": "stream",
     "text": [
      "[[-4]\n",
      " [-9]\n",
      " [48]]\n"
     ]
    }
   ],
   "source": [
    "from IPython.display import Markdown, display\n",
    "\n",
    "display(Markdown(\"1. $\\mathbf{A}\\mathbf{A}$\"))\n",
    "print(mmult(A,A))\n",
    "\n",
    "display(Markdown(\"2. $\\mathbf{A}\\mathbf{A}^T$\"))\n",
    "print(mmult(A,A.T))\n",
    "\n",
    "display(Markdown(\"3. $\\mathbf{A}\\mathbf{b}$\"))\n",
    "print(mmult(A, b))\n",
    "\n",
    "display(Markdown(\"4. $\\mathbf{A}\\mathbf{b}^T$\"))\n",
    "print(mmult(A,b.T))\n",
    "\n",
    "display(Markdown(\"5. $\\mathbf{b}\\mathbf{A}$\"))\n",
    "print(mmult(b,A))\n",
    "\n",
    "display(Markdown(\"6. $\\mathbf{b}^T\\mathbf{A}$\"))\n",
    "print(mmult(b.T,A))\n",
    "\n",
    "display(Markdown(\"7. $\\mathbf{b}\\mathbf{b}$\"))\n",
    "print(mmult(b,b))\n",
    "\n",
    "display(Markdown(\"8. $\\mathbf{b}^T\\mathbf{b}$\"))\n",
    "print(mmult(b.T,b))\n",
    "\n",
    "display(Markdown(\"9. $\\mathbf{b}\\mathbf{b}^T$\"))\n",
    "print(mmult(b,b.T))\n",
    "\n",
    "display(Markdown(\"10. $\\mathbf{b} + \\mathbf{c}^T$\"))\n",
    "print(mmult(b,c.T))\n",
    "\n",
    "display(Markdown(\"11. $\\mathbf{b}^T\\mathbf{b}^T$\"))\n",
    "print(mmult(b.T,b.T))\n",
    "\n",
    "display(Markdown(\"12. $\\mathbf{A}^{-1}\\mathbf{b}$\"))\n",
    "print(mmult(la.inv(A),b))\n",
    "\n",
    "display(Markdown(\"13. $\\mathbf{A}\\circ\\mathbf{A}$\"))\n",
    "print(np.multiply(A,A))\n",
    "\n",
    "display(Markdown(\"14. $\\mathbf{b}\\circ\\mathbf{c}$\"))\n",
    "print(np.multiply(b,c))\n"
   ]
  },
  {
   "cell_type": "markdown",
   "metadata": {},
   "source": [
    "## 7\n",
    "**[8 points]** **Eigenvectors and eigenvalues**. Eigenvectors and eigenvalues are useful for some machine learning algorithms, but the concepts take time to solidly grasp. For an intuitive review of these concepts, explore this [interactive website at Setosa.io](http://setosa.io/ev/eigenvectors-and-eigenvalues/). Also, the series of linear algebra videos by Grant Sanderson of 3Brown1Blue are excellent and can be viewed on youtube [here](https://www.youtube.com/playlist?list=PLZHQObOWTQDPD3MizzM2xVFitgF8hE_ab).\n",
    "\n",
    "1. Calculate the eigenvalues and corresponding eigenvectors of matrix $\\mathbf{A}$ above, from the last question.\n",
    "2. Choose one of the eigenvector/eigenvalue pairs, $\\mathbf{v}$ and $\\lambda$, and show that $\\mathbf{A} \\mathbf{v} = \\lambda \\mathbf{v}$. Also show that this relationship extends to higher orders: $\\mathbf{A} \\mathbf{A} \\mathbf{v} = \\lambda^2 \\mathbf{v}$\n",
    "3. Show that the eigenvectors are orthogonal to one another (e.g. their inner product is zero). This is true for real, symmetric matrices."
   ]
  },
  {
   "cell_type": "markdown",
   "metadata": {},
   "source": [
    "**ANSWER**"
   ]
  },
  {
   "cell_type": "code",
   "execution_count": 12,
   "metadata": {},
   "outputs": [
    {
     "name": "stdout",
     "output_type": "stream",
     "text": [
      "1.\n",
      "The eigenvalues of A are 11.345, -0.516 and 0.171,associated respectively to eigenvectors [-0.328 -0.737  0.591],[-0.591 -0.328 -0.737] and [-0.737  0.591  0.328]\n",
      "2.\n",
      "I'll choose the first eigenpair, which has eigenvalue 11.344814282762082 and eigenvector [[-0.32798528 -0.59100905 -0.73697623]]\n"
     ]
    },
    {
     "data": {
      "text/markdown": [
       "Let's calculate $\\mathbf{Av}$ and $\\lambda \\cdot v$ and show that they're the same"
      ],
      "text/plain": [
       "<IPython.core.display.Markdown object>"
      ]
     },
     "metadata": {},
     "output_type": "display_data"
    },
    {
     "data": {
      "text/markdown": [
       "$\\mathbf{Av}$"
      ],
      "text/plain": [
       "<IPython.core.display.Markdown object>"
      ]
     },
     "metadata": {},
     "output_type": "display_data"
    },
    {
     "name": "stdout",
     "output_type": "stream",
     "text": [
      "[[-3.72093206]\n",
      " [-6.70488789]\n",
      " [-8.36085845]]\n"
     ]
    },
    {
     "data": {
      "text/markdown": [
       "$\\lambda\\mathbf{v}$"
      ],
      "text/plain": [
       "<IPython.core.display.Markdown object>"
      ]
     },
     "metadata": {},
     "output_type": "display_data"
    },
    {
     "name": "stdout",
     "output_type": "stream",
     "text": [
      "[[-3.72093206]\n",
      " [-6.70488789]\n",
      " [-8.36085845]]\n",
      "They match!\n",
      "3.\n"
     ]
    },
    {
     "data": {
      "text/markdown": [
       "$\\mathbf{v_0}\\mathbf{v_1}$"
      ],
      "text/plain": [
       "<IPython.core.display.Markdown object>"
      ]
     },
     "metadata": {},
     "output_type": "display_data"
    },
    {
     "name": "stdout",
     "output_type": "stream",
     "text": [
      "[[-4.99600361e-16]]\n"
     ]
    },
    {
     "data": {
      "text/markdown": [
       "$\\mathbf{v_0}\\mathbf{v_2}$"
      ],
      "text/plain": [
       "<IPython.core.display.Markdown object>"
      ]
     },
     "metadata": {},
     "output_type": "display_data"
    },
    {
     "name": "stdout",
     "output_type": "stream",
     "text": [
      "[[5.55111512e-17]]\n"
     ]
    },
    {
     "data": {
      "text/markdown": [
       "$\\mathbf{v_1}\\mathbf{v_2}$"
      ],
      "text/plain": [
       "<IPython.core.display.Markdown object>"
      ]
     },
     "metadata": {},
     "output_type": "display_data"
    },
    {
     "name": "stdout",
     "output_type": "stream",
     "text": [
      "[[3.60822483e-16]]\n"
     ]
    }
   ],
   "source": [
    "print(\"1.\")\n",
    "eigen = la.eig(A)\n",
    "values = np.round(eigen[0], 3)\n",
    "vectors = np.round(eigen[1], 3)\n",
    "\n",
    "print(\"The eigenvalues of A are {}, {} and {},associated respectively to eigenvectors {},{} and {}\".format(values[0], values[1], values[2], vectors[0], vectors[1], vectors[2]))\n",
    "\n",
    "print(\"2.\")\n",
    "l = eigen[0][0]\n",
    "v = eigen[1][:,0]\n",
    "print(\"I'll choose the first eigenpair, which has eigenvalue {} and eigenvector {}\".format(l, v.T))\n",
    "display(Markdown(\"Let's calculate $\\mathbf{Av}$ and $\\lambda \\cdot v$ and show that they're the same\"))\n",
    "display(Markdown(\"$\\mathbf{Av}$\"))\n",
    "Av = mmult(A,v)\n",
    "print(Av)\n",
    "display(Markdown(\"$\\lambda\\mathbf{v}$\"))\n",
    "lv = l * v\n",
    "print(lv)\n",
    "print(\"They match!\")\n",
    "\n",
    "print(\"3.\")\n",
    "vectors = eigen[1]\n",
    "display(Markdown(\"$\\mathbf{v_0}\\mathbf{v_1}$\"))\n",
    "print(vectors[0].dot(vectors[1].T))\n",
    "\n",
    "display(Markdown(\"$\\mathbf{v_0}\\mathbf{v_2}$\"))\n",
    "print(vectors[0].dot(vectors[2].T))\n",
    "\n",
    "display(Markdown(\"$\\mathbf{v_1}\\mathbf{v_2}$\"))\n",
    "print(vectors[1].dot(vectors[2].T))\n"
   ]
  },
  {
   "cell_type": "markdown",
   "metadata": {},
   "source": [
    "# Numerical Programming"
   ]
  },
  {
   "cell_type": "markdown",
   "metadata": {},
   "source": [
    "## 8\n",
    "**[10 points]** Loading data and gathering insights from a real dataset\n",
    "\n",
    "**Data**. The data for this problem can be found in the `data` subfolder in the `assignments` folder on [github](https://github.com/kylebradbury/ids705). The filename is `egrid2016.xlsx`. This dataset is the Environmental Protection Agency's (EPA) [Emissions & Generation Resource Integrated Database (eGRID)](https://www.epa.gov/energy/emissions-generation-resource-integrated-database-egrid) containing information about all power plants in the United States, the amount of generation they produce, what fuel they use, the location of the plant, and many more quantities. We'll be using a subset of those data.\n",
    "\n",
    "The fields we'll be using include:\t\t\t\t\t\n",
    "    \n",
    "|field    |description|\n",
    "|:-----   |:-----|\n",
    "|SEQPLT16 |eGRID2016 Plant file sequence number (the index)| \n",
    "|PSTATABB |Plant state abbreviation|\n",
    "|PNAME    |Plant name |\n",
    "|LAT      |Plant latitude |\n",
    "|LON      |Plant longitude|\n",
    "|PLPRMFL  |Plant primary fuel |\n",
    "|CAPFAC   |Plant capacity factor |\n",
    "|NAMEPCAP |Plant nameplate capacity (Megawatts MW)|\n",
    "|PLNGENAN |Plant annual net generation (Megawatt-hours MWh)|\n",
    "|PLCO2EQA |Plant annual CO2 equivalent emissions (tons)|\n",
    "\n",
    "For more details on the data, you can refer to the [eGrid technical documents](https://www.epa.gov/sites/production/files/2018-02/documents/egrid2016_technicalsupportdocument_0.pdf). For example, you may want to review page 45 and the section \"Plant Primary Fuel (PLPRMFL)\", which gives the full names of the fuel types including WND for wind, NG for natural gas, BIT for Bituminous coal, etc.\n",
    "\n",
    "There also are a couple of \"gotchas\" to watch out for with this dataset:\n",
    "- The headers are on the second row and you'll want to ignore the first row (they're more detailed descriptions of the headers).\n",
    "- NaN values represent blanks in the data. These will appear regularly in real-world data, so getting experience working with it will be important.\n",
    "\n",
    "**Your objective**. For this dataset, your goal is answer the following questions about electricity generation in the United States:\n",
    "\n",
    "**(a)** Which plant has generated the most energy (measured in MWh)?\n",
    "\n",
    "**(b)** What is the name of the northern-most power plant in the United States?\n",
    "\n",
    "**(c)** What is the state where the northern-most power plant in the United States is located?\n",
    "\n",
    "**(d)** Plot a histogram of the amount of energy produced by each fuel for the plant. \n",
    "\n",
    "**(e)** From the plot in (e), which fuel for generation produces the most energy (MWh) in the United States?"
   ]
  },
  {
   "cell_type": "markdown",
   "metadata": {},
   "source": [
    "**ANSWER**"
   ]
  },
  {
   "cell_type": "code",
   "execution_count": 108,
   "metadata": {},
   "outputs": [],
   "source": [
    "import os\n",
    "import pandas as pd\n",
    "data = pd.read_excel(\"../ids705/assignments/data/egrid2016.xlsx\",header = 1)"
   ]
  },
  {
   "cell_type": "code",
   "execution_count": 109,
   "metadata": {},
   "outputs": [
    {
     "data": {
      "text/html": [
       "<div>\n",
       "<style scoped>\n",
       "    .dataframe tbody tr th:only-of-type {\n",
       "        vertical-align: middle;\n",
       "    }\n",
       "\n",
       "    .dataframe tbody tr th {\n",
       "        vertical-align: top;\n",
       "    }\n",
       "\n",
       "    .dataframe thead th {\n",
       "        text-align: right;\n",
       "    }\n",
       "</style>\n",
       "<table border=\"1\" class=\"dataframe\">\n",
       "  <thead>\n",
       "    <tr style=\"text-align: right;\">\n",
       "      <th></th>\n",
       "      <th>SEQPLT16</th>\n",
       "      <th>PSTATABB</th>\n",
       "      <th>PNAME</th>\n",
       "      <th>LAT</th>\n",
       "      <th>LON</th>\n",
       "      <th>PLPRMFL</th>\n",
       "      <th>CAPFAC</th>\n",
       "      <th>NAMEPCAP</th>\n",
       "      <th>PLNGENAN</th>\n",
       "      <th>PLCO2EQA</th>\n",
       "    </tr>\n",
       "  </thead>\n",
       "  <tbody>\n",
       "    <tr>\n",
       "      <th>0</th>\n",
       "      <td>1</td>\n",
       "      <td>AK</td>\n",
       "      <td>7-Mile Ridge Wind Project</td>\n",
       "      <td>63.210689</td>\n",
       "      <td>-143.247156</td>\n",
       "      <td>WND</td>\n",
       "      <td>NaN</td>\n",
       "      <td>1.8</td>\n",
       "      <td>NaN</td>\n",
       "      <td>NaN</td>\n",
       "    </tr>\n",
       "    <tr>\n",
       "      <th>1</th>\n",
       "      <td>2</td>\n",
       "      <td>AK</td>\n",
       "      <td>Agrium Kenai Nitrogen Operations</td>\n",
       "      <td>60.673200</td>\n",
       "      <td>-151.378400</td>\n",
       "      <td>NG</td>\n",
       "      <td>NaN</td>\n",
       "      <td>21.6</td>\n",
       "      <td>NaN</td>\n",
       "      <td>NaN</td>\n",
       "    </tr>\n",
       "    <tr>\n",
       "      <th>2</th>\n",
       "      <td>3</td>\n",
       "      <td>AK</td>\n",
       "      <td>Alakanuk</td>\n",
       "      <td>62.683300</td>\n",
       "      <td>-164.654400</td>\n",
       "      <td>DFO</td>\n",
       "      <td>0.05326</td>\n",
       "      <td>2.6</td>\n",
       "      <td>1213.001</td>\n",
       "      <td>1049.863</td>\n",
       "    </tr>\n",
       "    <tr>\n",
       "      <th>3</th>\n",
       "      <td>4</td>\n",
       "      <td>AK</td>\n",
       "      <td>Allison Creek Hydro</td>\n",
       "      <td>61.084444</td>\n",
       "      <td>-146.353333</td>\n",
       "      <td>WAT</td>\n",
       "      <td>0.01547</td>\n",
       "      <td>6.5</td>\n",
       "      <td>881.000</td>\n",
       "      <td>0.000</td>\n",
       "    </tr>\n",
       "    <tr>\n",
       "      <th>4</th>\n",
       "      <td>5</td>\n",
       "      <td>AK</td>\n",
       "      <td>Ambler</td>\n",
       "      <td>67.087980</td>\n",
       "      <td>-157.856719</td>\n",
       "      <td>DFO</td>\n",
       "      <td>0.13657</td>\n",
       "      <td>1.1</td>\n",
       "      <td>1315.999</td>\n",
       "      <td>1087.881</td>\n",
       "    </tr>\n",
       "  </tbody>\n",
       "</table>\n",
       "</div>"
      ],
      "text/plain": [
       "   SEQPLT16 PSTATABB                             PNAME        LAT         LON  \\\n",
       "0         1       AK         7-Mile Ridge Wind Project  63.210689 -143.247156   \n",
       "1         2       AK  Agrium Kenai Nitrogen Operations  60.673200 -151.378400   \n",
       "2         3       AK                          Alakanuk  62.683300 -164.654400   \n",
       "3         4       AK               Allison Creek Hydro  61.084444 -146.353333   \n",
       "4         5       AK                            Ambler  67.087980 -157.856719   \n",
       "\n",
       "  PLPRMFL   CAPFAC  NAMEPCAP  PLNGENAN  PLCO2EQA  \n",
       "0     WND      NaN       1.8       NaN       NaN  \n",
       "1      NG      NaN      21.6       NaN       NaN  \n",
       "2     DFO  0.05326       2.6  1213.001  1049.863  \n",
       "3     WAT  0.01547       6.5   881.000     0.000  \n",
       "4     DFO  0.13657       1.1  1315.999  1087.881  "
      ]
     },
     "execution_count": 109,
     "metadata": {},
     "output_type": "execute_result"
    }
   ],
   "source": [
    "data.head()"
   ]
  },
  {
   "cell_type": "markdown",
   "metadata": {},
   "source": [
    "**(a)**"
   ]
  },
  {
   "cell_type": "code",
   "execution_count": 141,
   "metadata": {},
   "outputs": [
    {
     "name": "stdout",
     "output_type": "stream",
     "text": [
      "The plant which generated the most energy (among all for which data is available) was plant Palo Verde (AZ), which generated 32377476.999  MWh\n"
     ]
    }
   ],
   "source": [
    "plant = data.sort_values(\"PLNGENAN\",ascending = False).head(1)\n",
    "name = plant.loc[:,\"PNAME\"].values[0]\n",
    "state = plant.loc[:,\"PSTATABB\"].values[0]\n",
    "generation = plant.loc[:,\"PLNGENAN\"].values[0]\n",
    "\n",
    "print(\"The plant which generated the most energy (among all for which data is available) was plant {} ({}), which generated {}  MWh\".format(name, state, generation))"
   ]
  },
  {
   "cell_type": "markdown",
   "metadata": {},
   "source": [
    "**(b)**"
   ]
  },
  {
   "cell_type": "code",
   "execution_count": 142,
   "metadata": {},
   "outputs": [
    {
     "name": "stdout",
     "output_type": "stream",
     "text": [
      "The northernmost plan in the US is plant Barrow (AK), which is located at latitude 71.292N\n"
     ]
    }
   ],
   "source": [
    "plant = data.sort_values(\"LAT\",ascending = False).head(1)\n",
    "name = plant.loc[:,\"PNAME\"].values[0]\n",
    "state = plant.loc[:,\"PSTATABB\"].values[0]\n",
    "lat = plant.loc[:,\"LAT\"].values[0]\n",
    "\n",
    "print(\"The northernmost plan in the US is plant {} ({}), which is located at latitude {}N\".format(name, state, lat))"
   ]
  },
  {
   "cell_type": "markdown",
   "metadata": {},
   "source": [
    "**(c)**"
   ]
  },
  {
   "cell_type": "code",
   "execution_count": 144,
   "metadata": {},
   "outputs": [
    {
     "name": "stdout",
     "output_type": "stream",
     "text": [
      "AK\n"
     ]
    }
   ],
   "source": [
    "print(state)"
   ]
  },
  {
   "cell_type": "markdown",
   "metadata": {},
   "source": [
    "**(d)**\n",
    "(I'm not sure whate the question means when it says \"for each fuel for a plant\", so I'm assuming you want a histogram of energy generated by plants with each fuel type. However, to guarantee some meaning to these histograms, I'll only plot them for fuels which are used by at least 100 plants)"
   ]
  },
  {
   "cell_type": "code",
   "execution_count": 179,
   "metadata": {},
   "outputs": [
    {
     "data": {
      "image/png": "[encoded data removed]",
      "text/plain": [
       "<Figure size 432x288 with 1 Axes>"
      ]
     },
     "metadata": {
      "needs_background": "light"
     },
     "output_type": "display_data"
    },
    {
     "data": {
      "image/png": "[encoded data removed]",
      "text/plain": [
       "<Figure size 432x288 with 1 Axes>"
      ]
     },
     "metadata": {
      "needs_background": "light"
     },
     "output_type": "display_data"
    },
    {
     "data": {
      "image/png": "[encoded data removed]",
      "text/plain": [
       "<Figure size 432x288 with 1 Axes>"
      ]
     },
     "metadata": {
      "needs_background": "light"
     },
     "output_type": "display_data"
    },
    {
     "data": {
      "image/png": "[encoded data removed]",
      "text/plain": [
       "<Figure size 432x288 with 1 Axes>"
      ]
     },
     "metadata": {
      "needs_background": "light"
     },
     "output_type": "display_data"
    },
    {
     "data": {
      "image/png": "[encoded data removed]",
      "text/plain": [
       "<Figure size 432x288 with 1 Axes>"
      ]
     },
     "metadata": {
      "needs_background": "light"
     },
     "output_type": "display_data"
    },
    {
     "data": {
      "image/png": "[encoded data removed]",
      "text/plain": [
       "<Figure size 432x288 with 1 Axes>"
      ]
     },
     "metadata": {
      "needs_background": "light"
     },
     "output_type": "display_data"
    },
    {
     "data": {
      "image/png": "[encoded data removed]",
      "text/plain": [
       "<Figure size 432x288 with 1 Axes>"
      ]
     },
     "metadata": {
      "needs_background": "light"
     },
     "output_type": "display_data"
    },
    {
     "data": {
      "image/png": "[encoded data removed]",
      "text/plain": [
       "<Figure size 432x288 with 1 Axes>"
      ]
     },
     "metadata": {
      "needs_background": "light"
     },
     "output_type": "display_data"
    },
    {
     "data": {
      "image/png": "[encoded data removed]",
      "text/plain": [
       "<Figure size 432x288 with 1 Axes>"
      ]
     },
     "metadata": {
      "needs_background": "light"
     },
     "output_type": "display_data"
    }
   ],
   "source": [
    "import matplotlib.pyplot as plt\n",
    "\n",
    "gen_by_fuel = data.loc[:,[\"PLPRMFL\",\"PLNGENAN\"]]\n",
    "fuel_types = list(gen_by_fuel.PLPRMFL.sort_values().unique())\n",
    "\n",
    "for fuel in fuel_types:\n",
    "    gen = gen_by_fuel.loc[gen_by_fuel.PLPRMFL == fuel,\"PLNGENAN\"]\n",
    "    if len(gen) >= 100:\n",
    "        plt.hist(gen)\n",
    "        plt.title(fuel)\n",
    "        plt.show()\n"
   ]
  },
  {
   "cell_type": "markdown",
   "metadata": {},
   "source": [
    "**(e)** This question can be most easily answered by calculating the total output for each kind of fuel and seeing which fuel type ranks highest. The answer we get is **Natural gas**."
   ]
  },
  {
   "cell_type": "code",
   "execution_count": 193,
   "metadata": {},
   "outputs": [
    {
     "data": {
      "text/html": [
       "<div>\n",
       "<style scoped>\n",
       "    .dataframe tbody tr th:only-of-type {\n",
       "        vertical-align: middle;\n",
       "    }\n",
       "\n",
       "    .dataframe tbody tr th {\n",
       "        vertical-align: top;\n",
       "    }\n",
       "\n",
       "    .dataframe thead th {\n",
       "        text-align: right;\n",
       "    }\n",
       "</style>\n",
       "<table border=\"1\" class=\"dataframe\">\n",
       "  <thead>\n",
       "    <tr style=\"text-align: right;\">\n",
       "      <th></th>\n",
       "      <th>PLNGENAN</th>\n",
       "    </tr>\n",
       "    <tr>\n",
       "      <th>PLPRMFL</th>\n",
       "      <th></th>\n",
       "    </tr>\n",
       "  </thead>\n",
       "  <tbody>\n",
       "    <tr>\n",
       "      <th>NG</th>\n",
       "      <td>1.314956e+09</td>\n",
       "    </tr>\n",
       "    <tr>\n",
       "      <th>NUC</th>\n",
       "      <td>8.124758e+08</td>\n",
       "    </tr>\n",
       "    <tr>\n",
       "      <th>BIT</th>\n",
       "      <td>5.049193e+08</td>\n",
       "    </tr>\n",
       "    <tr>\n",
       "      <th>SUB</th>\n",
       "      <td>4.716984e+08</td>\n",
       "    </tr>\n",
       "    <tr>\n",
       "      <th>WAT</th>\n",
       "      <td>2.607785e+08</td>\n",
       "    </tr>\n",
       "  </tbody>\n",
       "</table>\n",
       "</div>"
      ],
      "text/plain": [
       "             PLNGENAN\n",
       "PLPRMFL              \n",
       "NG       1.314956e+09\n",
       "NUC      8.124758e+08\n",
       "BIT      5.049193e+08\n",
       "SUB      4.716984e+08\n",
       "WAT      2.607785e+08"
      ]
     },
     "execution_count": 193,
     "metadata": {},
     "output_type": "execute_result"
    }
   ],
   "source": [
    "data.loc[:,[\"PLPRMFL\",\"PLNGENAN\"]].groupby(\"PLPRMFL\").sum().sort_values(\"PLNGENAN\",ascending = False).head(5)"
   ]
  },
  {
   "cell_type": "markdown",
   "metadata": {},
   "source": [
    "## 9\n",
    "**[8 points]** Speed comparison between vectorized and non-vectorized code. Begin by creating an array of 10 million random numbers using the numpy random.randn module. Compute the sum of the squares first in a for loop, then using Numpy's `dot` module. Time how long it takes to compute each and report the results and report the output. How many times faster is the vectorized code than the for loop approach?\n",
    "\n",
    "*Note: all code should be well commented, properly formatted, and your answers should be output using the `print()` function as follows (where the # represents your answers, to a reasonable precision):\n",
    "\n",
    "`Time [sec] (non-vectorized): ######`\n",
    "\n",
    "`Time [sec] (vectorized):     ######`\n",
    "\n",
    "`The vectorized code is ##### times faster than the vectorized code`"
   ]
  },
  {
   "cell_type": "markdown",
   "metadata": {},
   "source": [
    "**ANSWER**"
   ]
  },
  {
   "cell_type": "code",
   "execution_count": 195,
   "metadata": {},
   "outputs": [
    {
     "name": "stdout",
     "output_type": "stream",
     "text": [
      "Time [sec] (non-vectorized): 12.63\n",
      "Time [sec] (vectorized): 0.01\n",
      "The vectorized code is 1808.47 times faster than the non-vectorized code\n"
     ]
    }
   ],
   "source": [
    "import numpy as np\n",
    "import time\n",
    "\n",
    "# Generate the random samples\n",
    "\n",
    "x = np.random.randn(10**7)\n",
    "\n",
    "# Compute the sum of squares the non-vectorized way (using a for loop)\n",
    "start_time_loop = time.time()\n",
    "ssq = 0\n",
    "for i in x:\n",
    "    ssq += i**2\n",
    "elapsed_time_loop = time.time() - start_time_loop \n",
    "\n",
    "# Compute the sum of squares the vectorized way (using numpy)\n",
    "start_time_vector = time.time()\n",
    "x.dot(x)\n",
    "elapsed_time_vector = time.time() - start_time_vector \n",
    "\n",
    "\n",
    "# Print the results\n",
    "print(\"Time [sec] (non-vectorized): {:.2f}\".format(elapsed_time_loop))\n",
    "print(\"Time [sec] (vectorized): {:.2f}\".format(elapsed_time_vector))\n",
    "print(\"The vectorized code is {:.2f} times faster than the non-vectorized code\".format(elapsed_time_loop/elapsed_time_vector))"
   ]
  },
  {
   "cell_type": "markdown",
   "metadata": {},
   "source": [
    "## 10\n",
    "**[10 points]** One popular Agile development framework is Scrum (a paradigm recommended for data science projects). It emphasizes the continual evolution of code for projects, becoming progressively better, but starting with a quickly developed minimum viable product. This often means that code written early on is not optimized, and that's a good thing - it's best to get it to work first before optimizing. Imagine that you wrote the following code during a sprint towards getting an end-to-end system working. Vectorize the following code and show the difference in speed between the current implementation and a vectorized version.\n",
    "\n",
    "The function below computes the function $f(x,y) = x^2 - 2 y^2$ and determines whether this quantity is above or below a given threshold, `thresh=0`. This is done for $x,y \\in \\{-4,4\\}$, over a 2,000-by-2,000 grid covering that domain.\n",
    "\n",
    "(a) Vectorize this code and demonstrate (as in the last exercise) the speed increase through vectorization and (b) plot the resulting data - both the function $f(x,y)$ and the thresholded output - using [`imshow`](https://matplotlib.org/api/_as_gen/matplotlib.pyplot.imshow.html?highlight=matplotlib%20pyplot%20imshow#matplotlib.pyplot.imshow) from `matplotlib`.\n",
    "\n",
    "*Hint: look at the `numpy` [`meshgrid`](https://docs.scipy.org/doc/numpy-1.13.0/reference/generated/numpy.meshgrid.html) documentation*"
   ]
  },
  {
   "cell_type": "markdown",
   "metadata": {},
   "source": [
    "**ANSWER**"
   ]
  },
  {
   "cell_type": "code",
   "execution_count": 24,
   "metadata": {},
   "outputs": [
    {
     "name": "stdout",
     "output_type": "stream",
     "text": [
      "Elapsed time (non-vectorized) : 0.07\n",
      "Elapsed time (vectorized) : 0.00\n"
     ]
    }
   ],
   "source": [
    "import numpy as np\n",
    "import time\n",
    "import matplotlib.pyplot as plt\n",
    "\n",
    "# Initialize variables for this exerise\n",
    "mesh_size = 20 #Set to 2000 when running for real. Set it to smaller value when testing code\n",
    "x_values = np.arange(-4,4, 1.0/mesh_size)\n",
    "y_values = np.arange(-4,4, 1.0/mesh_size)\n",
    "x, y = np.meshgrid(x_values, y_values, sparse = True)\n",
    "\n",
    "#Define functions\n",
    "def f(x,y):\n",
    "    return(x**2 - 2 * y **2)\n",
    "\n",
    "def g(x,y, threshold = 0.0):\n",
    "    '''This is the function we are actually interested in.\n",
    "    In states whether f(x,y) exceeds a given threshold taken to be 0.0 by default'''\n",
    "    return(f(x,y) > threshold)\n",
    "\n",
    "# Nonvectorized implementation\n",
    "start_time_nonvec = time.time()\n",
    "z_nonvec = []\n",
    "for i in x_values:\n",
    "    for j in y_values:\n",
    "        z_nonvec.append(g(i,j))\n",
    "elapsed_time_nonvec = time.time() - start_time_nonvec\n",
    "        \n",
    "# Vectorized implementation\n",
    "start_time_vec = time.time()\n",
    "z_vec = np.array(list(map(g, x, y)))\n",
    "elapsed_time_vec = time.time() - start_time_vec\n",
    "\n",
    "# Print the time for each and the speed increase\n",
    "print(\"Elapsed time (non-vectorized) : {:.2f}\".format(elapsed_time_nonvec))\n",
    "print(\"Elapsed time (vectorized) : {:.2f}\".format(elapsed_time_vec))\n"
   ]
  },
  {
   "cell_type": "code",
   "execution_count": 25,
   "metadata": {},
   "outputs": [
    {
     "data": {
      "text/plain": [
       "array([[False, False, False, False, False, False, False, False, False,\n",
       "        False, False, False, False, False, False, False, False, False,\n",
       "        False, False, False, False, False, False, False, False, False,\n",
       "        False, False, False, False, False, False, False, False, False,\n",
       "        False, False, False, False, False, False, False, False, False,\n",
       "        False, False, False, False, False, False, False, False, False,\n",
       "        False, False, False, False, False, False, False, False, False,\n",
       "        False, False, False, False, False, False, False, False, False,\n",
       "        False, False, False, False, False, False, False, False, False,\n",
       "        False, False, False, False, False, False, False, False, False,\n",
       "        False, False, False, False, False, False, False, False, False,\n",
       "        False, False, False, False, False, False, False, False, False,\n",
       "        False, False, False, False, False, False, False, False, False,\n",
       "        False, False, False, False, False, False, False, False, False,\n",
       "        False, False, False, False, False, False, False, False, False,\n",
       "        False, False, False, False, False, False, False, False, False,\n",
       "        False, False, False, False, False, False, False, False, False,\n",
       "        False, False, False, False, False, False, False]])"
      ]
     },
     "execution_count": 25,
     "metadata": {},
     "output_type": "execute_result"
    }
   ],
   "source": [
    "z_vec"
   ]
  },
  {
   "cell_type": "code",
   "execution_count": 28,
   "metadata": {},
   "outputs": [
    {
     "data": {
      "text/plain": [
       "(1, 160)"
      ]
     },
     "execution_count": 28,
     "metadata": {},
     "output_type": "execute_result"
    }
   ],
   "source": [
    "z_vec.shape"
   ]
  },
  {
   "cell_type": "code",
   "execution_count": 27,
   "metadata": {},
   "outputs": [
    {
     "ename": "SyntaxError",
     "evalue": "invalid syntax (<ipython-input-27-ac9f9b50d8fc>, line 2)",
     "output_type": "error",
     "traceback": [
      "\u001b[1;36m  File \u001b[1;32m\"<ipython-input-27-ac9f9b50d8fc>\"\u001b[1;36m, line \u001b[1;32m2\u001b[0m\n\u001b[1;33m    y_graph_1 = np.matrix(list(map(f, x, y))).reshape([20,20)\u001b[0m\n\u001b[1;37m                                                            ^\u001b[0m\n\u001b[1;31mSyntaxError\u001b[0m\u001b[1;31m:\u001b[0m invalid syntax\n"
     ]
    }
   ],
   "source": [
    "#Plot the result -f(x,y)\n",
    "y_graph_1 = np.matrix(list(map(f, x, y))).reshape([20,20)\n",
    "plt.imshow(y_graph_1)\n",
    "plt.show()"
   ]
  },
  {
   "cell_type": "code",
   "execution_count": 198,
   "metadata": {},
   "outputs": [
    {
     "data": {
      "image/png": "[encoded data removed]",
      "text/plain": [
       "<Figure size 432x288 with 1 Axes>"
      ]
     },
     "metadata": {
      "needs_background": "light"
     },
     "output_type": "display_data"
    }
   ],
   "source": [
    "#Plot the result\n",
    "plt.imshow(z_vec)\n",
    "plt.show()"
   ]
  },
  {
   "cell_type": "markdown",
   "metadata": {},
   "source": [
    "## 11\n",
    "**[10 points]** This exercise will walk through some basic numerical programming exercises.\n",
    "1. Synthesize $n=10^4$ normally distributed data points with mean $\\mu=2$ and a standard deviation of $\\sigma=1$. Call these observations from a random variable $X$, and call the vector of observations that you generate, $\\textbf{x}$.\n",
    "2. Calculate the mean and standard deviation of $\\textbf{x}$ to validate (1) and provide the result to a precision of four significant figures.\n",
    "3. Plot a histogram of the data in $\\textbf{x}$ with 30 bins\n",
    "4. What is the 90th percentile of $\\textbf{x}$? The 90th percentile is the value below which 90% of observations can be found.\n",
    "5. What is the 99th percentile of $\\textbf{x}$?\n",
    "6. Now synthesize $n=10^4$ normally distributed data points with mean $\\mu=0$ and a standard deviation of $\\sigma=3$. Call these observations from a random variable $Y$, and call the vector of observations that you generate, $\\textbf{y}$.\n",
    "7. Create a new figure and plot the histogram of the data in $\\textbf{y}$ on the same axes with the histogram of $\\textbf{x}$, so that both histograms can be seen and compared.\n",
    "8. Using the observations from $\\textbf{x}$ and $\\textbf{y}$, estimate $E[XY]$"
   ]
  },
  {
   "cell_type": "markdown",
   "metadata": {},
   "source": [
    "**ANSWER**"
   ]
  },
  {
   "cell_type": "code",
   "execution_count": 199,
   "metadata": {},
   "outputs": [
    {
     "name": "stdout",
     "output_type": "stream",
     "text": [
      "1.\n",
      "Random vector X generated\n",
      "2.\n",
      "Mean = 2.0086\n",
      "St.Dev. = 1.0035\n",
      "3.\n"
     ]
    },
    {
     "data": {
      "image/png": "[encoded data removed]",
      "text/plain": [
       "<Figure size 432x288 with 1 Axes>"
      ]
     },
     "metadata": {
      "needs_background": "light"
     },
     "output_type": "display_data"
    },
    {
     "name": "stdout",
     "output_type": "stream",
     "text": [
      "4.\n",
      "90th percentile = 3.2958\n",
      "5.\n",
      "99th percentile = 4.3069\n",
      "6.\n",
      "Random vector Y generated\n",
      "7.\n"
     ]
    },
    {
     "data": {
      "image/png": "[encoded data removed]",
      "text/plain": [
       "<Figure size 432x288 with 1 Axes>"
      ]
     },
     "metadata": {
      "needs_background": "light"
     },
     "output_type": "display_data"
    },
    {
     "name": "stdout",
     "output_type": "stream",
     "text": [
      "8.\n",
      "E(XY) is estimated to be 0.0379\n"
     ]
    }
   ],
   "source": [
    "# 1\n",
    "\n",
    "print(\"1.\")\n",
    "x = np.random.normal(2, 1, size = 10**4)\n",
    "print(\"Random vector X generated\")\n",
    "\n",
    "# 2\n",
    "\n",
    "print(\"2.\")\n",
    "print(\"Mean = {:.4f}\".format(np.mean(x)))\n",
    "print(\"St.Dev. = {:.4f}\".format(np.std(x)))\n",
    "\n",
    "# 3\n",
    "\n",
    "print(\"3.\")\n",
    "plt.hist(x, bins = 30)\n",
    "plt.title(\"Histogram of random variable\")\n",
    "plt.show()\n",
    "\n",
    "# 4\n",
    "\n",
    "print(\"4.\")\n",
    "print(\"90th percentile = {:.4f}\".format(np.percentile(x, 90)))\n",
    "\n",
    "# 5\n",
    "\n",
    "print(\"5.\")\n",
    "print(\"99th percentile = {:.4f}\".format(np.percentile(x, 99)))\n",
    "\n",
    "# 6\n",
    "\n",
    "print(\"6.\")\n",
    "y = np.random.normal(0, 3, size = 10**4)\n",
    "print(\"Random vector Y generated\")\n",
    "\n",
    "# 7\n",
    "\n",
    "print(\"7.\")\n",
    "plt.hist(x, bins = 30, alpha = 0.5)\n",
    "plt.hist(y, bins = 30, alpha = 0.5)\n",
    "plt.title(\"Histogram of random variables X and Y\")\n",
    "plt.show()\n",
    "\n",
    "# 8\n",
    "print(\"8.\")\n",
    "EXY = x.dot(y) / 10**4\n",
    "print(\"E(XY) is estimated to be {:.4f}\".format(EXY))"
   ]
  },
  {
   "cell_type": "markdown",
   "metadata": {},
   "source": [
    "# Version Control via Git"
   ]
  },
  {
   "cell_type": "markdown",
   "metadata": {},
   "source": [
    "## 12\n",
    "**[1 point]** You will need to use Git to submit assignments and in the course projects and is generally a version control and collaboration tool. You can even use some Git repositories (e.g. Github) as hosts for website, such as with the [course website](https://kylebradbury.github.io/ids705/index.html). \n",
    "\n",
    "Complete the [Atlassian Git tutorial](https://www.atlassian.com/git/tutorials/what-is-version-control), specifically the following listed sections. Try each concept that's presented. For this tutorial, instead of using BitBucket as your remote repository host, you may use your preferred platform such as [Github](https://github.com/) or [Duke's Gitlab](https://gitlab.oit.duke.edu/users/sign_in).\n",
    "1. [What is version control](https://www.atlassian.com/git/tutorials/what-is-version-control)\n",
    "2. [What is Git](https://www.atlassian.com/git/tutorials/what-is-git)\n",
    "3. [Install Git](https://www.atlassian.com/git/tutorials/install-git)\n",
    "4. [Setting up a repository](https://www.atlassian.com/git/tutorials/install-git)\n",
    "5. [Saving changes](https://www.atlassian.com/git/tutorials/saving-changes)\n",
    "6. [Inspecting a repository](https://www.atlassian.com/git/tutorials/inspecting-a-repository)\n",
    "7. [Undoing changes](https://www.atlassian.com/git/tutorials/undoing-changes)\n",
    "8. [Rewriting history](https://www.atlassian.com/git/tutorials/rewriting-history)\n",
    "9. [Syncing](https://www.atlassian.com/git/tutorials/syncing)\n",
    "10. [Making a pull request](https://www.atlassian.com/git/tutorials/making-a-pull-request)\n",
    "11. [Using branches](https://www.atlassian.com/git/tutorials/using-branches)\n",
    "12. [Comparing workflows](https://www.atlassian.com/git/tutorials/comparing-workflows)\n",
    "\n",
    "I also have created two videos on the topic to help you understand some of these concepts: [Git basics](https://www.youtube.com/watch?v=fBCwfoBr2ng) and a [step-by-step tutorial](https://www.youtube.com/watch?v=nH7qJHx-h5s).\n",
    "\n",
    "For your answer, affirm that you *either* completed the tutorial or have previous experience with all of the concepts above. Do this by typing your name below and selecting the situation that applies from the two options in brackets."
   ]
  },
  {
   "cell_type": "markdown",
   "metadata": {},
   "source": [
    "**ANSWER**\n",
    "\n",
    "*I, Felipe Buchbinder, affirm that I have previous experience that covers all the content in this tutorial*"
   ]
  },
  {
   "cell_type": "markdown",
   "metadata": {},
   "source": [
    "# Exploratory Data Analysis\n",
    "## 13\n",
    "**[20 points]** Here you'll bring together some of the individual skills that you demonstrated above and create a Jupyter notebook based blog post on data analysis.\n",
    "\n",
    "1. Find a dataset that interests you and relates to a question or problem that you find intriguing\n",
    "2. Using a Jupyter notebook, describe the dataset, the source of the data, and the reason the dataset was of interest.\n",
    "3. Check the data and see if they need to be cleaned: are there missing values? Are there clearly erroneous values? Do two tables need to be merged together? Clean the data so it can be visualized.\n",
    "3. Plot the data, demonstrating interesting features that you discover. Are there any relationships between variables that were surprising or patterns that emerged? Please exercise creativity and curiosity in your plots.\n",
    "4. What insights are you able to take away from exploring the data? Is there a reason why analyzing the dataset you chose is particularly interesting or important? Summarize this as if your target audience was the readership of a major news organization - boil down your findings in a way that is accessible, but still accurate.\n",
    "\n",
    "Here your analysis will evaluated based on:\n",
    "1. Data cleaning: did you look for and work to resolve issues in the data?\n",
    "2. Quality of data exploration: did you provide plots demonstrating interesting aspects of the data?\n",
    "3. Interpretation: Did you clearly explain your insights? Restating the data, alone, is not interpretation.\n",
    "5. Professionalism: Was this work done in a way that exhibits professionalism through clarity, organization, high quality figures and plots, and meaningful descriptions?"
   ]
  },
  {
   "cell_type": "markdown",
   "metadata": {},
   "source": [
    "**ANSWER** \n",
    "\n",
    "As a signalling of my interest in Energy Research, I'll be using data on fuel prices in Brazil. \n",
    "\n",
    "I want to understand the determinants of price markup on gas stations, and how has this evolved through time. There are, indeed, many studies on gasoline prices and its evolution. Some studies have shown that prices offered to the final consumer would go up when the barrel of petroleum went up, but wouldn't go down when the price of the barrel of petroleum dropped. So I'm interested in studying the market power of gas stations, by developing a regression (possibly geospatial) model to predict gas station's markup.\n",
    "\n",
    "To do this, I have a series of datasets with the prices which every gas station in Brazil bought or sold fuel, every week, from 2004 to 2019 (first semester). It contains information on Gasoline, Ethanol, Diesel and Liquified Petroleum Gas. Such data is collected by the Brazilian Petroleum Agency, and can be found [here](http://dados.gov.br/dataset/serie-historica-de-precos-de-combustiveis-por-revenda).\n",
    "\n",
    "But there's a problem.\n",
    "\n",
    "There's lots of missing data regarding the price paid by gas stations to buy gasoline. \n",
    "\n",
    "If this data is missing at random, I can still do inference. If it is not, than I cannot.\n",
    "\n",
    "**My goal in this exercise will be to investigate if data on the price paid by gas stations to buy gasoline is missing at random.**\n",
    "\n",
    "I consider only prices for gasoline in the first semester of 2019.\n"
   ]
  },
  {
   "cell_type": "code",
   "execution_count": 409,
   "metadata": {},
   "outputs": [
    {
     "data": {
      "text/html": [
       "<div>\n",
       "<style scoped>\n",
       "    .dataframe tbody tr th:only-of-type {\n",
       "        vertical-align: middle;\n",
       "    }\n",
       "\n",
       "    .dataframe tbody tr th {\n",
       "        vertical-align: top;\n",
       "    }\n",
       "\n",
       "    .dataframe thead th {\n",
       "        text-align: right;\n",
       "    }\n",
       "</style>\n",
       "<table border=\"1\" class=\"dataframe\">\n",
       "  <thead>\n",
       "    <tr style=\"text-align: right;\">\n",
       "      <th></th>\n",
       "      <th>Region</th>\n",
       "      <th>State</th>\n",
       "      <th>City</th>\n",
       "      <th>Gas_Station_Name</th>\n",
       "      <th>Gas_Station_id</th>\n",
       "      <th>Fuel_Type</th>\n",
       "      <th>Date</th>\n",
       "      <th>Sell_Price</th>\n",
       "      <th>Buy_Price</th>\n",
       "      <th>Unit</th>\n",
       "      <th>Fuel_Source</th>\n",
       "    </tr>\n",
       "  </thead>\n",
       "  <tbody>\n",
       "    <tr>\n",
       "      <th>68047</th>\n",
       "      <td>N</td>\n",
       "      <td>RO</td>\n",
       "      <td>PIMENTA BUENO</td>\n",
       "      <td>MINIANO COMBUSTIVEIS LTDA</td>\n",
       "      <td>14017058000152</td>\n",
       "      <td>ETANOL</td>\n",
       "      <td>21/01/2019</td>\n",
       "      <td>4.280</td>\n",
       "      <td>NaN</td>\n",
       "      <td>R$ / litro</td>\n",
       "      <td>IPIRANGA</td>\n",
       "    </tr>\n",
       "    <tr>\n",
       "      <th>309069</th>\n",
       "      <td>SE</td>\n",
       "      <td>MG</td>\n",
       "      <td>UBERABA</td>\n",
       "      <td>AUTO POSTO ESTORIL UBERABA CENTRO LTDA</td>\n",
       "      <td>27820718000180</td>\n",
       "      <td>DIESEL S10</td>\n",
       "      <td>27/02/2019</td>\n",
       "      <td>3.470</td>\n",
       "      <td>NaN</td>\n",
       "      <td>R$ / litro</td>\n",
       "      <td>BRANCA</td>\n",
       "    </tr>\n",
       "    <tr>\n",
       "      <th>303031</th>\n",
       "      <td>SE</td>\n",
       "      <td>MG</td>\n",
       "      <td>SABARA</td>\n",
       "      <td>POSTO ANA LUCIA LTDA</td>\n",
       "      <td>21901350000107</td>\n",
       "      <td>ETANOL</td>\n",
       "      <td>08/01/2019</td>\n",
       "      <td>2.999</td>\n",
       "      <td>NaN</td>\n",
       "      <td>R$ / litro</td>\n",
       "      <td>PETROBRAS DISTRIBUIDORA S.A.</td>\n",
       "    </tr>\n",
       "    <tr>\n",
       "      <th>277261</th>\n",
       "      <td>SE</td>\n",
       "      <td>MG</td>\n",
       "      <td>CORONEL FABRICIANO</td>\n",
       "      <td>PETROL COMBUSTIVEIS CORONEL FABRICIANO LTDA</td>\n",
       "      <td>5400321000105</td>\n",
       "      <td>DIESEL S10</td>\n",
       "      <td>21/05/2019</td>\n",
       "      <td>3.699</td>\n",
       "      <td>3.5188</td>\n",
       "      <td>R$ / litro</td>\n",
       "      <td>PETROBRAS DISTRIBUIDORA S.A.</td>\n",
       "    </tr>\n",
       "    <tr>\n",
       "      <th>443663</th>\n",
       "      <td>SE</td>\n",
       "      <td>SP</td>\n",
       "      <td>PRESIDENTE PRUDENTE</td>\n",
       "      <td>POSTO LARISSA DE PRESIDENTE PRUDENTE LTDA.</td>\n",
       "      <td>7008882000180</td>\n",
       "      <td>ETANOL</td>\n",
       "      <td>03/01/2019</td>\n",
       "      <td>2.699</td>\n",
       "      <td>NaN</td>\n",
       "      <td>R$ / litro</td>\n",
       "      <td>IPIRANGA</td>\n",
       "    </tr>\n",
       "  </tbody>\n",
       "</table>\n",
       "</div>"
      ],
      "text/plain": [
       "       Region State                 City  \\\n",
       "68047      N     RO        PIMENTA BUENO   \n",
       "309069     SE    MG              UBERABA   \n",
       "303031     SE    MG               SABARA   \n",
       "277261     SE    MG   CORONEL FABRICIANO   \n",
       "443663     SE    SP  PRESIDENTE PRUDENTE   \n",
       "\n",
       "                                   Gas_Station_Name  Gas_Station_id  \\\n",
       "68047                     MINIANO COMBUSTIVEIS LTDA  14017058000152   \n",
       "309069       AUTO POSTO ESTORIL UBERABA CENTRO LTDA  27820718000180   \n",
       "303031                         POSTO ANA LUCIA LTDA  21901350000107   \n",
       "277261  PETROL COMBUSTIVEIS CORONEL FABRICIANO LTDA   5400321000105   \n",
       "443663   POSTO LARISSA DE PRESIDENTE PRUDENTE LTDA.   7008882000180   \n",
       "\n",
       "         Fuel_Type        Date  Sell_Price  Buy_Price        Unit  \\\n",
       "68047       ETANOL  21/01/2019       4.280        NaN  R$ / litro   \n",
       "309069  DIESEL S10  27/02/2019       3.470        NaN  R$ / litro   \n",
       "303031      ETANOL  08/01/2019       2.999        NaN  R$ / litro   \n",
       "277261  DIESEL S10  21/05/2019       3.699     3.5188  R$ / litro   \n",
       "443663      ETANOL  03/01/2019       2.699        NaN  R$ / litro   \n",
       "\n",
       "                         Fuel_Source  \n",
       "68047                       IPIRANGA  \n",
       "309069                        BRANCA  \n",
       "303031  PETROBRAS DISTRIBUIDORA S.A.  \n",
       "277261  PETROBRAS DISTRIBUIDORA S.A.  \n",
       "443663                      IPIRANGA  "
      ]
     },
     "execution_count": 409,
     "metadata": {},
     "output_type": "execute_result"
    }
   ],
   "source": [
    "#Load the data\n",
    "data = pd.read_csv(\"gasoline prices/2019-1_CA.csv\", encoding = \"utf-16\", sep = \"\\t\", decimal = \",\")\n",
    "\n",
    "#Change column names to english\n",
    "data.columns = ['Region', 'State','City','Gas_Station_Name','Gas_Station_id','Fuel_Type','Date', \\\n",
    "                'Sell_Price','Buy_Price','Unit','Fuel_Source']\n",
    "\n",
    "#Let's take a look at our data\n",
    "data.sample(5)"
   ]
  },
  {
   "cell_type": "code",
   "execution_count": 411,
   "metadata": {},
   "outputs": [
    {
     "name": "stdout",
     "output_type": "stream",
     "text": [
      "Region\n",
      "State\n",
      "City\n",
      "Gas_Station_id\n",
      "Date\n",
      "Sell_Price\n",
      "Buy_Price\n",
      "Fuel_Source\n"
     ]
    }
   ],
   "source": [
    "#Filter gasoline\n",
    "data = data.loc[data.Fuel_Type == 'GASOLINA']\n",
    "\n",
    "assert (data.Fuel_Type == 'GASOLINA').all()\n",
    "\n",
    "#Drop column on Fuel_Type\n",
    "data = data.drop('Fuel_Type', axis = 1)\n",
    "\n",
    "#Let's check if all sell and buy prices are in the same unit\n",
    "assert len(data.Unit.unique()) == 1\n",
    "\n",
    "#Since all sell and buy prices are in the same unit, let's drop it\n",
    "#Let's also drop the Gas_Station_Name, since we can already identify it with it' id.\n",
    "data = data.drop(['Unit','Gas_Station_Name'], axis = 1)\n",
    "\n",
    "#Which variables do we have?\n",
    "for variable in data.columns:\n",
    "    print(variable)"
   ]
  },
  {
   "cell_type": "code",
   "execution_count": 412,
   "metadata": {},
   "outputs": [
    {
     "data": {
      "text/plain": [
       "(150984, 8)"
      ]
     },
     "execution_count": 412,
     "metadata": {},
     "output_type": "execute_result"
    }
   ],
   "source": [
    "#How much data do we have?\n",
    "data.shape"
   ]
  },
  {
   "cell_type": "code",
   "execution_count": 419,
   "metadata": {},
   "outputs": [
    {
     "data": {
      "text/plain": [
       "Region             0.00\n",
       "State              0.00\n",
       "City               0.00\n",
       "Gas_Station_id     0.00\n",
       "Date               0.00\n",
       "Sell_Price         0.00\n",
       "Buy_Price         58.14\n",
       "Fuel_Source        0.00\n",
       "dtype: float64"
      ]
     },
     "execution_count": 419,
     "metadata": {},
     "output_type": "execute_result"
    }
   ],
   "source": [
    "#How much missing data do we have in each variable?\n",
    "#Let's give our answer as a percentage of the number of rows\n",
    "round(100 * data.isnull().sum() / data.shape[0], 2)"
   ]
  },
  {
   "cell_type": "markdown",
   "metadata": {},
   "source": [
    "Our data seems pretty much complete, except for information on the Buy Price, where 58% of the dara is missing. \n",
    "\n",
    "This is unfortunate, since I would love to study determinants of Gas Station's markups...\n",
    "I can still do that if I show that missing values are MAR, so I'll create a new variable which indicates if the Buy_Price is missing (1 if it's missing, 0 if not).\n",
    "\n",
    "My goal is to investigate this variable and hopefully I'll find that it's missing at random. Most likely not. But I need to test this at some point, so I might as well use this exercise as an opportunity."
   ]
  },
  {
   "cell_type": "code",
   "execution_count": 420,
   "metadata": {},
   "outputs": [],
   "source": [
    "#Create indicator variable.\n",
    "#1 if Buy_Price is missing.\n",
    "#0 otherwise\n",
    "data.loc[:,\"is_missing_buy_price\"] = data.Buy_Price.isnull()\n",
    "\n",
    "#Check if our variable was created with no errors\n",
    "#This means two things:\n",
    "#1. All values with missing Buy_Price must be evaluated to True;\n",
    "#2. All values with non-missing Buy_Price must be evaluated to False;\n",
    "assert (data.loc[data.Buy_Price.isnull(),\"is_missing_buy_price\"] == True).all()\n",
    "assert (data.loc[data.Buy_Price.notnull(),\"is_missing_buy_price\"] == False).all()\n",
    "\n",
    "#Discard Buy_Price\n",
    "data = data.drop('Buy_Price', axis = 1)"
   ]
  },
  {
   "cell_type": "code",
   "execution_count": 439,
   "metadata": {},
   "outputs": [
    {
     "data": {
      "text/html": [
       "<div>\n",
       "<style scoped>\n",
       "    .dataframe tbody tr th:only-of-type {\n",
       "        vertical-align: middle;\n",
       "    }\n",
       "\n",
       "    .dataframe tbody tr th {\n",
       "        vertical-align: top;\n",
       "    }\n",
       "\n",
       "    .dataframe thead th {\n",
       "        text-align: right;\n",
       "    }\n",
       "</style>\n",
       "<table border=\"1\" class=\"dataframe\">\n",
       "  <thead>\n",
       "    <tr style=\"text-align: right;\">\n",
       "      <th></th>\n",
       "      <th>Region</th>\n",
       "      <th>State</th>\n",
       "      <th>City</th>\n",
       "      <th>Gas_Station_id</th>\n",
       "      <th>Date</th>\n",
       "      <th>Sell_Price</th>\n",
       "      <th>Fuel_Source</th>\n",
       "      <th>is_missing_buy_price</th>\n",
       "      <th>Week</th>\n",
       "    </tr>\n",
       "  </thead>\n",
       "  <tbody>\n",
       "    <tr>\n",
       "      <th>131026</th>\n",
       "      <td>NE</td>\n",
       "      <td>MA</td>\n",
       "      <td>BALSAS</td>\n",
       "      <td>1991038000306</td>\n",
       "      <td>2019-06-24</td>\n",
       "      <td>4.740</td>\n",
       "      <td>BRANCA</td>\n",
       "      <td>True</td>\n",
       "      <td>26</td>\n",
       "    </tr>\n",
       "    <tr>\n",
       "      <th>117217</th>\n",
       "      <td>NE</td>\n",
       "      <td>CE</td>\n",
       "      <td>FORTALEZA</td>\n",
       "      <td>10478691000278</td>\n",
       "      <td>2019-02-06</td>\n",
       "      <td>3.999</td>\n",
       "      <td>PETROBRAS DISTRIBUIDORA S.A.</td>\n",
       "      <td>True</td>\n",
       "      <td>6</td>\n",
       "    </tr>\n",
       "    <tr>\n",
       "      <th>411259</th>\n",
       "      <td>SE</td>\n",
       "      <td>SP</td>\n",
       "      <td>JAU</td>\n",
       "      <td>3354580000103</td>\n",
       "      <td>2019-04-11</td>\n",
       "      <td>4.199</td>\n",
       "      <td>BRANCA</td>\n",
       "      <td>True</td>\n",
       "      <td>15</td>\n",
       "    </tr>\n",
       "    <tr>\n",
       "      <th>483077</th>\n",
       "      <td>SE</td>\n",
       "      <td>SP</td>\n",
       "      <td>SOROCABA</td>\n",
       "      <td>3188000202</td>\n",
       "      <td>2019-03-27</td>\n",
       "      <td>3.960</td>\n",
       "      <td>BRANCA</td>\n",
       "      <td>False</td>\n",
       "      <td>13</td>\n",
       "    </tr>\n",
       "    <tr>\n",
       "      <th>417388</th>\n",
       "      <td>SE</td>\n",
       "      <td>SP</td>\n",
       "      <td>LIMEIRA</td>\n",
       "      <td>60373800000180</td>\n",
       "      <td>2019-01-03</td>\n",
       "      <td>3.999</td>\n",
       "      <td>RAIZEN</td>\n",
       "      <td>True</td>\n",
       "      <td>1</td>\n",
       "    </tr>\n",
       "  </tbody>\n",
       "</table>\n",
       "</div>"
      ],
      "text/plain": [
       "       Region State       City  Gas_Station_id       Date  Sell_Price  \\\n",
       "131026     NE    MA     BALSAS   1991038000306 2019-06-24       4.740   \n",
       "117217     NE    CE  FORTALEZA  10478691000278 2019-02-06       3.999   \n",
       "411259     SE    SP        JAU   3354580000103 2019-04-11       4.199   \n",
       "483077     SE    SP   SOROCABA      3188000202 2019-03-27       3.960   \n",
       "417388     SE    SP    LIMEIRA  60373800000180 2019-01-03       3.999   \n",
       "\n",
       "                         Fuel_Source  is_missing_buy_price  Week  \n",
       "131026                        BRANCA                  True    26  \n",
       "117217  PETROBRAS DISTRIBUIDORA S.A.                  True     6  \n",
       "411259                        BRANCA                  True    15  \n",
       "483077                        BRANCA                 False    13  \n",
       "417388                        RAIZEN                  True     1  "
      ]
     },
     "execution_count": 439,
     "metadata": {},
     "output_type": "execute_result"
    }
   ],
   "source": [
    "#Let's take care of the Date variable and treat it as a date, not as a string\n",
    "data.loc[:,\"Date\"] = pd.to_datetime(data.Date,format = \"%d/%m/%Y\")\n",
    "\n",
    "#Let's also assign each week the number it corresponds in the year\n",
    "data.loc[:,\"Week\"] = data.loc[:,\"Date\"].dt.week\n",
    "\n",
    "#Let's take a look\n",
    "data.sample(5)"
   ]
  },
  {
   "cell_type": "code",
   "execution_count": 440,
   "metadata": {},
   "outputs": [
    {
     "data": {
      "text/html": [
       "<div>\n",
       "<style scoped>\n",
       "    .dataframe tbody tr th:only-of-type {\n",
       "        vertical-align: middle;\n",
       "    }\n",
       "\n",
       "    .dataframe tbody tr th {\n",
       "        vertical-align: top;\n",
       "    }\n",
       "\n",
       "    .dataframe thead th {\n",
       "        text-align: right;\n",
       "    }\n",
       "</style>\n",
       "<table border=\"1\" class=\"dataframe\">\n",
       "  <thead>\n",
       "    <tr style=\"text-align: right;\">\n",
       "      <th></th>\n",
       "      <th>Sell_Price</th>\n",
       "      <th>Week</th>\n",
       "    </tr>\n",
       "  </thead>\n",
       "  <tbody>\n",
       "    <tr>\n",
       "      <th>count</th>\n",
       "      <td>150984.000000</td>\n",
       "      <td>150984.000000</td>\n",
       "    </tr>\n",
       "    <tr>\n",
       "      <th>mean</th>\n",
       "      <td>4.411974</td>\n",
       "      <td>13.498530</td>\n",
       "    </tr>\n",
       "    <tr>\n",
       "      <th>std</th>\n",
       "      <td>0.330756</td>\n",
       "      <td>7.502443</td>\n",
       "    </tr>\n",
       "    <tr>\n",
       "      <th>min</th>\n",
       "      <td>3.390000</td>\n",
       "      <td>1.000000</td>\n",
       "    </tr>\n",
       "    <tr>\n",
       "      <th>25%</th>\n",
       "      <td>4.179000</td>\n",
       "      <td>7.000000</td>\n",
       "    </tr>\n",
       "    <tr>\n",
       "      <th>50%</th>\n",
       "      <td>4.399000</td>\n",
       "      <td>13.000000</td>\n",
       "    </tr>\n",
       "    <tr>\n",
       "      <th>75%</th>\n",
       "      <td>4.659000</td>\n",
       "      <td>20.000000</td>\n",
       "    </tr>\n",
       "    <tr>\n",
       "      <th>max</th>\n",
       "      <td>6.290000</td>\n",
       "      <td>26.000000</td>\n",
       "    </tr>\n",
       "  </tbody>\n",
       "</table>\n",
       "</div>"
      ],
      "text/plain": [
       "          Sell_Price           Week\n",
       "count  150984.000000  150984.000000\n",
       "mean        4.411974      13.498530\n",
       "std         0.330756       7.502443\n",
       "min         3.390000       1.000000\n",
       "25%         4.179000       7.000000\n",
       "50%         4.399000      13.000000\n",
       "75%         4.659000      20.000000\n",
       "max         6.290000      26.000000"
      ]
     },
     "execution_count": 440,
     "metadata": {},
     "output_type": "execute_result"
    }
   ],
   "source": [
    "#Are selling prices reasonable? Any outliers?\n",
    "data.loc[:,['Sell_Price','Week']].describe()"
   ]
  },
  {
   "cell_type": "code",
   "execution_count": 444,
   "metadata": {},
   "outputs": [
    {
     "data": {
      "image/png": "[encoded data removed]",
      "text/plain": [
       "<Figure size 432x288 with 1 Axes>"
      ]
     },
     "metadata": {
      "needs_background": "light"
     },
     "output_type": "display_data"
    }
   ],
   "source": [
    "plt.hist(data.Sell_Price, bins = 30)\n",
    "plt.show()"
   ]
  },
  {
   "cell_type": "markdown",
   "metadata": {},
   "source": [
    "Apparently there are no outliers. Good.\n",
    "\n",
    "Now let's do some feature engineering."
   ]
  },
  {
   "cell_type": "markdown",
   "metadata": {},
   "source": [
    "Let's now try to establish relationships between our variable of interest and the remaining variables. Hopefully, we won't find anything, which would help us make our claim that the variable is missing at random."
   ]
  },
  {
   "cell_type": "code",
   "execution_count": 455,
   "metadata": {},
   "outputs": [
    {
     "data": {
      "text/plain": [
       "<matplotlib.axes._subplots.AxesSubplot at 0x2843c0d7828>"
      ]
     },
     "execution_count": 455,
     "metadata": {},
     "output_type": "execute_result"
    },
    {
     "data": {
      "image/png": "[encoded data removed]",
      "text/plain": [
       "<Figure size 432x288 with 1 Axes>"
      ]
     },
     "metadata": {
      "needs_background": "light"
     },
     "output_type": "display_data"
    }
   ],
   "source": [
    "import seaborn as sns\n",
    "sns.boxplot(y='Sell_Price', x='is_missing_buy_price', data = data)"
   ]
  },
  {
   "cell_type": "markdown",
   "metadata": {},
   "source": [
    "The selling price does not seem to be different between gas stations for which the buy price is missing or not missing. This is good news for us. \n",
    "\n",
    "Now let's see if the geographical location of the gas station can predict it."
   ]
  },
  {
   "cell_type": "code",
   "execution_count": 556,
   "metadata": {},
   "outputs": [
    {
     "data": {
      "text/html": [
       "<div>\n",
       "<style scoped>\n",
       "    .dataframe tbody tr th:only-of-type {\n",
       "        vertical-align: middle;\n",
       "    }\n",
       "\n",
       "    .dataframe tbody tr th {\n",
       "        vertical-align: top;\n",
       "    }\n",
       "\n",
       "    .dataframe thead th {\n",
       "        text-align: right;\n",
       "    }\n",
       "</style>\n",
       "<table border=\"1\" class=\"dataframe\">\n",
       "  <thead>\n",
       "    <tr style=\"text-align: right;\">\n",
       "      <th></th>\n",
       "      <th>is_missing_buy_price</th>\n",
       "    </tr>\n",
       "    <tr>\n",
       "      <th>Region</th>\n",
       "      <th></th>\n",
       "    </tr>\n",
       "  </thead>\n",
       "  <tbody>\n",
       "    <tr>\n",
       "      <th>CO</th>\n",
       "      <td>0.715929</td>\n",
       "    </tr>\n",
       "    <tr>\n",
       "      <th>S</th>\n",
       "      <td>0.647655</td>\n",
       "    </tr>\n",
       "    <tr>\n",
       "      <th>N</th>\n",
       "      <td>0.578926</td>\n",
       "    </tr>\n",
       "    <tr>\n",
       "      <th>NE</th>\n",
       "      <td>0.574756</td>\n",
       "    </tr>\n",
       "    <tr>\n",
       "      <th>SE</th>\n",
       "      <td>0.535518</td>\n",
       "    </tr>\n",
       "  </tbody>\n",
       "</table>\n",
       "</div>"
      ],
      "text/plain": [
       "        is_missing_buy_price\n",
       "Region                      \n",
       "CO                  0.715929\n",
       "S                   0.647655\n",
       "N                   0.578926\n",
       "NE                  0.574756\n",
       "SE                  0.535518"
      ]
     },
     "execution_count": 556,
     "metadata": {},
     "output_type": "execute_result"
    }
   ],
   "source": [
    "data.loc[:,[\"Region\",\"is_missing_buy_price\"]].groupby(\"Region\").mean().sort_values('is_missing_buy_price',ascending = False)"
   ]
  },
  {
   "cell_type": "markdown",
   "metadata": {},
   "source": [
    "Apparently the probability of a missing value varies substantially by region.\n",
    "It seems much more likely to have missing data in the Center-West (CO) region, than in the South-East (SE).\n",
    "\n",
    "If we wish to perform the same analysis at the city level, we must take care not to include cities which have a very small number of gas stations. So let's take  a look at the distribution of gas stations per city:"
   ]
  },
  {
   "cell_type": "code",
   "execution_count": 576,
   "metadata": {},
   "outputs": [
    {
     "name": "stdout",
     "output_type": "stream",
     "text": [
      "                       Number_of_Gas_Stations\n",
      "City           Region                        \n",
      "SAO PAULO      SE                        1349\n",
      "RIO DE JANEIRO SE                         604\n",
      "FORTALEZA      NE                         303\n",
      "GOIANIA        CO                         248\n"
     ]
    }
   ],
   "source": [
    "nb_gas_stations = data.loc[:,['City','Region','Gas_Station_id']].drop_duplicates().groupby(['City','Region']).count()\n",
    "nb_gas_stations.columns = ['Number_of_Gas_Stations']\n",
    "\n",
    "#The cities with the highest number of gas stations should be the countries' largest cities.\n",
    "#Indeed, they are.\n",
    "print(nb_gas_stations.sort_values('Number_of_Gas_Stations', ascending = False).head(4))"
   ]
  },
  {
   "cell_type": "code",
   "execution_count": 577,
   "metadata": {},
   "outputs": [
    {
     "data": {
      "text/html": [
       "<div>\n",
       "<style scoped>\n",
       "    .dataframe tbody tr th:only-of-type {\n",
       "        vertical-align: middle;\n",
       "    }\n",
       "\n",
       "    .dataframe tbody tr th {\n",
       "        vertical-align: top;\n",
       "    }\n",
       "\n",
       "    .dataframe thead th {\n",
       "        text-align: right;\n",
       "    }\n",
       "</style>\n",
       "<table border=\"1\" class=\"dataframe\">\n",
       "  <thead>\n",
       "    <tr style=\"text-align: right;\">\n",
       "      <th></th>\n",
       "      <th>Number_of_Gas_Stations</th>\n",
       "    </tr>\n",
       "  </thead>\n",
       "  <tbody>\n",
       "    <tr>\n",
       "      <th>count</th>\n",
       "      <td>459.000000</td>\n",
       "    </tr>\n",
       "    <tr>\n",
       "      <th>mean</th>\n",
       "      <td>31.461874</td>\n",
       "    </tr>\n",
       "    <tr>\n",
       "      <th>std</th>\n",
       "      <td>75.912183</td>\n",
       "    </tr>\n",
       "    <tr>\n",
       "      <th>min</th>\n",
       "      <td>4.000000</td>\n",
       "    </tr>\n",
       "    <tr>\n",
       "      <th>25%</th>\n",
       "      <td>11.000000</td>\n",
       "    </tr>\n",
       "    <tr>\n",
       "      <th>50%</th>\n",
       "      <td>16.000000</td>\n",
       "    </tr>\n",
       "    <tr>\n",
       "      <th>75%</th>\n",
       "      <td>27.500000</td>\n",
       "    </tr>\n",
       "    <tr>\n",
       "      <th>max</th>\n",
       "      <td>1349.000000</td>\n",
       "    </tr>\n",
       "  </tbody>\n",
       "</table>\n",
       "</div>"
      ],
      "text/plain": [
       "       Number_of_Gas_Stations\n",
       "count              459.000000\n",
       "mean                31.461874\n",
       "std                 75.912183\n",
       "min                  4.000000\n",
       "25%                 11.000000\n",
       "50%                 16.000000\n",
       "75%                 27.500000\n",
       "max               1349.000000"
      ]
     },
     "execution_count": 577,
     "metadata": {},
     "output_type": "execute_result"
    }
   ],
   "source": [
    "#So let's take a look at the distribution of gas stations throughout the country\n",
    "nb_gas_stations.describe()"
   ]
  },
  {
   "cell_type": "code",
   "execution_count": 578,
   "metadata": {},
   "outputs": [
    {
     "data": {
      "image/png": "[encoded data removed]",
      "text/plain": [
       "<Figure size 432x288 with 1 Axes>"
      ]
     },
     "metadata": {
      "needs_background": "light"
     },
     "output_type": "display_data"
    }
   ],
   "source": [
    "plt.hist(nb_gas_stations.Number_of_Gas_Stations, bins = 100)\n",
    "plt.title(\"Histogram of Number of Gas Stations per City\")\n",
    "plt.xlabel(\"Number of Gas Stations\")\n",
    "plt.ylabel(\"Number of Cities\")\n",
    "plt.show()"
   ]
  },
  {
   "cell_type": "markdown",
   "metadata": {},
   "source": [
    "Note that the minimum of our distribution is 4.\n",
    "This means that the city with the least number of gas stations has 4 gas stations.\n",
    "\n",
    "I confess that I find this result strange. It made me wonder weather the dataset really has all Brazilian pumps, as I thought it had. So I'll investigate that."
   ]
  },
  {
   "cell_type": "code",
   "execution_count": 579,
   "metadata": {},
   "outputs": [
    {
     "name": "stdout",
     "output_type": "stream",
     "text": [
      "Brazil has about 5,000 cities, but our data has 458 different cities\n"
     ]
    }
   ],
   "source": [
    "print(\"Brazil has about 5,000 cities, but our data has {} different cities\".format(len(data.City.unique())))"
   ]
  },
  {
   "cell_type": "markdown",
   "metadata": {},
   "source": [
    "These numbers are very different.\n",
    "\n",
    "It is unliquely that there are no cities with a single gas station.\n",
    "\n",
    "In other words, it is unliquely that only 458 cities have gas stations.\n",
    "\n",
    "More likely, data was only collected for these major cities.\n",
    "\n",
    "This may suggest some bias in our data.\n",
    "\n",
    "It is also interesting to note that, if only 458 cities have 4+ gas stations, this means that the _vast_ majority of Brazilian cities have at most 3 gas station.\n",
    "\n",
    "This means we get a false impression of this distribution by merely looking at our dataset. The quartiles are actually much closer to zero than shown in our previous descriptive statistics analysis.\n",
    "\n",
    "In addition, gas stations in cities which have 1, 2 or 3 gas stations operate in a near-monopoly market. Their dynamics is arguably different than what we observe in the remaining 458 cities, where structuring a stable cartel is much more complex. This impacts the gas station's markup directly, as markups are arguably smaller the more competition one encounters. \n",
    "\n",
    "This raises the hypothesis that cities with less gas stations may have more market power _not_ to reveal the price which they paid for gasoline. Let's see if there's some evidence to this hypothesis:"
   ]
  },
  {
   "cell_type": "code",
   "execution_count": 583,
   "metadata": {},
   "outputs": [],
   "source": [
    "#Fraction of gas stations with missing buy price in each city\n",
    "missing_by_city = data.loc[:,[\"City\",\"Region\",\"is_missing_buy_price\"]].groupby([\"City\",\"Region\"]).mean().sort_values('is_missing_buy_price',ascending = False)\n",
    "\n",
    "#Let's merge it with the number of gas stations per city\n",
    "missing_by_city = missing_by_city.merge(nb_gas_stations, how = 'inner',on = ('City','Region'), validate = '1:1')\n"
   ]
  },
  {
   "cell_type": "code",
   "execution_count": 584,
   "metadata": {},
   "outputs": [],
   "source": [
    "#Correlation\n",
    "from scipy.stats import pearsonr\n",
    "r_aux_obj = pearsonr(missing_by_city.Number_of_Gas_Stations, missing_by_city.is_missing_buy_price)\n",
    "r = r_aux_obj[0] #Pearson Correlation Coefficient\n",
    "p = r_aux_obj[1] #p-value\n",
    "\n",
    "#Let's make these things more printable\n",
    "r = str(round(r, 3))\n",
    "p = str(round(p, 3))"
   ]
  },
  {
   "cell_type": "code",
   "execution_count": 585,
   "metadata": {},
   "outputs": [
    {
     "data": {
      "image/png": "[encoded data removed]",
      "text/plain": [
       "<Figure size 432x288 with 1 Axes>"
      ]
     },
     "metadata": {
      "needs_background": "light"
     },
     "output_type": "display_data"
    }
   ],
   "source": [
    "#Plot relationship between number of gas stations and fraction of them which omit buy price\n",
    "plt.scatter(missing_by_city.Number_of_Gas_Stations, missing_by_city.is_missing_buy_price)\n",
    "plt.xscale(\"log\")\n",
    "plt.title(\"Cities with less gas stations \\n are more likely to omit buy price information \\n (r = \" + str(r) + \", p = \" + p + \")\")\n",
    "plt.xlabel(\"Number of gas stations in city\")\n",
    "plt.ylabel(\"Fraction of gas stations \\n with missing data on buy price\")\n",
    "plt.show()\n"
   ]
  },
  {
   "cell_type": "markdown",
   "metadata": {},
   "source": [
    "There is a week, albeit significant relationship between the number of gas stations in a city and the fraction of gas stations which omit buy price.\n",
    "\n",
    "This confirms our hypothesis on the existence of such relationship, although we can not be sure that this relationship exists for the reason which led us to think of it in the first place, namely, that gas stations have more market power when there are fewer of them. Alternatively, it may be that the government is more effective in collecting data in larger cities, where there are more gas stations.\n",
    "\n",
    "Either way, the relationship exists.\n",
    "\n",
    "This is bad news for me, as it is further evidence that missing data on buy price is _not_ missing at random (MAR). Hence, so far, we have two evidences that missing data on buy price is not MAR:\n",
    "\n",
    "1. The incidence of missing values is not homogeneous among the country's regions;\n",
    "2. Gas stations are more likely to omit information on their buy price in cities where there are few gas stations;\n"
   ]
  },
  {
   "cell_type": "markdown",
   "metadata": {},
   "source": [
    "This imposes some limitations to the paper I wished to write on gas station's markpus.\n",
    "\n",
    "On the other hand, if missing data is contingent on variables within my dataset, I can still have hopes of overcoming this problem using multiple imputation methods. Moreover, we must acknowledge that this dataset is possibly the closest we can get to populational data. In addition, it is also likely to be the most reliable data we can get. \n",
    "\n",
    "So let's proceed with our analysis. We wished to see if different cities could have different probabilities of omission for the buyer price variable. \n",
    "\n",
    "In some sense, we know this answer to be affirmative, as we know it to be related to the number of gas stations in the city. Still, let's look at the fraction of missing data for different cities. We consider only cities with at least 10 different gas stations, to avoid taking averages of very small numbers."
   ]
  },
  {
   "cell_type": "code",
   "execution_count": 591,
   "metadata": {},
   "outputs": [
    {
     "name": "stdout",
     "output_type": "stream",
     "text": [
      "The cities with the highest probability of missing data\n",
      "                             is_missing_buy_price  Number_of_Gas_Stations\n",
      "City                 Region                                              \n",
      "VIDEIRA              S                   0.967033                      12\n",
      "PRESIDENTE VENCESLAU SE                  0.949495                      11\n",
      "ITABAIANA            NE                  0.937824                      11\n",
      "SANTA ROSA           S                   0.922222                      15\n",
      "JI-PARANA            N                   0.912536                      25\n",
      "The cities with the lowest probability of missing data\n",
      "                              is_missing_buy_price  Number_of_Gas_Stations\n",
      "City                  Region                                              \n",
      "NITEROI               SE                  0.015534                      48\n",
      "SAO GONCALO           SE                  0.006787                      52\n",
      "PIRACICABA            SE                  0.004057                      37\n",
      "BOA VISTA             N                   0.002959                      52\n",
      "CAMPOS DOS GOYTACAZES SE                  0.000000                      82\n"
     ]
    }
   ],
   "source": [
    "#Filter\n",
    "min_lim = 10 #At least min_lim gas stations per city\n",
    "missing_by_city_filtered = missing_by_city[missing_by_city.Number_of_Gas_Stations >= min_lim]\n",
    "\n",
    "#Order\n",
    "missing_by_city_filtered = missing_by_city_filtered.sort_values('is_missing_buy_price', ascending = False)\n",
    "\n",
    "#Print the cities with the highest probability of missing data\n",
    "print(\"The cities with the highest probability of missing data\")\n",
    "print(missing_by_city_filtered.head(5))\n",
    "\n",
    "#Print the cities with the lowesr probability of missing data\n",
    "print(\"The cities with the lowest probability of missing data\")\n",
    "print(missing_by_city_filtered.tail(5))"
   ]
  },
  {
   "cell_type": "markdown",
   "metadata": {},
   "source": [
    "As we can see, there is substantial variation in the fraction of missing data accross cities.\n",
    "While part of this is explained by the number of gas stations in the city, a substantial amount of the variability remains to be explained. Possibly part of this variation is due to some fixed effect on the city-level, but this is something we will not investigate here. Rather, we shall now move on the consider the role of time.\n",
    "\n",
    "Namely, is the fraction of omission constant throughout time"
   ]
  },
  {
   "cell_type": "code",
   "execution_count": 595,
   "metadata": {},
   "outputs": [
    {
     "data": {
      "image/png": "[encoded data removed]",
      "text/plain": [
       "<Figure size 432x288 with 1 Axes>"
      ]
     },
     "metadata": {
      "needs_background": "light"
     },
     "output_type": "display_data"
    }
   ],
   "source": [
    "#Define series\n",
    "time_series = data.loc[:,[\"Week\",\"is_missing_buy_price\"]].groupby(\"Week\").mean()\n",
    "\n",
    "#Plot\n",
    "plt.plot(time_series)\n",
    "plt.title(\"Incidence of missing data through time\")\n",
    "plt.ylabel(\"Fraction of gas stations \\n with missing data on buy price\")\n",
    "plt.xlabel(\"Week of year\")\n",
    "plt.show()"
   ]
  },
  {
   "cell_type": "markdown",
   "metadata": {},
   "source": [
    "The incidence of missing data seems to be going down, which is a good thing!\n",
    "This may be because government is becoming more efficient collecting data, or because gas stations are losing the power to omit such information, or yet because of some other reason. \n",
    "But it's both interesting and positive that information is becoming more and more complete.\n",
    "\n",
    "Let's split the overall trend by region."
   ]
  },
  {
   "cell_type": "code",
   "execution_count": 641,
   "metadata": {},
   "outputs": [
    {
     "data": {
      "image/png": "[encoded data removed]",
      "text/plain": [
       "<Figure size 432x288 with 1 Axes>"
      ]
     },
     "metadata": {
      "needs_background": "light"
     },
     "output_type": "display_data"
    }
   ],
   "source": [
    "#Define series\n",
    "time_series = data.loc[:,[\"Week\",\"Region\",\"is_missing_buy_price\"]].groupby([\"Week\",\"Region\"], as_index = False).mean()\n",
    "\n",
    "regions = time_series.Region.unique()\n",
    "for region in regions:\n",
    "    plt.plot(time_series.loc[time_series.Region == region, \"is_missing_buy_price\"])\n",
    "plt.legend(regions)\n",
    "plt.show()"
   ]
  },
  {
   "cell_type": "markdown",
   "metadata": {},
   "source": [
    "The decreasing trend is less clearer when we look at each region separately. \n",
    "\n",
    "The Center-West (CO), where we had previously seen that is where missing data is most proeminent, does not exhibit any decreasing trend. \n",
    "\n",
    "Such trend is found mostly on the South and South East, the richest portions of the country, where probably most of the gas stations are. Let's see if this is true:\n"
   ]
  },
  {
   "cell_type": "code",
   "execution_count": 644,
   "metadata": {},
   "outputs": [
    {
     "data": {
      "text/html": [
       "<div>\n",
       "<style scoped>\n",
       "    .dataframe tbody tr th:only-of-type {\n",
       "        vertical-align: middle;\n",
       "    }\n",
       "\n",
       "    .dataframe tbody tr th {\n",
       "        vertical-align: top;\n",
       "    }\n",
       "\n",
       "    .dataframe thead th {\n",
       "        text-align: right;\n",
       "    }\n",
       "</style>\n",
       "<table border=\"1\" class=\"dataframe\">\n",
       "  <thead>\n",
       "    <tr style=\"text-align: right;\">\n",
       "      <th></th>\n",
       "      <th>Number_of_Gas_Stations</th>\n",
       "    </tr>\n",
       "    <tr>\n",
       "      <th>Region</th>\n",
       "      <th></th>\n",
       "    </tr>\n",
       "  </thead>\n",
       "  <tbody>\n",
       "    <tr>\n",
       "      <th>SE</th>\n",
       "      <td>7435</td>\n",
       "    </tr>\n",
       "    <tr>\n",
       "      <th>NE</th>\n",
       "      <td>2716</td>\n",
       "    </tr>\n",
       "    <tr>\n",
       "      <th>S</th>\n",
       "      <td>2164</td>\n",
       "    </tr>\n",
       "    <tr>\n",
       "      <th>CO</th>\n",
       "      <td>1234</td>\n",
       "    </tr>\n",
       "    <tr>\n",
       "      <th>N</th>\n",
       "      <td>892</td>\n",
       "    </tr>\n",
       "  </tbody>\n",
       "</table>\n",
       "</div>"
      ],
      "text/plain": [
       "        Number_of_Gas_Stations\n",
       "Region                        \n",
       "SE                        7435\n",
       "NE                        2716\n",
       "S                         2164\n",
       "CO                        1234\n",
       "N                          892"
      ]
     },
     "execution_count": 644,
     "metadata": {},
     "output_type": "execute_result"
    }
   ],
   "source": [
    "nb_gas_stations.groupby(\"Region\").sum().sort_values(\"Number_of_Gas_Stations\", ascending = False)"
   ]
  },
  {
   "cell_type": "markdown",
   "metadata": {},
   "source": [
    "The regions with the most number of gas stations are the South-East (SE), the North-East (NE) and the South (S). Two of these exhibit a clear negative trend.\n",
    "\n",
    "The Center-West (CO) does not exhibit such a negative trend, but it is much smaller then the previously cited regions, so it doesn't weight that much on the overall trend.\n",
    "\n",
    "Either way, this graph is interesting, as it shows us that the previous graph has to be interpreted with caution. One should not interpret that our dataset has become increasingly more complete, as we were tempted to interpret it. Rather, one should interpret that our dataset has become increasingly more complete *in some regions*, namely, in the regions were it was the most complete to begin with.\n",
    "\n",
    "This means that, if we are to consider a multiple imputation model to account for the missing data in Buy_Price, we should consider an interaction term between the region where the gas station is located and a time component.\n"
   ]
  },
  {
   "cell_type": "markdown",
   "metadata": {},
   "source": [
    "Let's summarize our findings.\n",
    "\n",
    "My goal was to verify if missing data on variable *Buy_Price* was missing at random or not. \n",
    "\n",
    "Our answer to this question is that *Buy_Price* is **missing NOT at random**. In particular, our exploratory data analysis showed us that:\n",
    "\n",
    "1. The incidence of missing values is not homogeneous among the country's regions;\n",
    "2. Gas stations are more likely to omit information on their buy price in cities where there are few gas stations;\n",
    "3. The incidence of missing values has been reducing over time, but only in some regions. Since these regions account for the majority of the country's gas stations, this is reflected on the national trend. However, the regions where missing values are the most frequent are not being part of this downward trend.\n"
   ]
  },
  {
   "cell_type": "code",
   "execution_count": null,
   "metadata": {},
   "outputs": [],
   "source": []
  }
 ],
 "metadata": {
  "kernelspec": {
   "display_name": "Python 3",
   "language": "python",
   "name": "python3"
  },
  "language_info": {
   "codemirror_mode": {
    "name": "ipython",
    "version": 3
   },
   "file_extension": ".py",
   "mimetype": "text/x-python",
   "name": "python",
   "nbconvert_exporter": "python",
   "pygments_lexer": "ipython3",
   "version": "3.7.3"
  },
  "varInspector": {
   "cols": {
    "lenName": 16,
    "lenType": 16,
    "lenVar": 40
   },
   "kernels_config": {
    "python": {
     "delete_cmd_postfix": "",
     "delete_cmd_prefix": "del ",
     "library": "var_list.py",
     "varRefreshCmd": "print(var_dic_list())"
    },
    "r": {
     "delete_cmd_postfix": ") ",
     "delete_cmd_prefix": "rm(",
     "library": "var_list.r",
     "varRefreshCmd": "cat(var_dic_list()) "
    }
   },
   "types_to_exclude": [
    "module",
    "function",
    "builtin_function_or_method",
    "instance",
    "_Feature"
   ],
   "window_display": false
  }
 },
 "nbformat": 4,
 "nbformat_minor": 2
}
